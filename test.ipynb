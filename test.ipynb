{
 "cells": [
  {
   "cell_type": "code",
   "execution_count": 60,
   "metadata": {},
   "outputs": [],
   "source": [
    "import random\n",
    "import pandas as pd\n",
    "import numpy as np\n",
    "import sklearn as sk\n",
    "import matplotlib.pyplot as plt\n",
    "\n",
    "%matplotlib inline\n",
    "\n",
    "#import data with .arff extension\n",
    "from scipy.io import arff\n",
    "from sklearn.impute import SimpleImputer\n",
    "import missingno as msno\n",
    "from imblearn.over_sampling import SMOTE\n",
    "from collections import Counter\n",
    "from collections import OrderedDict\n",
    "\n",
    "plt.style.use('ggplot')\n",
    "\n",
    "# Impoting classification models\n",
    "from sklearn.svm import SVC\n",
    "from sklearn.ensemble import RandomForestClassifier\n",
    "from sklearn.linear_model import LogisticRegression\n",
    "from imblearn.ensemble import BalancedBaggingClassifier\n",
    "from sklearn.tree import DecisionTreeClassifier\n",
    "from sklearn.naive_bayes import GaussianNB\n",
    "\n",
    "import random\n",
    "\n",
    "from sklearn.model_selection import KFold\n",
    "from sklearn.metrics import accuracy_score\n",
    "from sklearn.metrics import precision_score\n",
    "from sklearn.metrics import recall_score\n",
    "from sklearn.metrics import classification_report\n",
    "from sklearn.metrics import confusion_matrix\n",
    "from sklearn.metrics import roc_curve\n",
    "from sklearn.metrics import precision_recall_curve\n"
   ]
  },
  {
   "cell_type": "code",
   "execution_count": 61,
   "metadata": {},
   "outputs": [
    {
     "data": {
      "text/html": [
       "<div>\n",
       "<style scoped>\n",
       "    .dataframe tbody tr th:only-of-type {\n",
       "        vertical-align: middle;\n",
       "    }\n",
       "\n",
       "    .dataframe tbody tr th {\n",
       "        vertical-align: top;\n",
       "    }\n",
       "\n",
       "    .dataframe thead th {\n",
       "        text-align: right;\n",
       "    }\n",
       "</style>\n",
       "<table border=\"1\" class=\"dataframe\">\n",
       "  <thead>\n",
       "    <tr style=\"text-align: right;\">\n",
       "      <th></th>\n",
       "      <th>X1</th>\n",
       "      <th>X2</th>\n",
       "      <th>X3</th>\n",
       "      <th>X4</th>\n",
       "      <th>X5</th>\n",
       "      <th>X6</th>\n",
       "      <th>X7</th>\n",
       "      <th>X8</th>\n",
       "      <th>X9</th>\n",
       "      <th>X10</th>\n",
       "      <th>...</th>\n",
       "      <th>X56</th>\n",
       "      <th>X57</th>\n",
       "      <th>X58</th>\n",
       "      <th>X59</th>\n",
       "      <th>X60</th>\n",
       "      <th>X61</th>\n",
       "      <th>X62</th>\n",
       "      <th>X63</th>\n",
       "      <th>X64</th>\n",
       "      <th>Y</th>\n",
       "    </tr>\n",
       "  </thead>\n",
       "  <tbody>\n",
       "    <tr>\n",
       "      <td>0</td>\n",
       "      <td>0.200550</td>\n",
       "      <td>0.37951</td>\n",
       "      <td>0.39641</td>\n",
       "      <td>2.0472</td>\n",
       "      <td>32.3510</td>\n",
       "      <td>0.38825</td>\n",
       "      <td>0.249760</td>\n",
       "      <td>1.33050</td>\n",
       "      <td>1.1389</td>\n",
       "      <td>0.50494</td>\n",
       "      <td>...</td>\n",
       "      <td>0.121960</td>\n",
       "      <td>0.39718</td>\n",
       "      <td>0.87804</td>\n",
       "      <td>0.001924</td>\n",
       "      <td>8.4160</td>\n",
       "      <td>5.1372</td>\n",
       "      <td>82.658</td>\n",
       "      <td>4.4158</td>\n",
       "      <td>7.4277</td>\n",
       "      <td>b'0'</td>\n",
       "    </tr>\n",
       "    <tr>\n",
       "      <td>1</td>\n",
       "      <td>0.209120</td>\n",
       "      <td>0.49988</td>\n",
       "      <td>0.47225</td>\n",
       "      <td>1.9447</td>\n",
       "      <td>14.7860</td>\n",
       "      <td>0.00000</td>\n",
       "      <td>0.258340</td>\n",
       "      <td>0.99601</td>\n",
       "      <td>1.6996</td>\n",
       "      <td>0.49788</td>\n",
       "      <td>...</td>\n",
       "      <td>0.121300</td>\n",
       "      <td>0.42002</td>\n",
       "      <td>0.85300</td>\n",
       "      <td>0.000000</td>\n",
       "      <td>4.1486</td>\n",
       "      <td>3.2732</td>\n",
       "      <td>107.350</td>\n",
       "      <td>3.4000</td>\n",
       "      <td>60.9870</td>\n",
       "      <td>b'0'</td>\n",
       "    </tr>\n",
       "    <tr>\n",
       "      <td>2</td>\n",
       "      <td>0.248660</td>\n",
       "      <td>0.69592</td>\n",
       "      <td>0.26713</td>\n",
       "      <td>1.5548</td>\n",
       "      <td>-1.1523</td>\n",
       "      <td>0.00000</td>\n",
       "      <td>0.309060</td>\n",
       "      <td>0.43695</td>\n",
       "      <td>1.3090</td>\n",
       "      <td>0.30408</td>\n",
       "      <td>...</td>\n",
       "      <td>0.241140</td>\n",
       "      <td>0.81774</td>\n",
       "      <td>0.76599</td>\n",
       "      <td>0.694840</td>\n",
       "      <td>4.9909</td>\n",
       "      <td>3.9510</td>\n",
       "      <td>134.270</td>\n",
       "      <td>2.7185</td>\n",
       "      <td>5.2078</td>\n",
       "      <td>b'0'</td>\n",
       "    </tr>\n",
       "    <tr>\n",
       "      <td>3</td>\n",
       "      <td>0.081483</td>\n",
       "      <td>0.30734</td>\n",
       "      <td>0.45879</td>\n",
       "      <td>2.4928</td>\n",
       "      <td>51.9520</td>\n",
       "      <td>0.14988</td>\n",
       "      <td>0.092704</td>\n",
       "      <td>1.86610</td>\n",
       "      <td>1.0571</td>\n",
       "      <td>0.57353</td>\n",
       "      <td>...</td>\n",
       "      <td>0.054015</td>\n",
       "      <td>0.14207</td>\n",
       "      <td>0.94598</td>\n",
       "      <td>0.000000</td>\n",
       "      <td>4.5746</td>\n",
       "      <td>3.6147</td>\n",
       "      <td>86.435</td>\n",
       "      <td>4.2228</td>\n",
       "      <td>5.5497</td>\n",
       "      <td>b'0'</td>\n",
       "    </tr>\n",
       "    <tr>\n",
       "      <td>4</td>\n",
       "      <td>0.187320</td>\n",
       "      <td>0.61323</td>\n",
       "      <td>0.22960</td>\n",
       "      <td>1.4063</td>\n",
       "      <td>-7.3128</td>\n",
       "      <td>0.18732</td>\n",
       "      <td>0.187320</td>\n",
       "      <td>0.63070</td>\n",
       "      <td>1.1559</td>\n",
       "      <td>0.38677</td>\n",
       "      <td>...</td>\n",
       "      <td>0.134850</td>\n",
       "      <td>0.48431</td>\n",
       "      <td>0.86515</td>\n",
       "      <td>0.124440</td>\n",
       "      <td>6.3985</td>\n",
       "      <td>4.3158</td>\n",
       "      <td>127.210</td>\n",
       "      <td>2.8692</td>\n",
       "      <td>7.8980</td>\n",
       "      <td>b'0'</td>\n",
       "    </tr>\n",
       "  </tbody>\n",
       "</table>\n",
       "<p>5 rows × 65 columns</p>\n",
       "</div>"
      ],
      "text/plain": [
       "         X1       X2       X3      X4       X5       X6        X7       X8  \\\n",
       "0  0.200550  0.37951  0.39641  2.0472  32.3510  0.38825  0.249760  1.33050   \n",
       "1  0.209120  0.49988  0.47225  1.9447  14.7860  0.00000  0.258340  0.99601   \n",
       "2  0.248660  0.69592  0.26713  1.5548  -1.1523  0.00000  0.309060  0.43695   \n",
       "3  0.081483  0.30734  0.45879  2.4928  51.9520  0.14988  0.092704  1.86610   \n",
       "4  0.187320  0.61323  0.22960  1.4063  -7.3128  0.18732  0.187320  0.63070   \n",
       "\n",
       "       X9      X10  ...       X56      X57      X58       X59     X60     X61  \\\n",
       "0  1.1389  0.50494  ...  0.121960  0.39718  0.87804  0.001924  8.4160  5.1372   \n",
       "1  1.6996  0.49788  ...  0.121300  0.42002  0.85300  0.000000  4.1486  3.2732   \n",
       "2  1.3090  0.30408  ...  0.241140  0.81774  0.76599  0.694840  4.9909  3.9510   \n",
       "3  1.0571  0.57353  ...  0.054015  0.14207  0.94598  0.000000  4.5746  3.6147   \n",
       "4  1.1559  0.38677  ...  0.134850  0.48431  0.86515  0.124440  6.3985  4.3158   \n",
       "\n",
       "       X62     X63      X64     Y  \n",
       "0   82.658  4.4158   7.4277  b'0'  \n",
       "1  107.350  3.4000  60.9870  b'0'  \n",
       "2  134.270  2.7185   5.2078  b'0'  \n",
       "3   86.435  4.2228   5.5497  b'0'  \n",
       "4  127.210  2.8692   7.8980  b'0'  \n",
       "\n",
       "[5 rows x 65 columns]"
      ]
     },
     "execution_count": 61,
     "metadata": {},
     "output_type": "execute_result"
    }
   ],
   "source": [
    "#load data functions\n",
    "def load_arff_raw_data():\n",
    "    N=5\n",
    "    return [arff.loadarff('data/' + str(i+1) + 'year.arff') for i in range(N)]\n",
    "\n",
    "def load_dataframes():\n",
    "    return [pd.DataFrame(data_i_year[0]) for data_i_year in load_arff_raw_data()]\n",
    "\n",
    "def set_new_headers(dataframes):\n",
    "    cols = ['X' + str(i+1) for i in range(len(dataframes[0].columns)-1)]\n",
    "    cols.append('Y')\n",
    "    for df in dataframes:\n",
    "        df.columns = cols\n",
    "        \n",
    "# dataframes is the list of pandas dataframes for the 5 year datafiles.  \n",
    "dataframes = load_dataframes()\n",
    "\n",
    "# Set the new headers for the dataframes. The new headers will have the renamed set of feature (X1 to X64)\n",
    "set_new_headers(dataframes)    \n",
    "\n",
    "# print the first 5 rows of a dataset 'year1'\n",
    "dataframes[0].head()"
   ]
  },
  {
   "cell_type": "code",
   "execution_count": 62,
   "metadata": {},
   "outputs": [],
   "source": [
    "#convert datatypes\n",
    "def convert_ratios_float(dfs):\n",
    "    for i in range(5):\n",
    "        index = 1\n",
    "        while(index<=63):\n",
    "            colname = dfs[i].columns[index]\n",
    "            col = getattr(dfs[i], colname)\n",
    "            dfs[i][colname] = col.astype(float)\n",
    "            index+=1\n",
    "\n",
    "def convert_label_int(dfs):\n",
    "    for i in range(len(dfs)):\n",
    "        col = getattr(dfs[i], 'Y')\n",
    "        dfs[i]['Y'] = col.astype(int)\n",
    "        \n",
    "\n",
    "convert_ratios_float(dataframes)\n",
    "convert_label_int(dataframes)"
   ]
  },
  {
   "cell_type": "code",
   "execution_count": 63,
   "metadata": {},
   "outputs": [
    {
     "name": "stdout",
     "output_type": "stream",
     "text": [
      "1year: Original Length= 7027 \tCleaned Length= 3194 \tMissing Data= 3833\n",
      "2year: Original Length= 10173 \tCleaned Length= 4088 \tMissing Data= 6085\n",
      "3year: Original Length= 10503 \tCleaned Length= 4885 \tMissing Data= 5618\n",
      "4year: Original Length= 9792 \tCleaned Length= 4769 \tMissing Data= 5023\n",
      "5year: Original Length= 5910 \tCleaned Length= 3031 \tMissing Data= 2879\n"
     ]
    }
   ],
   "source": [
    "#EDA and preprocessing\n",
    "\n",
    "#handling missing values\n",
    "def drop_rows(_dataframes, verbose=False):\n",
    "    clean_dataframes = [df.dropna(axis=0, how='any') for df in dataframes]\n",
    "    if verbose:\n",
    "        for i in range(len(dataframes)):\n",
    "            print(str(i+1)+'year:','Original Length=', len(dataframes[i]), '\\tCleaned Length=', len(clean_dataframes[i]), '\\tMissing Data=', len(dataframes[i])-len(clean_dataframes[i]))\n",
    "    return clean_dataframes\n",
    "\n",
    "dataframes_without_nans = drop_rows(dataframes, verbose=True)"
   ]
  },
  {
   "cell_type": "code",
   "execution_count": 64,
   "metadata": {},
   "outputs": [
    {
     "data": {
      "image/png": "[encoded data removed]",
      "text/plain": [
       "<Figure size 1440x360 with 2 Axes>"
      ]
     },
     "metadata": {},
     "output_type": "display_data"
    },
    {
     "data": {
      "image/png": "[encoded data removed]",
      "text/plain": [
       "<Figure size 1440x360 with 2 Axes>"
      ]
     },
     "metadata": {},
     "output_type": "display_data"
    },
    {
     "data": {
      "image/png": "[encoded data removed]",
      "text/plain": [
       "<Figure size 1440x360 with 2 Axes>"
      ]
     },
     "metadata": {},
     "output_type": "display_data"
    },
    {
     "data": {
      "image/png": "[encoded data removed]",
      "text/plain": [
       "<Figure size 1440x360 with 2 Axes>"
      ]
     },
     "metadata": {},
     "output_type": "display_data"
    },
    {
     "data": {
      "image/png": "[encoded data removed]",
      "text/plain": [
       "<Figure size 1440x360 with 2 Axes>"
      ]
     },
     "metadata": {},
     "output_type": "display_data"
    }
   ],
   "source": [
    "# generate the sparsity matrix (figure) for all the dataframes\n",
    "def generate_sparsity_matrix(dfs):\n",
    "    for i in range(5):\n",
    "        missing_df_i = dfs[i].columns[dfs[i].isnull().any()].tolist()\n",
    "        msno.matrix(dfs[i][missing_df_i], figsize=(20,5))\n",
    "\n",
    "generate_sparsity_matrix(dataframes)"
   ]
  },
  {
   "cell_type": "code",
   "execution_count": 81,
   "metadata": {},
   "outputs": [],
   "source": [
    "#data imputation using mean imputation\n",
    "def perform_mean_imputation(dfs):\n",
    "    # Construct an imputer with strategy as 'mean', to mean-impute along the columns\n",
    "    imputer = SimpleImputer(missing_values=np.nan, strategy='mean')\n",
    "    mean_imputed_dfs = [pd.DataFrame(imputer.fit_transform(df)) for df in dfs]\n",
    "    for i in range(len(dfs)):\n",
    "        mean_imputed_dfs[i].columns = dfs[i].columns   \n",
    "    return mean_imputed_dfs\n",
    "\n",
    "mean_imputed_dataframes = perform_mean_imputation(dataframes)\n",
    "\n",
    "imputed_dataframes_dictionary = OrderedDict()\n",
    "imputed_dataframes_dictionary['Mean'] = mean_imputed_dataframes"
   ]
  },
  {
   "cell_type": "code",
   "execution_count": 82,
   "metadata": {},
   "outputs": [
    {
     "name": "stdout",
     "output_type": "stream",
     "text": [
      "Dataset: 1year\n",
      "Y\n",
      "0    6756\n",
      "1     271\n",
      "dtype: int64\n",
      "Minority (label 1) percentage: 3.856553294435748%\n",
      "----------------------------------------------------------------\n",
      "Dataset: 2year\n",
      "Y\n",
      "0    9773\n",
      "1     400\n",
      "dtype: int64\n",
      "Minority (label 1) percentage: 3.931976801336872%\n",
      "----------------------------------------------------------------\n",
      "Dataset: 3year\n",
      "Y\n",
      "0    10008\n",
      "1      495\n",
      "dtype: int64\n",
      "Minority (label 1) percentage: 4.712939160239932%\n",
      "----------------------------------------------------------------\n",
      "Dataset: 4year\n",
      "Y\n",
      "0    9277\n",
      "1     515\n",
      "dtype: int64\n",
      "Minority (label 1) percentage: 5.259395424836601%\n",
      "----------------------------------------------------------------\n",
      "Dataset: 5year\n",
      "Y\n",
      "0    5500\n",
      "1     410\n",
      "dtype: int64\n",
      "Minority (label 1) percentage: 6.937394247038917%\n",
      "----------------------------------------------------------------\n"
     ]
    }
   ],
   "source": [
    "#Проверка на imbalanced data\n",
    "def check_data_imbalance(dfs):\n",
    "    for i in range(len(dfs)):\n",
    "        print('Dataset: '+str(i+1)+'year')\n",
    "        print(dfs[i].groupby('Y').size())\n",
    "        minority_percent = (dfs[i]['Y'].tolist().count(1) / len(dfs[i]['Y'].tolist()))*100\n",
    "        print('Minority (label 1) percentage: '+  str(minority_percent) + '%')\n",
    "        print('-'*64)\n",
    "        \n",
    "check_data_imbalance(dataframes)"
   ]
  },
  {
   "cell_type": "code",
   "execution_count": 83,
   "metadata": {},
   "outputs": [
    {
     "name": "stdout",
     "output_type": "stream",
     "text": [
      "Dataset: 1year:\n",
      "Original dataset shape Counter({0.0: 6756, 1.0: 271})\n",
      "Resampled dataset shape Counter({0.0: 6756, 1.0: 6756})\n",
      "\n",
      "Dataset: 2year:\n",
      "Original dataset shape Counter({0.0: 9773, 1.0: 400})\n",
      "Resampled dataset shape Counter({0.0: 9773, 1.0: 9773})\n",
      "\n",
      "Dataset: 3year:\n",
      "Original dataset shape Counter({0.0: 10008, 1.0: 495})\n",
      "Resampled dataset shape Counter({0.0: 10008, 1.0: 10008})\n",
      "\n",
      "Dataset: 4year:\n",
      "Original dataset shape Counter({0.0: 9277, 1.0: 515})\n",
      "Resampled dataset shape Counter({0.0: 9277, 1.0: 9277})\n",
      "\n",
      "Dataset: 5year:\n",
      "Original dataset shape Counter({0.0: 5500, 1.0: 410})\n",
      "Resampled dataset shape Counter({0.0: 5500, 1.0: 5500})\n",
      "\n"
     ]
    }
   ],
   "source": [
    "def split_dataframes_features_labels(dfs):\n",
    "    feature_dfs = [dfs[i].iloc[:,0:64] for i in range(len(dfs))]\n",
    "    label_dfs = [dfs[i].iloc[:,64] for i in range(len(dfs))]\n",
    "    return feature_dfs, label_dfs\n",
    "\n",
    "# Performs the SMOTE oversampling fro given dataframes.\n",
    "def oversample_data_SMOTE(dfs, verbose=False):\n",
    "    smote = SMOTE(ratio='auto' , random_state=42, k_neighbors=10)\n",
    "    #Split the features and labels for each dataframe\n",
    "    feature_dfs, label_dfs = split_dataframes_features_labels(dfs)\n",
    "    resampled_feature_arrays = []\n",
    "    resampled_label_arrays = []\n",
    "    for i in range(len(dfs)):\n",
    "        if verbose: print('Dataset: ' + str(i+1) + 'year:')\n",
    "        if verbose: print('Original dataset shape {}'.format(Counter(label_dfs[i])))\n",
    "        dfi_features_res, dfi_label_res = smote.fit_sample(feature_dfs[i], label_dfs[i])\n",
    "        if verbose: print('Resampled dataset shape {}\\n'.format(Counter(dfi_label_res)))\n",
    "        # Append the resampled feature and label arrays of ith dataframe to their respective list of arrays    \n",
    "        resampled_feature_arrays.append(dfi_features_res)\n",
    "        resampled_label_arrays.append(dfi_label_res)        \n",
    "    return resampled_feature_arrays, resampled_label_arrays\n",
    "\n",
    "def restructure_arrays_to_dataframes(feature_arrays, label_arrays):\n",
    "    resampled_dfs = []\n",
    "    for i in range(len(feature_arrays)):\n",
    "        feature_df = pd.DataFrame(data=feature_arrays[i])\n",
    "        label_df = pd.DataFrame(data=label_arrays[i])\n",
    "        # Must set the column header for label_df, otherwise it wont join with feature_df, as columns overlap (with col names '0')\n",
    "        label_df.columns=['Y'] \n",
    "        resampled_dfs.append(feature_df.join(label_df))\n",
    "    # re-assign the column headers for features and labels    \n",
    "    set_new_headers(resampled_dfs)    \n",
    "    return resampled_dfs\n",
    "\n",
    "\n",
    "smote_feature_arrays, smote_label_arrays = oversample_data_SMOTE(mean_imputed_dataframes, verbose=True)\n",
    "oversampled_dataframes = restructure_arrays_to_dataframes(smote_feature_arrays, smote_label_arrays)"
   ]
  },
  {
   "cell_type": "code",
   "execution_count": 84,
   "metadata": {},
   "outputs": [],
   "source": [
    "#cross validation function\n",
    "def prepare_kfold_cv_data(k, X, y, verbose=False):\n",
    "    X = X.values\n",
    "    y = y.values\n",
    "    kf = KFold(n_splits=k, shuffle=False, random_state=42)\n",
    "    X_train = []\n",
    "    y_train = []\n",
    "    X_test = []\n",
    "    y_test = []\n",
    "    \n",
    "    for train_index, test_index in kf.split(X):\n",
    "        X_train.append(X[train_index])\n",
    "        y_train.append(y[train_index])\n",
    "        X_test.append(X[test_index])\n",
    "        y_test.append(y[test_index])\n",
    "    return X_train, y_train, X_test, y_test"
   ]
  },
  {
   "cell_type": "code",
   "execution_count": 93,
   "metadata": {},
   "outputs": [],
   "source": [
    "#models declaration\n",
    "gnb_classifier = GaussianNB()\n",
    "#lr_classifier = LogisticRegression(penalty = 'l1', random_state = 0)\n",
    "dt_classifier = DecisionTreeClassifier(random_state=42)\n",
    "rf_classifier = RandomForestClassifier(n_estimators = 5, criterion = 'entropy')\n",
    "#bb_classifier = BalancedBaggingClassifier(base_estimator = RandomForestClassifier(criterion='entropy'), n_estimators = 5, bootstrap = True)\n",
    "\n",
    "models_dictionary = OrderedDict()\n",
    "\n",
    "models_dictionary['Gaussian Naive Bayes'] = gnb_classifier\n",
    "#models_dictionary['Logistic Regression'] = lr_classifier\n",
    "models_dictionary['Decision Tree'] = dt_classifier\n",
    "models_dictionary['Random Forest'] = rf_classifier\n",
    "#models_dictionary['Balanced Bagging'] = bb_classifier"
   ]
  },
  {
   "cell_type": "code",
   "execution_count": 94,
   "metadata": {},
   "outputs": [],
   "source": [
    "# perform data modeling\n",
    "def perform_data_modeling(_models_, _imputers_, verbose=False, k_folds=5):\n",
    "    \n",
    "    # 7 Models\n",
    "    # 4 Imputers\n",
    "    # 5 datasets (for 5 years)\n",
    "    # 7 metrics, averaged over all the K-Folds\n",
    "    model_results = OrderedDict()\n",
    "    \n",
    "    # Iterate over the models\n",
    "    for model_name, clf in _models_.items():\n",
    "        if verbose: print(\"-\"*120, \"\\n\", \"Model: \" + '\\033[1m' + model_name + '\\033[0m' + \" Classifier\")\n",
    "        imputer_results = OrderedDict()\n",
    "        \n",
    "        # Iterate over the different imputed_data mechanisms (Mean, k-NN, EM, MICE)\n",
    "        for imputer_name, dataframes_list in _imputers_.items():\n",
    "            if verbose: print('\\tImputer Technique: ' + '\\033[1m' + imputer_name + '\\033[0m')\n",
    "            \n",
    "            # call the split_dataframes_features_labels function to get a list of features and labels for all the dataframes\n",
    "            feature_dfs, label_dfs = split_dataframes_features_labels(dataframes_list)            \n",
    "            \n",
    "            year_results = OrderedDict()\n",
    "            \n",
    "            # Iterate over dataframe_list individually\n",
    "            for df_index in range(len(dataframes_list)):\n",
    "                if verbose: print('\\t\\tDataset: ' + '\\033[1m' + str(df_index+1) + 'year' + '\\033[0m')\n",
    "                \n",
    "                # Calling the 'prepare_kfold_cv_data' returns lists of features and labels \n",
    "                # for train and test sets respectively.\n",
    "                # The number of items in the list is equal to k_folds\n",
    "                X_train_list, y_train_list, X_test_list, y_test_list = prepare_kfold_cv_data(k_folds, feature_dfs[df_index], label_dfs[df_index], verbose)\n",
    "                \n",
    "                metrics_results = OrderedDict()\n",
    "                accuracy_list = np.zeros([k_folds])\n",
    "                precision_list = np.zeros([k_folds,2])\n",
    "                recall_list = np.zeros([k_folds,2])\n",
    "                TN_list = np.zeros([k_folds])\n",
    "                FP_list = np.zeros([k_folds])\n",
    "                FN_list = np.zeros([k_folds])\n",
    "                TP_list = np.zeros([k_folds])                \n",
    "                \n",
    "                # Iterate over all the k-folds\n",
    "                for k_index in range(k_folds):\n",
    "                    X_train = X_train_list[k_index]\n",
    "                    y_train = y_train_list[k_index]\n",
    "                    X_test = X_test_list[k_index]\n",
    "                    y_test = y_test_list[k_index]\n",
    "                    \n",
    "                    # Fit the model and \n",
    "                    clf = clf.fit(X_train, y_train)\n",
    "                    y_test_predicted = clf.predict(X_test)\n",
    "                    \n",
    "                    #code for calculating accuracy \n",
    "                    _accuracy_ = accuracy_score(y_test, y_test_predicted, normalize=True)\n",
    "                    accuracy_list[k_index] = _accuracy_\n",
    "                    \n",
    "                    #code for calculating recall \n",
    "                    _recalls_ = recall_score(y_test, y_test_predicted, average=None)\n",
    "                    recall_list[k_index] = _recalls_\n",
    "                    \n",
    "                    #code for calculating precision \n",
    "                    _precisions_ = precision_score(y_test, y_test_predicted, average=None)\n",
    "                    precision_list[k_index] = _precisions_\n",
    "                    \n",
    "                    #code for calculating confusion matrix \n",
    "                    _confusion_matrix_ = confusion_matrix(y_test, y_test_predicted)\n",
    "                    TN_list[k_index] = _confusion_matrix_[0][0]\n",
    "                    FP_list[k_index] = _confusion_matrix_[0][1]\n",
    "                    FN_list[k_index] = _confusion_matrix_[1][0]\n",
    "                    TP_list[k_index] = _confusion_matrix_[1][1]\n",
    "                \n",
    "                # creating a metrics dictionary\n",
    "                metrics_results['Accuracy'] = np.mean(accuracy_list)\n",
    "                metrics_results['Precisions'] = np.mean(precision_list, axis=0)\n",
    "                metrics_results['Recalls'] = np.mean(recall_list, axis=0)\n",
    "                metrics_results['TN'] = np.mean(TN_list)\n",
    "                metrics_results['FP'] = np.mean(FP_list)\n",
    "                metrics_results['FN'] = np.mean(FN_list)\n",
    "                metrics_results['TP'] = np.mean(TP_list)\n",
    "                \n",
    "                if verbose:\n",
    "                    print('\\t\\t\\tAccuracy:', metrics_results['Accuracy'])\n",
    "                    print('\\t\\t\\tPrecision:', metrics_results['Precisions'])\n",
    "                    print('\\t\\t\\tRecall:', metrics_results['Recalls'])\n",
    "                \n",
    "                year_results[str(df_index+1)+'year'] = metrics_results   \n",
    "                \n",
    "            imputer_results[imputer_name] = year_results\n",
    "            \n",
    "        model_results[model_name] = imputer_results  \n",
    "        \n",
    "    return model_results                "
   ]
  },
  {
   "cell_type": "code",
   "execution_count": 95,
   "metadata": {},
   "outputs": [
    {
     "name": "stdout",
     "output_type": "stream",
     "text": [
      "------------------------------------------------------------------------------------------------------------------------ \n",
      " Model: \u001b[1mGaussian Naive Bayes\u001b[0m Classifier\n",
      "\tImputer Technique: \u001b[1mMean\u001b[0m\n",
      "\t\tDataset: \u001b[1m1year\u001b[0m\n",
      "\t\t\tAccuracy: 0.18717889269677995\n",
      "\t\t\tPrecision: [0.96142349 0.        ]\n",
      "\t\t\tRecall: [0.22575541 0.        ]\n",
      "\t\tDataset: \u001b[1m2year\u001b[0m\n"
     ]
    },
    {
     "name": "stderr",
     "output_type": "stream",
     "text": [
      "C:\\Developement\\Anaconda\\lib\\site-packages\\sklearn\\metrics\\classification.py:1439: UndefinedMetricWarning: Recall is ill-defined and being set to 0.0 in labels with no true samples.\n",
      "  'recall', 'true', average, warn_for)\n",
      "C:\\Developement\\Anaconda\\lib\\site-packages\\sklearn\\metrics\\classification.py:1439: UndefinedMetricWarning: Recall is ill-defined and being set to 0.0 in labels with no true samples.\n",
      "  'recall', 'true', average, warn_for)\n",
      "C:\\Developement\\Anaconda\\lib\\site-packages\\sklearn\\metrics\\classification.py:1439: UndefinedMetricWarning: Recall is ill-defined and being set to 0.0 in labels with no true samples.\n",
      "  'recall', 'true', average, warn_for)\n",
      "C:\\Developement\\Anaconda\\lib\\site-packages\\sklearn\\metrics\\classification.py:1439: UndefinedMetricWarning: Recall is ill-defined and being set to 0.0 in labels with no true samples.\n",
      "  'recall', 'true', average, warn_for)\n",
      "C:\\Developement\\Anaconda\\lib\\site-packages\\sklearn\\metrics\\classification.py:1437: UndefinedMetricWarning: Precision is ill-defined and being set to 0.0 in labels with no predicted samples.\n",
      "  'precision', 'predicted', average, warn_for)\n",
      "C:\\Developement\\Anaconda\\lib\\site-packages\\sklearn\\metrics\\classification.py:1439: UndefinedMetricWarning: Recall is ill-defined and being set to 0.0 in labels with no true samples.\n",
      "  'recall', 'true', average, warn_for)\n",
      "C:\\Developement\\Anaconda\\lib\\site-packages\\sklearn\\metrics\\classification.py:1439: UndefinedMetricWarning: Recall is ill-defined and being set to 0.0 in labels with no true samples.\n",
      "  'recall', 'true', average, warn_for)\n",
      "C:\\Developement\\Anaconda\\lib\\site-packages\\sklearn\\metrics\\classification.py:1439: UndefinedMetricWarning: Recall is ill-defined and being set to 0.0 in labels with no true samples.\n",
      "  'recall', 'true', average, warn_for)\n",
      "C:\\Developement\\Anaconda\\lib\\site-packages\\sklearn\\metrics\\classification.py:1439: UndefinedMetricWarning: Recall is ill-defined and being set to 0.0 in labels with no true samples.\n",
      "  'recall', 'true', average, warn_for)\n",
      "C:\\Developement\\Anaconda\\lib\\site-packages\\sklearn\\metrics\\classification.py:1437: UndefinedMetricWarning: Precision is ill-defined and being set to 0.0 in labels with no predicted samples.\n",
      "  'precision', 'predicted', average, warn_for)\n"
     ]
    },
    {
     "name": "stdout",
     "output_type": "stream",
     "text": [
      "\t\t\tAccuracy: 0.19202360848378547\n",
      "\t\t\tPrecision: [0.96066863 0.        ]\n",
      "\t\t\tRecall: [0.23135498 0.        ]\n",
      "\t\tDataset: \u001b[1m3year\u001b[0m\n",
      "\t\t\tAccuracy: 0.19674971102196231\n",
      "\t\t\tPrecision: [0.95285714 0.        ]\n",
      "\t\t\tRecall: [0.24389257 0.        ]\n",
      "\t\tDataset: \u001b[1m4year\u001b[0m\n"
     ]
    },
    {
     "name": "stderr",
     "output_type": "stream",
     "text": [
      "C:\\Developement\\Anaconda\\lib\\site-packages\\sklearn\\metrics\\classification.py:1439: UndefinedMetricWarning: Recall is ill-defined and being set to 0.0 in labels with no true samples.\n",
      "  'recall', 'true', average, warn_for)\n",
      "C:\\Developement\\Anaconda\\lib\\site-packages\\sklearn\\metrics\\classification.py:1439: UndefinedMetricWarning: Recall is ill-defined and being set to 0.0 in labels with no true samples.\n",
      "  'recall', 'true', average, warn_for)\n",
      "C:\\Developement\\Anaconda\\lib\\site-packages\\sklearn\\metrics\\classification.py:1439: UndefinedMetricWarning: Recall is ill-defined and being set to 0.0 in labels with no true samples.\n",
      "  'recall', 'true', average, warn_for)\n",
      "C:\\Developement\\Anaconda\\lib\\site-packages\\sklearn\\metrics\\classification.py:1439: UndefinedMetricWarning: Recall is ill-defined and being set to 0.0 in labels with no true samples.\n",
      "  'recall', 'true', average, warn_for)\n",
      "C:\\Developement\\Anaconda\\lib\\site-packages\\sklearn\\metrics\\classification.py:1437: UndefinedMetricWarning: Precision is ill-defined and being set to 0.0 in labels with no predicted samples.\n",
      "  'precision', 'predicted', average, warn_for)\n",
      "C:\\Developement\\Anaconda\\lib\\site-packages\\sklearn\\metrics\\classification.py:1439: UndefinedMetricWarning: Recall is ill-defined and being set to 0.0 in labels with no true samples.\n",
      "  'recall', 'true', average, warn_for)\n",
      "C:\\Developement\\Anaconda\\lib\\site-packages\\sklearn\\metrics\\classification.py:1439: UndefinedMetricWarning: Recall is ill-defined and being set to 0.0 in labels with no true samples.\n",
      "  'recall', 'true', average, warn_for)\n",
      "C:\\Developement\\Anaconda\\lib\\site-packages\\sklearn\\metrics\\classification.py:1439: UndefinedMetricWarning: Recall is ill-defined and being set to 0.0 in labels with no true samples.\n",
      "  'recall', 'true', average, warn_for)\n",
      "C:\\Developement\\Anaconda\\lib\\site-packages\\sklearn\\metrics\\classification.py:1439: UndefinedMetricWarning: Recall is ill-defined and being set to 0.0 in labels with no true samples.\n",
      "  'recall', 'true', average, warn_for)\n",
      "C:\\Developement\\Anaconda\\lib\\site-packages\\sklearn\\metrics\\classification.py:1437: UndefinedMetricWarning: Precision is ill-defined and being set to 0.0 in labels with no predicted samples.\n",
      "  'precision', 'predicted', average, warn_for)\n",
      "C:\\Developement\\Anaconda\\lib\\site-packages\\sklearn\\metrics\\classification.py:1439: UndefinedMetricWarning: Recall is ill-defined and being set to 0.0 in labels with no true samples.\n",
      "  'recall', 'true', average, warn_for)\n",
      "C:\\Developement\\Anaconda\\lib\\site-packages\\sklearn\\metrics\\classification.py:1439: UndefinedMetricWarning: Recall is ill-defined and being set to 0.0 in labels with no true samples.\n",
      "  'recall', 'true', average, warn_for)\n",
      "C:\\Developement\\Anaconda\\lib\\site-packages\\sklearn\\metrics\\classification.py:1439: UndefinedMetricWarning: Recall is ill-defined and being set to 0.0 in labels with no true samples.\n",
      "  'recall', 'true', average, warn_for)\n",
      "C:\\Developement\\Anaconda\\lib\\site-packages\\sklearn\\metrics\\classification.py:1439: UndefinedMetricWarning: Recall is ill-defined and being set to 0.0 in labels with no true samples.\n",
      "  'recall', 'true', average, warn_for)\n",
      "C:\\Developement\\Anaconda\\lib\\site-packages\\sklearn\\metrics\\classification.py:1437: UndefinedMetricWarning: Precision is ill-defined and being set to 0.0 in labels with no predicted samples.\n",
      "  'precision', 'predicted', average, warn_for)\n"
     ]
    },
    {
     "name": "stdout",
     "output_type": "stream",
     "text": [
      "\t\t\tAccuracy: 0.193859930412058\n",
      "\t\t\tPrecision: [0.9473953 0.       ]\n",
      "\t\t\tRecall: [0.24646463 0.        ]\n",
      "\t\tDataset: \u001b[1m5year\u001b[0m\n",
      "\t\t\tAccuracy: 0.7390862944162436\n",
      "\t\t\tPrecision: [0.93062606 0.        ]\n",
      "\t\t\tRecall: [0.80846024 0.        ]\n",
      "------------------------------------------------------------------------------------------------------------------------ \n",
      " Model: \u001b[1mDecision Tree\u001b[0m Classifier\n",
      "\tImputer Technique: \u001b[1mMean\u001b[0m\n",
      "\t\tDataset: \u001b[1m1year\u001b[0m\n"
     ]
    },
    {
     "name": "stderr",
     "output_type": "stream",
     "text": [
      "C:\\Developement\\Anaconda\\lib\\site-packages\\sklearn\\metrics\\classification.py:1439: UndefinedMetricWarning: Recall is ill-defined and being set to 0.0 in labels with no true samples.\n",
      "  'recall', 'true', average, warn_for)\n",
      "C:\\Developement\\Anaconda\\lib\\site-packages\\sklearn\\metrics\\classification.py:1439: UndefinedMetricWarning: Recall is ill-defined and being set to 0.0 in labels with no true samples.\n",
      "  'recall', 'true', average, warn_for)\n",
      "C:\\Developement\\Anaconda\\lib\\site-packages\\sklearn\\metrics\\classification.py:1439: UndefinedMetricWarning: Recall is ill-defined and being set to 0.0 in labels with no true samples.\n",
      "  'recall', 'true', average, warn_for)\n",
      "C:\\Developement\\Anaconda\\lib\\site-packages\\sklearn\\metrics\\classification.py:1439: UndefinedMetricWarning: Recall is ill-defined and being set to 0.0 in labels with no true samples.\n",
      "  'recall', 'true', average, warn_for)\n",
      "C:\\Developement\\Anaconda\\lib\\site-packages\\sklearn\\metrics\\classification.py:1437: UndefinedMetricWarning: Precision is ill-defined and being set to 0.0 in labels with no predicted samples.\n",
      "  'precision', 'predicted', average, warn_for)\n"
     ]
    },
    {
     "name": "stdout",
     "output_type": "stream",
     "text": [
      "\t\t\tAccuracy: 0.9356666649792704\n",
      "\t\t\tPrecision: [0.96142349 0.        ]\n",
      "\t\t\tRecall: [0.97424318 0.        ]\n",
      "\t\tDataset: \u001b[1m2year\u001b[0m\n"
     ]
    },
    {
     "name": "stderr",
     "output_type": "stream",
     "text": [
      "C:\\Developement\\Anaconda\\lib\\site-packages\\sklearn\\metrics\\classification.py:1439: UndefinedMetricWarning: Recall is ill-defined and being set to 0.0 in labels with no true samples.\n",
      "  'recall', 'true', average, warn_for)\n",
      "C:\\Developement\\Anaconda\\lib\\site-packages\\sklearn\\metrics\\classification.py:1439: UndefinedMetricWarning: Recall is ill-defined and being set to 0.0 in labels with no true samples.\n",
      "  'recall', 'true', average, warn_for)\n",
      "C:\\Developement\\Anaconda\\lib\\site-packages\\sklearn\\metrics\\classification.py:1439: UndefinedMetricWarning: Recall is ill-defined and being set to 0.0 in labels with no true samples.\n",
      "  'recall', 'true', average, warn_for)\n",
      "C:\\Developement\\Anaconda\\lib\\site-packages\\sklearn\\metrics\\classification.py:1439: UndefinedMetricWarning: Recall is ill-defined and being set to 0.0 in labels with no true samples.\n",
      "  'recall', 'true', average, warn_for)\n",
      "C:\\Developement\\Anaconda\\lib\\site-packages\\sklearn\\metrics\\classification.py:1437: UndefinedMetricWarning: Precision is ill-defined and being set to 0.0 in labels with no predicted samples.\n",
      "  'precision', 'predicted', average, warn_for)\n"
     ]
    },
    {
     "name": "stdout",
     "output_type": "stream",
     "text": [
      "\t\t\tAccuracy: 0.9310826031180014\n",
      "\t\t\tPrecision: [0.96066863 0.        ]\n",
      "\t\t\tRecall: [0.97041397 0.        ]\n",
      "\t\tDataset: \u001b[1m3year\u001b[0m\n"
     ]
    },
    {
     "name": "stderr",
     "output_type": "stream",
     "text": [
      "C:\\Developement\\Anaconda\\lib\\site-packages\\sklearn\\metrics\\classification.py:1439: UndefinedMetricWarning: Recall is ill-defined and being set to 0.0 in labels with no true samples.\n",
      "  'recall', 'true', average, warn_for)\n",
      "C:\\Developement\\Anaconda\\lib\\site-packages\\sklearn\\metrics\\classification.py:1439: UndefinedMetricWarning: Recall is ill-defined and being set to 0.0 in labels with no true samples.\n",
      "  'recall', 'true', average, warn_for)\n",
      "C:\\Developement\\Anaconda\\lib\\site-packages\\sklearn\\metrics\\classification.py:1439: UndefinedMetricWarning: Recall is ill-defined and being set to 0.0 in labels with no true samples.\n",
      "  'recall', 'true', average, warn_for)\n",
      "C:\\Developement\\Anaconda\\lib\\site-packages\\sklearn\\metrics\\classification.py:1439: UndefinedMetricWarning: Recall is ill-defined and being set to 0.0 in labels with no true samples.\n",
      "  'recall', 'true', average, warn_for)\n",
      "C:\\Developement\\Anaconda\\lib\\site-packages\\sklearn\\metrics\\classification.py:1437: UndefinedMetricWarning: Precision is ill-defined and being set to 0.0 in labels with no predicted samples.\n",
      "  'precision', 'predicted', average, warn_for)\n"
     ]
    },
    {
     "name": "stdout",
     "output_type": "stream",
     "text": [
      "\t\t\tAccuracy: 0.907250515627479\n",
      "\t\t\tPrecision: [0.95285714 0.        ]\n",
      "\t\t\tRecall: [0.95439337 0.        ]\n",
      "\t\tDataset: \u001b[1m4year\u001b[0m\n"
     ]
    },
    {
     "name": "stderr",
     "output_type": "stream",
     "text": [
      "C:\\Developement\\Anaconda\\lib\\site-packages\\sklearn\\metrics\\classification.py:1439: UndefinedMetricWarning: Recall is ill-defined and being set to 0.0 in labels with no true samples.\n",
      "  'recall', 'true', average, warn_for)\n",
      "C:\\Developement\\Anaconda\\lib\\site-packages\\sklearn\\metrics\\classification.py:1439: UndefinedMetricWarning: Recall is ill-defined and being set to 0.0 in labels with no true samples.\n",
      "  'recall', 'true', average, warn_for)\n",
      "C:\\Developement\\Anaconda\\lib\\site-packages\\sklearn\\metrics\\classification.py:1439: UndefinedMetricWarning: Recall is ill-defined and being set to 0.0 in labels with no true samples.\n",
      "  'recall', 'true', average, warn_for)\n",
      "C:\\Developement\\Anaconda\\lib\\site-packages\\sklearn\\metrics\\classification.py:1439: UndefinedMetricWarning: Recall is ill-defined and being set to 0.0 in labels with no true samples.\n",
      "  'recall', 'true', average, warn_for)\n",
      "C:\\Developement\\Anaconda\\lib\\site-packages\\sklearn\\metrics\\classification.py:1437: UndefinedMetricWarning: Precision is ill-defined and being set to 0.0 in labels with no predicted samples.\n",
      "  'precision', 'predicted', average, warn_for)\n"
     ]
    },
    {
     "name": "stdout",
     "output_type": "stream",
     "text": [
      "\t\t\tAccuracy: 0.9031745262039325\n",
      "\t\t\tPrecision: [0.9473953 0.       ]\n",
      "\t\t\tRecall: [0.95577922 0.        ]\n",
      "\t\tDataset: \u001b[1m5year\u001b[0m\n"
     ]
    },
    {
     "name": "stderr",
     "output_type": "stream",
     "text": [
      "C:\\Developement\\Anaconda\\lib\\site-packages\\sklearn\\metrics\\classification.py:1439: UndefinedMetricWarning: Recall is ill-defined and being set to 0.0 in labels with no true samples.\n",
      "  'recall', 'true', average, warn_for)\n",
      "C:\\Developement\\Anaconda\\lib\\site-packages\\sklearn\\metrics\\classification.py:1439: UndefinedMetricWarning: Recall is ill-defined and being set to 0.0 in labels with no true samples.\n",
      "  'recall', 'true', average, warn_for)\n",
      "C:\\Developement\\Anaconda\\lib\\site-packages\\sklearn\\metrics\\classification.py:1439: UndefinedMetricWarning: Recall is ill-defined and being set to 0.0 in labels with no true samples.\n",
      "  'recall', 'true', average, warn_for)\n",
      "C:\\Developement\\Anaconda\\lib\\site-packages\\sklearn\\metrics\\classification.py:1439: UndefinedMetricWarning: Recall is ill-defined and being set to 0.0 in labels with no true samples.\n",
      "  'recall', 'true', average, warn_for)\n",
      "C:\\Developement\\Anaconda\\lib\\site-packages\\sklearn\\metrics\\classification.py:1437: UndefinedMetricWarning: Precision is ill-defined and being set to 0.0 in labels with no predicted samples.\n",
      "  'precision', 'predicted', average, warn_for)\n"
     ]
    },
    {
     "name": "stdout",
     "output_type": "stream",
     "text": [
      "\t\t\tAccuracy: 0.8991539763113365\n",
      "\t\t\tPrecision: [0.93062606 0.        ]\n",
      "\t\t\tRecall: [0.96852792 0.        ]\n",
      "------------------------------------------------------------------------------------------------------------------------ \n",
      " Model: \u001b[1mRandom Forest\u001b[0m Classifier\n",
      "\tImputer Technique: \u001b[1mMean\u001b[0m\n",
      "\t\tDataset: \u001b[1m1year\u001b[0m\n"
     ]
    },
    {
     "name": "stderr",
     "output_type": "stream",
     "text": [
      "C:\\Developement\\Anaconda\\lib\\site-packages\\sklearn\\metrics\\classification.py:1439: UndefinedMetricWarning: Recall is ill-defined and being set to 0.0 in labels with no true samples.\n",
      "  'recall', 'true', average, warn_for)\n",
      "C:\\Developement\\Anaconda\\lib\\site-packages\\sklearn\\metrics\\classification.py:1439: UndefinedMetricWarning: Recall is ill-defined and being set to 0.0 in labels with no true samples.\n",
      "  'recall', 'true', average, warn_for)\n",
      "C:\\Developement\\Anaconda\\lib\\site-packages\\sklearn\\metrics\\classification.py:1439: UndefinedMetricWarning: Recall is ill-defined and being set to 0.0 in labels with no true samples.\n",
      "  'recall', 'true', average, warn_for)\n",
      "C:\\Developement\\Anaconda\\lib\\site-packages\\sklearn\\metrics\\classification.py:1439: UndefinedMetricWarning: Recall is ill-defined and being set to 0.0 in labels with no true samples.\n",
      "  'recall', 'true', average, warn_for)\n",
      "C:\\Developement\\Anaconda\\lib\\site-packages\\sklearn\\metrics\\classification.py:1437: UndefinedMetricWarning: Precision is ill-defined and being set to 0.0 in labels with no predicted samples.\n",
      "  'precision', 'predicted', average, warn_for)\n"
     ]
    },
    {
     "name": "stdout",
     "output_type": "stream",
     "text": [
      "\t\t\tAccuracy: 0.9564422935765885\n",
      "\t\t\tPrecision: [0.96142349 0.        ]\n",
      "\t\t\tRecall: [0.99501881 0.        ]\n",
      "\t\tDataset: \u001b[1m2year\u001b[0m\n"
     ]
    },
    {
     "name": "stderr",
     "output_type": "stream",
     "text": [
      "C:\\Developement\\Anaconda\\lib\\site-packages\\sklearn\\metrics\\classification.py:1439: UndefinedMetricWarning: Recall is ill-defined and being set to 0.0 in labels with no true samples.\n",
      "  'recall', 'true', average, warn_for)\n",
      "C:\\Developement\\Anaconda\\lib\\site-packages\\sklearn\\metrics\\classification.py:1439: UndefinedMetricWarning: Recall is ill-defined and being set to 0.0 in labels with no true samples.\n",
      "  'recall', 'true', average, warn_for)\n",
      "C:\\Developement\\Anaconda\\lib\\site-packages\\sklearn\\metrics\\classification.py:1439: UndefinedMetricWarning: Recall is ill-defined and being set to 0.0 in labels with no true samples.\n",
      "  'recall', 'true', average, warn_for)\n",
      "C:\\Developement\\Anaconda\\lib\\site-packages\\sklearn\\metrics\\classification.py:1439: UndefinedMetricWarning: Recall is ill-defined and being set to 0.0 in labels with no true samples.\n",
      "  'recall', 'true', average, warn_for)\n",
      "C:\\Developement\\Anaconda\\lib\\site-packages\\sklearn\\metrics\\classification.py:1437: UndefinedMetricWarning: Precision is ill-defined and being set to 0.0 in labels with no predicted samples.\n",
      "  'precision', 'predicted', average, warn_for)\n"
     ]
    },
    {
     "name": "stdout",
     "output_type": "stream",
     "text": [
      "\t\t\tAccuracy: 0.9546722909554768\n",
      "\t\t\tPrecision: [0.96066863 0.        ]\n",
      "\t\t\tRecall: [0.99400366 0.        ]\n",
      "\t\tDataset: \u001b[1m3year\u001b[0m\n"
     ]
    },
    {
     "name": "stderr",
     "output_type": "stream",
     "text": [
      "C:\\Developement\\Anaconda\\lib\\site-packages\\sklearn\\metrics\\classification.py:1439: UndefinedMetricWarning: Recall is ill-defined and being set to 0.0 in labels with no true samples.\n",
      "  'recall', 'true', average, warn_for)\n",
      "C:\\Developement\\Anaconda\\lib\\site-packages\\sklearn\\metrics\\classification.py:1439: UndefinedMetricWarning: Recall is ill-defined and being set to 0.0 in labels with no true samples.\n",
      "  'recall', 'true', average, warn_for)\n",
      "C:\\Developement\\Anaconda\\lib\\site-packages\\sklearn\\metrics\\classification.py:1439: UndefinedMetricWarning: Recall is ill-defined and being set to 0.0 in labels with no true samples.\n",
      "  'recall', 'true', average, warn_for)\n",
      "C:\\Developement\\Anaconda\\lib\\site-packages\\sklearn\\metrics\\classification.py:1439: UndefinedMetricWarning: Recall is ill-defined and being set to 0.0 in labels with no true samples.\n",
      "  'recall', 'true', average, warn_for)\n",
      "C:\\Developement\\Anaconda\\lib\\site-packages\\sklearn\\metrics\\classification.py:1437: UndefinedMetricWarning: Precision is ill-defined and being set to 0.0 in labels with no predicted samples.\n",
      "  'precision', 'predicted', average, warn_for)\n"
     ]
    },
    {
     "name": "stdout",
     "output_type": "stream",
     "text": [
      "\t\t\tAccuracy: 0.9407649871943065\n",
      "\t\t\tPrecision: [0.95285714 0.        ]\n",
      "\t\t\tRecall: [0.98790784 0.        ]\n",
      "\t\tDataset: \u001b[1m4year\u001b[0m\n"
     ]
    },
    {
     "name": "stderr",
     "output_type": "stream",
     "text": [
      "C:\\Developement\\Anaconda\\lib\\site-packages\\sklearn\\metrics\\classification.py:1439: UndefinedMetricWarning: Recall is ill-defined and being set to 0.0 in labels with no true samples.\n",
      "  'recall', 'true', average, warn_for)\n",
      "C:\\Developement\\Anaconda\\lib\\site-packages\\sklearn\\metrics\\classification.py:1439: UndefinedMetricWarning: Recall is ill-defined and being set to 0.0 in labels with no true samples.\n",
      "  'recall', 'true', average, warn_for)\n",
      "C:\\Developement\\Anaconda\\lib\\site-packages\\sklearn\\metrics\\classification.py:1439: UndefinedMetricWarning: Recall is ill-defined and being set to 0.0 in labels with no true samples.\n",
      "  'recall', 'true', average, warn_for)\n",
      "C:\\Developement\\Anaconda\\lib\\site-packages\\sklearn\\metrics\\classification.py:1439: UndefinedMetricWarning: Recall is ill-defined and being set to 0.0 in labels with no true samples.\n",
      "  'recall', 'true', average, warn_for)\n",
      "C:\\Developement\\Anaconda\\lib\\site-packages\\sklearn\\metrics\\classification.py:1437: UndefinedMetricWarning: Precision is ill-defined and being set to 0.0 in labels with no predicted samples.\n",
      "  'precision', 'predicted', average, warn_for)\n",
      "C:\\Developement\\Anaconda\\lib\\site-packages\\sklearn\\metrics\\classification.py:1439: UndefinedMetricWarning: Recall is ill-defined and being set to 0.0 in labels with no true samples.\n",
      "  'recall', 'true', average, warn_for)\n"
     ]
    },
    {
     "name": "stdout",
     "output_type": "stream",
     "text": [
      "\t\t\tAccuracy: 0.9381020835190871\n",
      "\t\t\tPrecision: [0.9473953 0.       ]\n",
      "\t\t\tRecall: [0.99070678 0.        ]\n",
      "\t\tDataset: \u001b[1m5year\u001b[0m\n"
     ]
    },
    {
     "name": "stderr",
     "output_type": "stream",
     "text": [
      "C:\\Developement\\Anaconda\\lib\\site-packages\\sklearn\\metrics\\classification.py:1439: UndefinedMetricWarning: Recall is ill-defined and being set to 0.0 in labels with no true samples.\n",
      "  'recall', 'true', average, warn_for)\n",
      "C:\\Developement\\Anaconda\\lib\\site-packages\\sklearn\\metrics\\classification.py:1439: UndefinedMetricWarning: Recall is ill-defined and being set to 0.0 in labels with no true samples.\n",
      "  'recall', 'true', average, warn_for)\n"
     ]
    },
    {
     "name": "stdout",
     "output_type": "stream",
     "text": [
      "\t\t\tAccuracy: 0.9128595600676819\n",
      "\t\t\tPrecision: [0.93062606 0.        ]\n",
      "\t\t\tRecall: [0.9822335 0.       ]\n"
     ]
    },
    {
     "name": "stderr",
     "output_type": "stream",
     "text": [
      "C:\\Developement\\Anaconda\\lib\\site-packages\\sklearn\\metrics\\classification.py:1439: UndefinedMetricWarning: Recall is ill-defined and being set to 0.0 in labels with no true samples.\n",
      "  'recall', 'true', average, warn_for)\n",
      "C:\\Developement\\Anaconda\\lib\\site-packages\\sklearn\\metrics\\classification.py:1437: UndefinedMetricWarning: Precision is ill-defined and being set to 0.0 in labels with no predicted samples.\n",
      "  'precision', 'predicted', average, warn_for)\n"
     ]
    }
   ],
   "source": [
    "results = perform_data_modeling(models_dictionary, imputed_dataframes_dictionary, verbose=True, k_folds=5)"
   ]
  },
  {
   "cell_type": "code",
   "execution_count": 97,
   "metadata": {},
   "outputs": [
    {
     "data": {
      "text/html": [
       "<div>\n",
       "<style scoped>\n",
       "    .dataframe tbody tr th:only-of-type {\n",
       "        vertical-align: middle;\n",
       "    }\n",
       "\n",
       "    .dataframe tbody tr th {\n",
       "        vertical-align: top;\n",
       "    }\n",
       "\n",
       "    .dataframe thead th {\n",
       "        text-align: right;\n",
       "    }\n",
       "</style>\n",
       "<table border=\"1\" class=\"dataframe\">\n",
       "  <thead>\n",
       "    <tr style=\"text-align: right;\">\n",
       "      <th></th>\n",
       "      <th>-</th>\n",
       "      <th>Mean</th>\n",
       "    </tr>\n",
       "  </thead>\n",
       "  <tbody>\n",
       "    <tr>\n",
       "      <td>0</td>\n",
       "      <td>Gaussian Naive Bayes</td>\n",
       "      <td>0.301780</td>\n",
       "    </tr>\n",
       "    <tr>\n",
       "      <td>1</td>\n",
       "      <td>Decision Tree</td>\n",
       "      <td>0.915266</td>\n",
       "    </tr>\n",
       "    <tr>\n",
       "      <td>2</td>\n",
       "      <td>Random Forest</td>\n",
       "      <td>0.940568</td>\n",
       "    </tr>\n",
       "  </tbody>\n",
       "</table>\n",
       "</div>"
      ],
      "text/plain": [
       "                      -      Mean\n",
       "0  Gaussian Naive Bayes  0.301780\n",
       "1         Decision Tree  0.915266\n",
       "2         Random Forest  0.940568"
      ]
     },
     "execution_count": 97,
     "metadata": {},
     "output_type": "execute_result"
    }
   ],
   "source": [
    "def perform_model_ranking(models, imputers, results):\n",
    "    column_headers = ['-'] + list(imputers.keys())\n",
    "    rows = []\n",
    "    for model_name, model_details in results.items():\n",
    "        row = [model_name]\n",
    "        for imputer_name, imputer_details in model_details.items():\n",
    "            mean_accuracy = 0\n",
    "            for year, metrics in imputer_details.items():\n",
    "                mean_accuracy += metrics['Accuracy']\n",
    "            mean_accuracy = mean_accuracy/len(imputer_details)\n",
    "            row.append(mean_accuracy)\n",
    "        rows.append(row)\n",
    "    results_df = pd.DataFrame(data=rows, columns = column_headers)\n",
    "    return results_df\n",
    "\n",
    "perform_model_ranking(models_dictionary, imputed_dataframes_dictionary, results)"
   ]
  },
  {
   "cell_type": "code",
   "execution_count": null,
   "metadata": {},
   "outputs": [],
   "source": []
  }
 ],
 "metadata": {
  "kernelspec": {
   "display_name": "Python 3",
   "language": "python",
   "name": "python3"
  },
  "language_info": {
   "codemirror_mode": {
    "name": "ipython",
    "version": 3
   },
   "file_extension": ".py",
   "mimetype": "text/x-python",
   "name": "python",
   "nbconvert_exporter": "python",
   "pygments_lexer": "ipython3",
   "version": "3.7.4"
  }
 },
 "nbformat": 4,
 "nbformat_minor": 2
}
