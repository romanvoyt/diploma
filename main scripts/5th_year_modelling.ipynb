{
 "cells": [
  {
   "cell_type": "markdown",
   "metadata": {},
   "source": [
    "# Year 5"
   ]
  },
  {
   "cell_type": "markdown",
   "metadata": {},
   "source": [
    "## Importing modules"
   ]
  },
  {
   "cell_type": "code",
   "execution_count": 2,
   "metadata": {},
   "outputs": [],
   "source": [
    "#standard libs\n",
    "from math import sqrt\n",
    "import random\n",
    "import os\n",
    "\n",
    "#default data science libs\n",
    "import numpy as np\n",
    "import pandas as pd\n",
    "import matplotlib.pyplot as plt\n",
    "\n",
    "#modules for data preprocessing\n",
    "from sklearn.impute import SimpleImputer\n",
    "from imblearn.over_sampling import SMOTE\n",
    "from sklearn.model_selection import train_test_split\n",
    "from sklearn.preprocessing import StandardScaler\n",
    "from sklearn.decomposition import PCA\n",
    "from sklearn.model_selection import GridSearchCV, cross_val_score, StratifiedKFold, learning_curve, KFold\n",
    "from sklearn.model_selection import RandomizedSearchCV\n",
    "\n",
    "#classification models\n",
    "from sklearn.svm import SVC\n",
    "from sklearn.ensemble import RandomForestClassifier\n",
    "from sklearn.linear_model import LogisticRegression\n",
    "from sklearn.ensemble import GradientBoostingClassifier\n",
    "from sklearn.ensemble import BaggingClassifier\n",
    "from sklearn.tree import DecisionTreeClassifier\n",
    "import xgboost as xgb\n",
    "\n",
    "#evaluation metrics\n",
    "from sklearn import metrics\n",
    "from sklearn.metrics import confusion_matrix\n",
    "from sklearn.metrics import f1_score\n",
    "from sklearn.metrics import accuracy_score\n",
    "from sklearn.metrics import precision_score\n",
    "from sklearn.metrics import recall_score\n",
    "from sklearn.metrics import classification_report\n",
    "from sklearn.metrics import roc_curve, roc_auc_score\n",
    "from sklearn.metrics import mean_squared_error\n",
    "from sklearn.neighbors import KNeighborsClassifier\n",
    "\n",
    "\n"
   ]
  },
  {
   "cell_type": "markdown",
   "metadata": {},
   "source": [
    "## loading data"
   ]
  },
  {
   "cell_type": "code",
   "execution_count": 3,
   "metadata": {},
   "outputs": [],
   "source": [
    "data = pd.read_excel('data/5year.xlsx')\n",
    "data['B'] = (data['B'].index > 5499).astype(int)"
   ]
  },
  {
   "cell_type": "code",
   "execution_count": 4,
   "metadata": {},
   "outputs": [
    {
     "data": {
      "text/html": [
       "<div>\n",
       "<style scoped>\n",
       "    .dataframe tbody tr th:only-of-type {\n",
       "        vertical-align: middle;\n",
       "    }\n",
       "\n",
       "    .dataframe tbody tr th {\n",
       "        vertical-align: top;\n",
       "    }\n",
       "\n",
       "    .dataframe thead th {\n",
       "        text-align: right;\n",
       "    }\n",
       "</style>\n",
       "<table border=\"1\" class=\"dataframe\">\n",
       "  <thead>\n",
       "    <tr style=\"text-align: right;\">\n",
       "      <th></th>\n",
       "      <th>X1</th>\n",
       "      <th>X2</th>\n",
       "      <th>X3</th>\n",
       "      <th>X4</th>\n",
       "      <th>X5</th>\n",
       "      <th>X6</th>\n",
       "      <th>X7</th>\n",
       "      <th>X8</th>\n",
       "      <th>X9</th>\n",
       "      <th>X10</th>\n",
       "      <th>...</th>\n",
       "      <th>X56</th>\n",
       "      <th>X57</th>\n",
       "      <th>X58</th>\n",
       "      <th>X59</th>\n",
       "      <th>X60</th>\n",
       "      <th>X61</th>\n",
       "      <th>X62</th>\n",
       "      <th>X63</th>\n",
       "      <th>X64</th>\n",
       "      <th>B</th>\n",
       "    </tr>\n",
       "  </thead>\n",
       "  <tbody>\n",
       "    <tr>\n",
       "      <td>0</td>\n",
       "      <td>0.088238</td>\n",
       "      <td>0.55472</td>\n",
       "      <td>0.01134</td>\n",
       "      <td>1.0205</td>\n",
       "      <td>-66.5200</td>\n",
       "      <td>0.342040</td>\n",
       "      <td>0.109490</td>\n",
       "      <td>0.57752</td>\n",
       "      <td>1.0881</td>\n",
       "      <td>0.32036</td>\n",
       "      <td>...</td>\n",
       "      <td>0.080955</td>\n",
       "      <td>0.275430</td>\n",
       "      <td>0.91905</td>\n",
       "      <td>0.002024</td>\n",
       "      <td>7.2711</td>\n",
       "      <td>4.7343</td>\n",
       "      <td>142.760</td>\n",
       "      <td>2.5568</td>\n",
       "      <td>3.2597</td>\n",
       "      <td>0</td>\n",
       "    </tr>\n",
       "    <tr>\n",
       "      <td>1</td>\n",
       "      <td>-0.006202</td>\n",
       "      <td>0.48465</td>\n",
       "      <td>0.23298</td>\n",
       "      <td>1.5998</td>\n",
       "      <td>6.1825</td>\n",
       "      <td>0.000000</td>\n",
       "      <td>-0.006202</td>\n",
       "      <td>1.06340</td>\n",
       "      <td>1.2757</td>\n",
       "      <td>0.51535</td>\n",
       "      <td>...</td>\n",
       "      <td>-0.028591</td>\n",
       "      <td>-0.012035</td>\n",
       "      <td>1.00470</td>\n",
       "      <td>0.152220</td>\n",
       "      <td>6.0911</td>\n",
       "      <td>3.2749</td>\n",
       "      <td>111.140</td>\n",
       "      <td>3.2841</td>\n",
       "      <td>3.3700</td>\n",
       "      <td>0</td>\n",
       "    </tr>\n",
       "    <tr>\n",
       "      <td>2</td>\n",
       "      <td>0.130240</td>\n",
       "      <td>0.22142</td>\n",
       "      <td>0.57751</td>\n",
       "      <td>3.6082</td>\n",
       "      <td>120.0400</td>\n",
       "      <td>0.187640</td>\n",
       "      <td>0.162120</td>\n",
       "      <td>3.05900</td>\n",
       "      <td>1.1415</td>\n",
       "      <td>0.67731</td>\n",
       "      <td>...</td>\n",
       "      <td>0.123960</td>\n",
       "      <td>0.192290</td>\n",
       "      <td>0.87604</td>\n",
       "      <td>0.000000</td>\n",
       "      <td>8.7934</td>\n",
       "      <td>2.9870</td>\n",
       "      <td>71.531</td>\n",
       "      <td>5.1027</td>\n",
       "      <td>5.6188</td>\n",
       "      <td>0</td>\n",
       "    </tr>\n",
       "    <tr>\n",
       "      <td>3</td>\n",
       "      <td>-0.089951</td>\n",
       "      <td>0.88700</td>\n",
       "      <td>0.26927</td>\n",
       "      <td>1.5222</td>\n",
       "      <td>-55.9920</td>\n",
       "      <td>-0.073957</td>\n",
       "      <td>-0.089951</td>\n",
       "      <td>0.12740</td>\n",
       "      <td>1.2754</td>\n",
       "      <td>0.11300</td>\n",
       "      <td>...</td>\n",
       "      <td>0.418840</td>\n",
       "      <td>-0.796020</td>\n",
       "      <td>0.59074</td>\n",
       "      <td>2.878700</td>\n",
       "      <td>7.6524</td>\n",
       "      <td>3.3302</td>\n",
       "      <td>147.560</td>\n",
       "      <td>2.4735</td>\n",
       "      <td>5.9299</td>\n",
       "      <td>0</td>\n",
       "    </tr>\n",
       "    <tr>\n",
       "      <td>4</td>\n",
       "      <td>0.048179</td>\n",
       "      <td>0.55041</td>\n",
       "      <td>0.10765</td>\n",
       "      <td>1.2437</td>\n",
       "      <td>-22.9590</td>\n",
       "      <td>0.000000</td>\n",
       "      <td>0.059280</td>\n",
       "      <td>0.81682</td>\n",
       "      <td>1.5150</td>\n",
       "      <td>0.44959</td>\n",
       "      <td>...</td>\n",
       "      <td>0.240400</td>\n",
       "      <td>0.107160</td>\n",
       "      <td>0.77048</td>\n",
       "      <td>0.139380</td>\n",
       "      <td>10.1180</td>\n",
       "      <td>4.0950</td>\n",
       "      <td>106.430</td>\n",
       "      <td>3.4294</td>\n",
       "      <td>3.3622</td>\n",
       "      <td>0</td>\n",
       "    </tr>\n",
       "  </tbody>\n",
       "</table>\n",
       "<p>5 rows × 65 columns</p>\n",
       "</div>"
      ],
      "text/plain": [
       "         X1       X2       X3      X4        X5        X6        X7       X8  \\\n",
       "0  0.088238  0.55472  0.01134  1.0205  -66.5200  0.342040  0.109490  0.57752   \n",
       "1 -0.006202  0.48465  0.23298  1.5998    6.1825  0.000000 -0.006202  1.06340   \n",
       "2  0.130240  0.22142  0.57751  3.6082  120.0400  0.187640  0.162120  3.05900   \n",
       "3 -0.089951  0.88700  0.26927  1.5222  -55.9920 -0.073957 -0.089951  0.12740   \n",
       "4  0.048179  0.55041  0.10765  1.2437  -22.9590  0.000000  0.059280  0.81682   \n",
       "\n",
       "       X9      X10  ...       X56       X57      X58       X59      X60  \\\n",
       "0  1.0881  0.32036  ...  0.080955  0.275430  0.91905  0.002024   7.2711   \n",
       "1  1.2757  0.51535  ... -0.028591 -0.012035  1.00470  0.152220   6.0911   \n",
       "2  1.1415  0.67731  ...  0.123960  0.192290  0.87604  0.000000   8.7934   \n",
       "3  1.2754  0.11300  ...  0.418840 -0.796020  0.59074  2.878700   7.6524   \n",
       "4  1.5150  0.44959  ...  0.240400  0.107160  0.77048  0.139380  10.1180   \n",
       "\n",
       "      X61      X62     X63     X64  B  \n",
       "0  4.7343  142.760  2.5568  3.2597  0  \n",
       "1  3.2749  111.140  3.2841  3.3700  0  \n",
       "2  2.9870   71.531  5.1027  5.6188  0  \n",
       "3  3.3302  147.560  2.4735  5.9299  0  \n",
       "4  4.0950  106.430  3.4294  3.3622  0  \n",
       "\n",
       "[5 rows x 65 columns]"
      ]
     },
     "execution_count": 4,
     "metadata": {},
     "output_type": "execute_result"
    }
   ],
   "source": [
    "data.head()"
   ]
  },
  {
   "cell_type": "markdown",
   "metadata": {},
   "source": [
    "# Data preprocessing"
   ]
  },
  {
   "cell_type": "code",
   "execution_count": 5,
   "metadata": {},
   "outputs": [],
   "source": [
    "def set_new_headers(df):\n",
    "    cols = ['X' + str(i+1) for i in range(len(df.columns)-1)]\n",
    "    cols.append('Y')\n",
    "    df.columns = cols\n",
    "\n",
    "imputer = SimpleImputer(missing_values = np.nan, strategy='mean')\n",
    "mean_imputed_df = pd.DataFrame(imputer.fit_transform(data))\n",
    "set_new_headers(mean_imputed_df)\n",
    "\n",
    "data_imp = pd.DataFrame()\n",
    "\n",
    "X = mean_imputed_df.iloc[:, :-1]\n",
    "Y = mean_imputed_df.iloc[:,-1]"
   ]
  },
  {
   "cell_type": "code",
   "execution_count": 6,
   "metadata": {},
   "outputs": [
    {
     "data": {
      "text/html": [
       "<div>\n",
       "<style scoped>\n",
       "    .dataframe tbody tr th:only-of-type {\n",
       "        vertical-align: middle;\n",
       "    }\n",
       "\n",
       "    .dataframe tbody tr th {\n",
       "        vertical-align: top;\n",
       "    }\n",
       "\n",
       "    .dataframe thead th {\n",
       "        text-align: right;\n",
       "    }\n",
       "</style>\n",
       "<table border=\"1\" class=\"dataframe\">\n",
       "  <thead>\n",
       "    <tr style=\"text-align: right;\">\n",
       "      <th></th>\n",
       "      <th>X1</th>\n",
       "      <th>X2</th>\n",
       "      <th>X3</th>\n",
       "      <th>X4</th>\n",
       "      <th>X5</th>\n",
       "      <th>X6</th>\n",
       "      <th>X7</th>\n",
       "      <th>X8</th>\n",
       "      <th>X9</th>\n",
       "      <th>X10</th>\n",
       "      <th>...</th>\n",
       "      <th>X56</th>\n",
       "      <th>X57</th>\n",
       "      <th>X58</th>\n",
       "      <th>X59</th>\n",
       "      <th>X60</th>\n",
       "      <th>X61</th>\n",
       "      <th>X62</th>\n",
       "      <th>X63</th>\n",
       "      <th>X64</th>\n",
       "      <th>Y</th>\n",
       "    </tr>\n",
       "  </thead>\n",
       "  <tbody>\n",
       "    <tr>\n",
       "      <td>0</td>\n",
       "      <td>0.088238</td>\n",
       "      <td>0.55472</td>\n",
       "      <td>0.011340</td>\n",
       "      <td>1.0205</td>\n",
       "      <td>-66.5200</td>\n",
       "      <td>0.342040</td>\n",
       "      <td>0.109490</td>\n",
       "      <td>0.57752</td>\n",
       "      <td>1.08810</td>\n",
       "      <td>0.32036</td>\n",
       "      <td>...</td>\n",
       "      <td>0.080955</td>\n",
       "      <td>0.275430</td>\n",
       "      <td>0.91905</td>\n",
       "      <td>0.002024</td>\n",
       "      <td>7.2711</td>\n",
       "      <td>4.7343</td>\n",
       "      <td>142.760</td>\n",
       "      <td>2.5568</td>\n",
       "      <td>3.25970</td>\n",
       "      <td>0.0</td>\n",
       "    </tr>\n",
       "    <tr>\n",
       "      <td>1</td>\n",
       "      <td>-0.006202</td>\n",
       "      <td>0.48465</td>\n",
       "      <td>0.232980</td>\n",
       "      <td>1.5998</td>\n",
       "      <td>6.1825</td>\n",
       "      <td>0.000000</td>\n",
       "      <td>-0.006202</td>\n",
       "      <td>1.06340</td>\n",
       "      <td>1.27570</td>\n",
       "      <td>0.51535</td>\n",
       "      <td>...</td>\n",
       "      <td>-0.028591</td>\n",
       "      <td>-0.012035</td>\n",
       "      <td>1.00470</td>\n",
       "      <td>0.152220</td>\n",
       "      <td>6.0911</td>\n",
       "      <td>3.2749</td>\n",
       "      <td>111.140</td>\n",
       "      <td>3.2841</td>\n",
       "      <td>3.37000</td>\n",
       "      <td>0.0</td>\n",
       "    </tr>\n",
       "    <tr>\n",
       "      <td>2</td>\n",
       "      <td>0.130240</td>\n",
       "      <td>0.22142</td>\n",
       "      <td>0.577510</td>\n",
       "      <td>3.6082</td>\n",
       "      <td>120.0400</td>\n",
       "      <td>0.187640</td>\n",
       "      <td>0.162120</td>\n",
       "      <td>3.05900</td>\n",
       "      <td>1.14150</td>\n",
       "      <td>0.67731</td>\n",
       "      <td>...</td>\n",
       "      <td>0.123960</td>\n",
       "      <td>0.192290</td>\n",
       "      <td>0.87604</td>\n",
       "      <td>0.000000</td>\n",
       "      <td>8.7934</td>\n",
       "      <td>2.9870</td>\n",
       "      <td>71.531</td>\n",
       "      <td>5.1027</td>\n",
       "      <td>5.61880</td>\n",
       "      <td>0.0</td>\n",
       "    </tr>\n",
       "    <tr>\n",
       "      <td>3</td>\n",
       "      <td>-0.089951</td>\n",
       "      <td>0.88700</td>\n",
       "      <td>0.269270</td>\n",
       "      <td>1.5222</td>\n",
       "      <td>-55.9920</td>\n",
       "      <td>-0.073957</td>\n",
       "      <td>-0.089951</td>\n",
       "      <td>0.12740</td>\n",
       "      <td>1.27540</td>\n",
       "      <td>0.11300</td>\n",
       "      <td>...</td>\n",
       "      <td>0.418840</td>\n",
       "      <td>-0.796020</td>\n",
       "      <td>0.59074</td>\n",
       "      <td>2.878700</td>\n",
       "      <td>7.6524</td>\n",
       "      <td>3.3302</td>\n",
       "      <td>147.560</td>\n",
       "      <td>2.4735</td>\n",
       "      <td>5.92990</td>\n",
       "      <td>0.0</td>\n",
       "    </tr>\n",
       "    <tr>\n",
       "      <td>4</td>\n",
       "      <td>0.048179</td>\n",
       "      <td>0.55041</td>\n",
       "      <td>0.107650</td>\n",
       "      <td>1.2437</td>\n",
       "      <td>-22.9590</td>\n",
       "      <td>0.000000</td>\n",
       "      <td>0.059280</td>\n",
       "      <td>0.81682</td>\n",
       "      <td>1.51500</td>\n",
       "      <td>0.44959</td>\n",
       "      <td>...</td>\n",
       "      <td>0.240400</td>\n",
       "      <td>0.107160</td>\n",
       "      <td>0.77048</td>\n",
       "      <td>0.139380</td>\n",
       "      <td>10.1180</td>\n",
       "      <td>4.0950</td>\n",
       "      <td>106.430</td>\n",
       "      <td>3.4294</td>\n",
       "      <td>3.36220</td>\n",
       "      <td>0.0</td>\n",
       "    </tr>\n",
       "    <tr>\n",
       "      <td>5</td>\n",
       "      <td>0.231560</td>\n",
       "      <td>0.51047</td>\n",
       "      <td>0.472910</td>\n",
       "      <td>1.9393</td>\n",
       "      <td>15.1020</td>\n",
       "      <td>0.000000</td>\n",
       "      <td>0.287690</td>\n",
       "      <td>0.95899</td>\n",
       "      <td>1.79150</td>\n",
       "      <td>0.48953</td>\n",
       "      <td>...</td>\n",
       "      <td>0.184030</td>\n",
       "      <td>0.473030</td>\n",
       "      <td>0.83996</td>\n",
       "      <td>0.014242</td>\n",
       "      <td>4.6071</td>\n",
       "      <td>4.9220</td>\n",
       "      <td>102.580</td>\n",
       "      <td>3.5581</td>\n",
       "      <td>75.94100</td>\n",
       "      <td>0.0</td>\n",
       "    </tr>\n",
       "    <tr>\n",
       "      <td>6</td>\n",
       "      <td>0.099486</td>\n",
       "      <td>0.59991</td>\n",
       "      <td>0.374890</td>\n",
       "      <td>1.6529</td>\n",
       "      <td>19.0360</td>\n",
       "      <td>0.210840</td>\n",
       "      <td>0.123950</td>\n",
       "      <td>0.66690</td>\n",
       "      <td>1.09720</td>\n",
       "      <td>0.40009</td>\n",
       "      <td>...</td>\n",
       "      <td>0.088581</td>\n",
       "      <td>0.248660</td>\n",
       "      <td>0.91142</td>\n",
       "      <td>0.064344</td>\n",
       "      <td>5.4655</td>\n",
       "      <td>2.4784</td>\n",
       "      <td>130.020</td>\n",
       "      <td>2.8072</td>\n",
       "      <td>31.64500</td>\n",
       "      <td>0.0</td>\n",
       "    </tr>\n",
       "    <tr>\n",
       "      <td>7</td>\n",
       "      <td>0.078518</td>\n",
       "      <td>0.20546</td>\n",
       "      <td>0.103930</td>\n",
       "      <td>2.7939</td>\n",
       "      <td>77.7840</td>\n",
       "      <td>0.365150</td>\n",
       "      <td>0.093388</td>\n",
       "      <td>3.86720</td>\n",
       "      <td>1.23220</td>\n",
       "      <td>0.79454</td>\n",
       "      <td>...</td>\n",
       "      <td>0.188420</td>\n",
       "      <td>0.098822</td>\n",
       "      <td>0.81158</td>\n",
       "      <td>0.185660</td>\n",
       "      <td>11.3790</td>\n",
       "      <td>3.1692</td>\n",
       "      <td>53.575</td>\n",
       "      <td>6.8129</td>\n",
       "      <td>0.47096</td>\n",
       "      <td>0.0</td>\n",
       "    </tr>\n",
       "    <tr>\n",
       "      <td>8</td>\n",
       "      <td>0.125040</td>\n",
       "      <td>0.35440</td>\n",
       "      <td>0.314190</td>\n",
       "      <td>2.7127</td>\n",
       "      <td>17.9420</td>\n",
       "      <td>0.305750</td>\n",
       "      <td>0.158430</td>\n",
       "      <td>1.82170</td>\n",
       "      <td>1.23620</td>\n",
       "      <td>0.64560</td>\n",
       "      <td>...</td>\n",
       "      <td>0.191090</td>\n",
       "      <td>0.193680</td>\n",
       "      <td>0.80891</td>\n",
       "      <td>0.264790</td>\n",
       "      <td>4.7737</td>\n",
       "      <td>5.7479</td>\n",
       "      <td>59.841</td>\n",
       "      <td>6.0995</td>\n",
       "      <td>2.22740</td>\n",
       "      <td>0.0</td>\n",
       "    </tr>\n",
       "    <tr>\n",
       "      <td>9</td>\n",
       "      <td>0.293430</td>\n",
       "      <td>0.58649</td>\n",
       "      <td>0.083392</td>\n",
       "      <td>1.1694</td>\n",
       "      <td>-55.1520</td>\n",
       "      <td>-0.282110</td>\n",
       "      <td>0.293430</td>\n",
       "      <td>0.70507</td>\n",
       "      <td>1.63760</td>\n",
       "      <td>0.41351</td>\n",
       "      <td>...</td>\n",
       "      <td>0.348820</td>\n",
       "      <td>0.709610</td>\n",
       "      <td>0.72150</td>\n",
       "      <td>0.021024</td>\n",
       "      <td>9.8135</td>\n",
       "      <td>5.5104</td>\n",
       "      <td>109.700</td>\n",
       "      <td>3.3273</td>\n",
       "      <td>3.85820</td>\n",
       "      <td>0.0</td>\n",
       "    </tr>\n",
       "    <tr>\n",
       "      <td>10</td>\n",
       "      <td>0.185140</td>\n",
       "      <td>0.33996</td>\n",
       "      <td>0.382720</td>\n",
       "      <td>2.1258</td>\n",
       "      <td>54.4260</td>\n",
       "      <td>0.630350</td>\n",
       "      <td>0.231410</td>\n",
       "      <td>1.84230</td>\n",
       "      <td>1.14610</td>\n",
       "      <td>0.62631</td>\n",
       "      <td>...</td>\n",
       "      <td>0.127450</td>\n",
       "      <td>0.295610</td>\n",
       "      <td>0.87255</td>\n",
       "      <td>0.000000</td>\n",
       "      <td>15.6010</td>\n",
       "      <td>3.4034</td>\n",
       "      <td>63.107</td>\n",
       "      <td>5.7838</td>\n",
       "      <td>7.09020</td>\n",
       "      <td>0.0</td>\n",
       "    </tr>\n",
       "    <tr>\n",
       "      <td>11</td>\n",
       "      <td>0.090516</td>\n",
       "      <td>0.31429</td>\n",
       "      <td>0.424650</td>\n",
       "      <td>3.2071</td>\n",
       "      <td>24.8740</td>\n",
       "      <td>0.055652</td>\n",
       "      <td>0.105280</td>\n",
       "      <td>2.14990</td>\n",
       "      <td>1.04880</td>\n",
       "      <td>0.67569</td>\n",
       "      <td>...</td>\n",
       "      <td>0.046572</td>\n",
       "      <td>0.133960</td>\n",
       "      <td>0.95343</td>\n",
       "      <td>0.180400</td>\n",
       "      <td>7.7104</td>\n",
       "      <td>14.5870</td>\n",
       "      <td>32.182</td>\n",
       "      <td>11.3420</td>\n",
       "      <td>5.69810</td>\n",
       "      <td>0.0</td>\n",
       "    </tr>\n",
       "    <tr>\n",
       "      <td>12</td>\n",
       "      <td>0.153290</td>\n",
       "      <td>0.51563</td>\n",
       "      <td>0.310280</td>\n",
       "      <td>1.6017</td>\n",
       "      <td>19.2110</td>\n",
       "      <td>0.000000</td>\n",
       "      <td>0.193670</td>\n",
       "      <td>0.93936</td>\n",
       "      <td>4.28280</td>\n",
       "      <td>0.48437</td>\n",
       "      <td>...</td>\n",
       "      <td>0.050271</td>\n",
       "      <td>0.316470</td>\n",
       "      <td>0.95493</td>\n",
       "      <td>0.000000</td>\n",
       "      <td>70.3090</td>\n",
       "      <td>14.2110</td>\n",
       "      <td>43.945</td>\n",
       "      <td>8.3058</td>\n",
       "      <td>24.60200</td>\n",
       "      <td>0.0</td>\n",
       "    </tr>\n",
       "    <tr>\n",
       "      <td>13</td>\n",
       "      <td>0.011567</td>\n",
       "      <td>0.35237</td>\n",
       "      <td>0.073708</td>\n",
       "      <td>1.2583</td>\n",
       "      <td>-43.3650</td>\n",
       "      <td>0.000000</td>\n",
       "      <td>0.017250</td>\n",
       "      <td>1.83790</td>\n",
       "      <td>0.96593</td>\n",
       "      <td>0.64763</td>\n",
       "      <td>...</td>\n",
       "      <td>0.039168</td>\n",
       "      <td>0.017860</td>\n",
       "      <td>0.98218</td>\n",
       "      <td>0.097927</td>\n",
       "      <td>5.4821</td>\n",
       "      <td>5.7226</td>\n",
       "      <td>107.840</td>\n",
       "      <td>3.3848</td>\n",
       "      <td>1.50710</td>\n",
       "      <td>0.0</td>\n",
       "    </tr>\n",
       "    <tr>\n",
       "      <td>14</td>\n",
       "      <td>0.373360</td>\n",
       "      <td>0.20718</td>\n",
       "      <td>0.633830</td>\n",
       "      <td>4.0593</td>\n",
       "      <td>92.2840</td>\n",
       "      <td>0.334810</td>\n",
       "      <td>0.373360</td>\n",
       "      <td>3.82660</td>\n",
       "      <td>2.47250</td>\n",
       "      <td>0.79282</td>\n",
       "      <td>...</td>\n",
       "      <td>0.149640</td>\n",
       "      <td>0.470930</td>\n",
       "      <td>0.85002</td>\n",
       "      <td>0.000000</td>\n",
       "      <td>26.8820</td>\n",
       "      <td>3.5158</td>\n",
       "      <td>30.585</td>\n",
       "      <td>11.9340</td>\n",
       "      <td>15.55200</td>\n",
       "      <td>0.0</td>\n",
       "    </tr>\n",
       "  </tbody>\n",
       "</table>\n",
       "<p>15 rows × 65 columns</p>\n",
       "</div>"
      ],
      "text/plain": [
       "          X1       X2        X3      X4        X5        X6        X7  \\\n",
       "0   0.088238  0.55472  0.011340  1.0205  -66.5200  0.342040  0.109490   \n",
       "1  -0.006202  0.48465  0.232980  1.5998    6.1825  0.000000 -0.006202   \n",
       "2   0.130240  0.22142  0.577510  3.6082  120.0400  0.187640  0.162120   \n",
       "3  -0.089951  0.88700  0.269270  1.5222  -55.9920 -0.073957 -0.089951   \n",
       "4   0.048179  0.55041  0.107650  1.2437  -22.9590  0.000000  0.059280   \n",
       "5   0.231560  0.51047  0.472910  1.9393   15.1020  0.000000  0.287690   \n",
       "6   0.099486  0.59991  0.374890  1.6529   19.0360  0.210840  0.123950   \n",
       "7   0.078518  0.20546  0.103930  2.7939   77.7840  0.365150  0.093388   \n",
       "8   0.125040  0.35440  0.314190  2.7127   17.9420  0.305750  0.158430   \n",
       "9   0.293430  0.58649  0.083392  1.1694  -55.1520 -0.282110  0.293430   \n",
       "10  0.185140  0.33996  0.382720  2.1258   54.4260  0.630350  0.231410   \n",
       "11  0.090516  0.31429  0.424650  3.2071   24.8740  0.055652  0.105280   \n",
       "12  0.153290  0.51563  0.310280  1.6017   19.2110  0.000000  0.193670   \n",
       "13  0.011567  0.35237  0.073708  1.2583  -43.3650  0.000000  0.017250   \n",
       "14  0.373360  0.20718  0.633830  4.0593   92.2840  0.334810  0.373360   \n",
       "\n",
       "         X8       X9      X10  ...       X56       X57      X58       X59  \\\n",
       "0   0.57752  1.08810  0.32036  ...  0.080955  0.275430  0.91905  0.002024   \n",
       "1   1.06340  1.27570  0.51535  ... -0.028591 -0.012035  1.00470  0.152220   \n",
       "2   3.05900  1.14150  0.67731  ...  0.123960  0.192290  0.87604  0.000000   \n",
       "3   0.12740  1.27540  0.11300  ...  0.418840 -0.796020  0.59074  2.878700   \n",
       "4   0.81682  1.51500  0.44959  ...  0.240400  0.107160  0.77048  0.139380   \n",
       "5   0.95899  1.79150  0.48953  ...  0.184030  0.473030  0.83996  0.014242   \n",
       "6   0.66690  1.09720  0.40009  ...  0.088581  0.248660  0.91142  0.064344   \n",
       "7   3.86720  1.23220  0.79454  ...  0.188420  0.098822  0.81158  0.185660   \n",
       "8   1.82170  1.23620  0.64560  ...  0.191090  0.193680  0.80891  0.264790   \n",
       "9   0.70507  1.63760  0.41351  ...  0.348820  0.709610  0.72150  0.021024   \n",
       "10  1.84230  1.14610  0.62631  ...  0.127450  0.295610  0.87255  0.000000   \n",
       "11  2.14990  1.04880  0.67569  ...  0.046572  0.133960  0.95343  0.180400   \n",
       "12  0.93936  4.28280  0.48437  ...  0.050271  0.316470  0.95493  0.000000   \n",
       "13  1.83790  0.96593  0.64763  ...  0.039168  0.017860  0.98218  0.097927   \n",
       "14  3.82660  2.47250  0.79282  ...  0.149640  0.470930  0.85002  0.000000   \n",
       "\n",
       "        X60      X61      X62      X63       X64    Y  \n",
       "0    7.2711   4.7343  142.760   2.5568   3.25970  0.0  \n",
       "1    6.0911   3.2749  111.140   3.2841   3.37000  0.0  \n",
       "2    8.7934   2.9870   71.531   5.1027   5.61880  0.0  \n",
       "3    7.6524   3.3302  147.560   2.4735   5.92990  0.0  \n",
       "4   10.1180   4.0950  106.430   3.4294   3.36220  0.0  \n",
       "5    4.6071   4.9220  102.580   3.5581  75.94100  0.0  \n",
       "6    5.4655   2.4784  130.020   2.8072  31.64500  0.0  \n",
       "7   11.3790   3.1692   53.575   6.8129   0.47096  0.0  \n",
       "8    4.7737   5.7479   59.841   6.0995   2.22740  0.0  \n",
       "9    9.8135   5.5104  109.700   3.3273   3.85820  0.0  \n",
       "10  15.6010   3.4034   63.107   5.7838   7.09020  0.0  \n",
       "11   7.7104  14.5870   32.182  11.3420   5.69810  0.0  \n",
       "12  70.3090  14.2110   43.945   8.3058  24.60200  0.0  \n",
       "13   5.4821   5.7226  107.840   3.3848   1.50710  0.0  \n",
       "14  26.8820   3.5158   30.585  11.9340  15.55200  0.0  \n",
       "\n",
       "[15 rows x 65 columns]"
      ]
     },
     "execution_count": 6,
     "metadata": {},
     "output_type": "execute_result"
    }
   ],
   "source": [
    "mean_imputed_df.head(15)"
   ]
  },
  {
   "cell_type": "code",
   "execution_count": 7,
   "metadata": {},
   "outputs": [],
   "source": [
    "#Using smote to balance data\n",
    "X_train, X_test, y_train, y_test = train_test_split(X,Y, test_size=0.3, random_state=10)\n",
    "smote = SMOTE(random_state=32)\n",
    "X_train_sm, y_train_sm= smote.fit_sample(X_train, y_train)"
   ]
  },
  {
   "cell_type": "code",
   "execution_count": 8,
   "metadata": {},
   "outputs": [],
   "source": [
    "#cross validation\n",
    "nfolds = 10\n",
    "nclass = 2\n",
    "ntrain = X_train_sm.shape[0]\n",
    "ntest = X_test.shape[0]\n",
    "\n",
    "\n",
    "kfold = KFold(n_splits=nfolds, random_state=20, shuffle=True)\n",
    "cross_val = StratifiedKFold(nfolds)"
   ]
  },
  {
   "cell_type": "markdown",
   "metadata": {},
   "source": [
    "# Creating model objects\n",
    "## Tuning model hyperparameters"
   ]
  },
  {
   "cell_type": "markdown",
   "metadata": {},
   "source": [
    "### Logistic regression"
   ]
  },
  {
   "cell_type": "code",
   "execution_count": 9,
   "metadata": {},
   "outputs": [
    {
     "name": "stdout",
     "output_type": "stream",
     "text": [
      "Fitting 10 folds for each of 9 candidates, totalling 90 fits\n"
     ]
    },
    {
     "name": "stderr",
     "output_type": "stream",
     "text": [
      "[Parallel(n_jobs=4)]: Using backend LokyBackend with 4 concurrent workers.\n",
      "[Parallel(n_jobs=4)]: Done  42 tasks      | elapsed:   19.8s\n",
      "[Parallel(n_jobs=4)]: Done  90 out of  90 | elapsed:   34.2s finished\n"
     ]
    },
    {
     "name": "stdout",
     "output_type": "stream",
     "text": [
      "Accuracy (LogisticRegression): 0.8074824629773967 with params LogisticRegression(C=0.55, class_weight=None, dual=False, fit_intercept=True,\n",
      "                   intercept_scaling=1, l1_ratio=None, max_iter=100,\n",
      "                   multi_class='warn', n_jobs=None, penalty='l2',\n",
      "                   random_state=None, solver='newton-cg', tol=0.0001, verbose=0,\n",
      "                   warm_start=False)\n"
     ]
    },
    {
     "name": "stderr",
     "output_type": "stream",
     "text": [
      "C:\\Developement\\Anaconda\\lib\\site-packages\\sklearn\\utils\\optimize.py:203: ConvergenceWarning: newton-cg failed to converge. Increase the number of iterations.\n",
      "  \"number of iterations.\", ConvergenceWarning)\n"
     ]
    }
   ],
   "source": [
    "log_reg = LogisticRegression()\n",
    "\n",
    "log_reg_params = {\"C\": [0.5, 0.55, 0.6],\n",
    "                 \"solver\": ['newton-cg', 'sag', 'saga']}\n",
    "\n",
    "lr_grid = GridSearchCV(log_reg, log_reg_params, cv=cross_val, refit=True, verbose=1, n_jobs=4)\n",
    "\n",
    "lr_grid.fit(X_train_sm, y_train_sm)\n",
    "lr_best_est = lr_grid.best_estimator_\n",
    "\n",
    "print(\"Accuracy (LogisticRegression): {} with params {}\".format(lr_grid.best_score_, lr_best_est))\n"
   ]
  },
  {
   "cell_type": "markdown",
   "metadata": {},
   "source": [
    "## Decision tree"
   ]
  },
  {
   "cell_type": "code",
   "execution_count": 10,
   "metadata": {},
   "outputs": [
    {
     "name": "stderr",
     "output_type": "stream",
     "text": [
      "[Parallel(n_jobs=4)]: Using backend LokyBackend with 4 concurrent workers.\n"
     ]
    },
    {
     "name": "stdout",
     "output_type": "stream",
     "text": [
      "Fitting 10 folds for each of 9 candidates, totalling 90 fits\n"
     ]
    },
    {
     "name": "stderr",
     "output_type": "stream",
     "text": [
      "[Parallel(n_jobs=4)]: Done  42 tasks      | elapsed:    4.3s\n",
      "[Parallel(n_jobs=4)]: Done  90 out of  90 | elapsed:    9.2s finished\n"
     ]
    },
    {
     "name": "stdout",
     "output_type": "stream",
     "text": [
      "Accuracy (Decision tree): 0.928163159262146 with params DecisionTreeClassifier(class_weight=None, criterion='gini', max_depth=60,\n",
      "                       max_features=None, max_leaf_nodes=150,\n",
      "                       min_impurity_decrease=0.0, min_impurity_split=None,\n",
      "                       min_samples_leaf=1, min_samples_split=2,\n",
      "                       min_weight_fraction_leaf=0.0, presort=False,\n",
      "                       random_state=None, splitter='best')\n"
     ]
    }
   ],
   "source": [
    "d_tree = DecisionTreeClassifier()\n",
    "d_tree_params = {'criterion': ['gini'],\n",
    "                'max_depth': [50, 60, 70],\n",
    "                'max_leaf_nodes': [100, 125, 150]}\n",
    "\n",
    "dt_grid = GridSearchCV(d_tree, d_tree_params, cv=cross_val, refit=True, verbose=1, n_jobs=4)\n",
    "dt_grid.fit(X_train_sm, y_train_sm)\n",
    "\n",
    "dt_best_est = dt_grid.best_estimator_\n",
    "print(\"Accuracy (Decision tree): {} with params {}\".format(dt_grid.best_score_, dt_best_est))"
   ]
  },
  {
   "cell_type": "markdown",
   "metadata": {},
   "source": [
    "## Random forest"
   ]
  },
  {
   "cell_type": "code",
   "execution_count": 11,
   "metadata": {},
   "outputs": [
    {
     "name": "stdout",
     "output_type": "stream",
     "text": [
      "Fitting 10 folds for each of 8 candidates, totalling 80 fits\n"
     ]
    },
    {
     "name": "stderr",
     "output_type": "stream",
     "text": [
      "C:\\Developement\\Anaconda\\lib\\site-packages\\sklearn\\model_selection\\_search.py:266: UserWarning: The total space of parameters 8 is smaller than n_iter=10. Running 8 iterations. For exhaustive searches, use GridSearchCV.\n",
      "  % (grid_size, self.n_iter, grid_size), UserWarning)\n",
      "[Parallel(n_jobs=-1)]: Using backend LokyBackend with 4 concurrent workers.\n",
      "[Parallel(n_jobs=-1)]: Done  42 tasks      | elapsed:  4.5min\n",
      "[Parallel(n_jobs=-1)]: Done  80 out of  80 | elapsed:  8.9min finished\n"
     ]
    },
    {
     "name": "stdout",
     "output_type": "stream",
     "text": [
      "Accuracy (Random forest): 0.9051701740711873 with params RandomForestClassifier(bootstrap=True, class_weight=None, criterion='gini',\n",
      "                       max_depth=25, max_features=64, max_leaf_nodes=25,\n",
      "                       min_impurity_decrease=0.0, min_impurity_split=None,\n",
      "                       min_samples_leaf=1, min_samples_split=2,\n",
      "                       min_weight_fraction_leaf=0.0, n_estimators=200,\n",
      "                       n_jobs=None, oob_score=False, random_state=None,\n",
      "                       verbose=0, warm_start=False)\n"
     ]
    }
   ],
   "source": [
    "r_forest = RandomForestClassifier()\n",
    "r_forest_params = {'n_estimators': [150,200],\n",
    "                'criterion': ['gini'],\n",
    "                'max_depth': [25, 50],\n",
    "                'max_features': [64],\n",
    "                'max_leaf_nodes': [10, 25],\n",
    "                'bootstrap': [True]}\n",
    "\n",
    "#r_forest_grid = GridSearchCV(r_forest, r_forest_params, cv=cross_val, refit=True, verbose=1, n_jobs=4)\n",
    "#r_forest_grid.fit(X_train_sm, y_train_sm)\n",
    "rf_random_grid = RandomizedSearchCV(r_forest, r_forest_params, cv=cross_val, refit=True, verbose=1, n_jobs=-1)\n",
    "rf_random_grid.fit(X_train_sm, y_train_sm)\n",
    "\n",
    "rf_best_est = rf_random_grid.best_estimator_\n",
    "print(\"Accuracy (Random forest): {} with params {}\".format(rf_random_grid.best_score_, rf_best_est))"
   ]
  },
  {
   "cell_type": "markdown",
   "metadata": {},
   "source": [
    "## SVM"
   ]
  },
  {
   "cell_type": "code",
   "execution_count": 12,
   "metadata": {},
   "outputs": [],
   "source": [
    "#\n",
    "# SVM classifier в разработке\n",
    "#\n",
    "\n",
    "\n",
    "#svm = SVC()\n",
    "#svm_params = {'kernel': ['linear', 'poly'],\n",
    "#                'probability': [True],\n",
    "#                'decision_function_shape': ['ovo']}\n",
    "\n",
    "#svm_grid = GridSearchCV(svm, svm_params, cv=cross_val, refit=True, verbose=1, n_jobs=-1)\n",
    "#svm_grid.fit(X_train_sm, y_train_sm)\n",
    "\n",
    "#svm_grid = RandomizedSearchCV(svm, svm_params, cv=cross_val, refit=True, verbose=1, n_jobs=-1)\n",
    "#svm_grid.fit(X_train_sm, y_train_sm)\n",
    "\n",
    "#svm_best_est = svm_grid.best_estimator_\n",
    "#print(\"Accuracy (SVM): {} with params {}\".format(svm_grid.best_score_, svm_best_est))"
   ]
  },
  {
   "cell_type": "markdown",
   "metadata": {},
   "source": [
    "## XGboost"
   ]
  },
  {
   "cell_type": "code",
   "execution_count": 13,
   "metadata": {},
   "outputs": [
    {
     "name": "stdout",
     "output_type": "stream",
     "text": [
      "Fitting 10 folds for each of 10 candidates, totalling 100 fits\n"
     ]
    },
    {
     "name": "stderr",
     "output_type": "stream",
     "text": [
      "[Parallel(n_jobs=-1)]: Using backend LokyBackend with 4 concurrent workers.\n",
      "[Parallel(n_jobs=-1)]: Done  42 tasks      | elapsed:   37.3s\n",
      "[Parallel(n_jobs=-1)]: Done 100 out of 100 | elapsed:  1.6min finished\n"
     ]
    },
    {
     "name": "stdout",
     "output_type": "stream",
     "text": [
      "Accuracy (XGboosting): 0.9854507664328397 with params XGBClassifier(base_score=0.5, booster='gbtree', colsample_bylevel=1,\n",
      "              colsample_bynode=1, colsample_bytree=1, eta=0.3, gamma=0,\n",
      "              learning_rate=0.15, max_delta_step=0, max_depth=8,\n",
      "              min_child_weight=1, missing=None, n_estimators=100, n_jobs=1,\n",
      "              nthread=None, objective='binary:logitraw', random_state=0,\n",
      "              reg_alpha=0, reg_lambda=1, scale_pos_weight=1, seed=None,\n",
      "              silent=None, subsample=1, verbosity=1)\n"
     ]
    }
   ],
   "source": [
    "xgboost = xgb.XGBClassifier()\n",
    "xg_params = {\n",
    "    'booster': ['gbtree', 'gblinear'],\n",
    "    'eta': [0.3, 0,5],\n",
    "    'objective': ['binary:logitraw', 'binary:hinge'],\n",
    "    'gamma':[0,1],\n",
    "    'max_depth': [8],\n",
    "    'learning_rate': [0.1, 0.15]\n",
    "}\n",
    "\n",
    "#xgb_grid = GridSearchCV(xgboost, xg_params, cv=cross_val, refit=True, verbose=1, n_jobs=4)\n",
    "#xgb_grid.fit(X_train_sm, y_train_sm)\n",
    "\n",
    "xgb_grid = RandomizedSearchCV(xgboost, xg_params, cv=cross_val, refit=True, verbose=1, n_jobs=-1)\n",
    "xgb_grid.fit(X_train_sm, y_train_sm)\n",
    "\n",
    "xgb_best_est = xgb_grid.best_estimator_\n",
    "print(\"Accuracy (XGboosting): {} with params {}\".format(xgb_grid.best_score_, xgb_best_est))"
   ]
  },
  {
   "cell_type": "markdown",
   "metadata": {},
   "source": [
    "# Second level"
   ]
  },
  {
   "cell_type": "code",
   "execution_count": 14,
   "metadata": {},
   "outputs": [],
   "source": [
    "def show_feature_importance(model, features):\n",
    "    plt.figure(figsize=(12,8))\n",
    "    results=pd.DataFrame({'feature': features, 'importance': model.feature_importances_})\n",
    "    results=results.sort_values('importance', ascending=False)\n",
    "    print(results.head(10))\n",
    "    results.head(20).plot(x = 'feature', y = 'importance', kind = 'barh',\n",
    "                     color = 'red', edgecolor = 'k', title = 'Feature Importances')\n",
    "    return results"
   ]
  },
  {
   "cell_type": "code",
   "execution_count": 15,
   "metadata": {},
   "outputs": [],
   "source": [
    "ntrain=X_train_sm.shape[0]\n",
    "ntest = X_test.shape[0]\n",
    "nclass = 2\n",
    "SEED = 42\n",
    "NFOLDS = 10\n",
    "\n",
    "kf = KFold(n_splits=NFOLDS, random_state=SEED, shuffle=True)\n",
    "labels = ['Normal','Bankruptcy']"
   ]
  },
  {
   "cell_type": "code",
   "execution_count": 16,
   "metadata": {},
   "outputs": [],
   "source": [
    "def BuildModel(best_alg, X_train, y_train, X_test, kf, ntrain, ntest, nclass, NfOLDS):\n",
    "    Xr_train = np.zeros((ntrain, nclass))\n",
    "    Xr_test = np.zeros((ntest, nclass))\n",
    "    tr_ind = np.arange(ntrain)\n",
    "    \n",
    "    for i, (train, test) in enumerate(kf.split(tr_ind)):\n",
    "        clf = best_alg\n",
    "        clf.fit(X_train[train], y_train[train])\n",
    "        sc = clf.score(X_train[test], y_train[test])\n",
    "        print(i, 'accuracy', sc)\n",
    "        Xr_train[test] = clf.predict_proba(X_train[test])\n",
    "        Xr_test += clf.predict_proba(X_test)/NFOLDS\n",
    "    \n",
    "    return Xr_train, Xr_test\n",
    "\n",
    "\n",
    "def BuildModel_Xgb(best_alg, X_train, y_train, X_test, kf, ntrain, ntest, nclass, NfOLDS):\n",
    "    Xr_train = np.zeros((ntrain, nclass))\n",
    "    Xr_test = np.zeros((ntest, nclass))\n",
    "    tr_ind = np.arange(ntrain)\n",
    "    \n",
    "    for i, (train, test) in enumerate(kf.split(tr_ind)):\n",
    "        clf = best_alg\n",
    "        clf.fit(X_train[train], y_train[train])\n",
    "        sc = clf.score(X_train[test], y_train[test])\n",
    "        print(i, 'accuracy', sc)\n",
    "        Xr_train[test] = clf.predict_proba(X_train[test])\n",
    "        Xr_test += clf.predict_proba(X_test, validate_features=False)/NFOLDS\n",
    "    \n",
    "    return Xr_train, Xr_test"
   ]
  },
  {
   "cell_type": "code",
   "execution_count": 17,
   "metadata": {},
   "outputs": [],
   "source": [
    "def show_accuracy(Xr, y, labels, best, nclass):\n",
    "    pred=[]\n",
    "    for x in Xr:\n",
    "        if x > best:\n",
    "            pred.append(1)\n",
    "        else:\n",
    "            pred.append(0)\n",
    "    print(classification_report(y,pred, target_names=labels, digits=4))\n",
    "    print(confusion_matrix(y, pred, labels=range(nclass)))"
   ]
  },
  {
   "cell_type": "code",
   "execution_count": 18,
   "metadata": {},
   "outputs": [],
   "source": [
    "def show_auc(y_train_set, pred_train_set):\n",
    "    thresholds = np.linspace(0.01, 0.5, 1000)\n",
    "    f1_sc = np.array([f1_score(y_train_set, pred_train_set[:,1] > thr) for thr in thresholds])\n",
    "    plt.figure(figsize=(12,8))\n",
    "    plt.plot(thresholds, f1_sc, linewidth=4)\n",
    "    plt.ylabel(\"F1 score\", fontsize=18)\n",
    "    plt.xlabel(\"Threshold\", fontsize=18)\n",
    "    \n",
    "    best_model_f1 = thresholds[f1_sc.argmax()]\n",
    "    \n",
    "    return best_model_f1"
   ]
  },
  {
   "cell_type": "markdown",
   "metadata": {},
   "source": [
    "## Logistic regression"
   ]
  },
  {
   "cell_type": "code",
   "execution_count": 19,
   "metadata": {},
   "outputs": [
    {
     "name": "stderr",
     "output_type": "stream",
     "text": [
      "C:\\Developement\\Anaconda\\lib\\site-packages\\sklearn\\utils\\optimize.py:203: ConvergenceWarning: newton-cg failed to converge. Increase the number of iterations.\n",
      "  \"number of iterations.\", ConvergenceWarning)\n"
     ]
    },
    {
     "name": "stdout",
     "output_type": "stream",
     "text": [
      "0 accuracy 0.8116883116883117\n"
     ]
    },
    {
     "name": "stderr",
     "output_type": "stream",
     "text": [
      "C:\\Developement\\Anaconda\\lib\\site-packages\\scipy\\optimize\\linesearch.py:466: LineSearchWarning: The line search algorithm did not converge\n",
      "  warn('The line search algorithm did not converge', LineSearchWarning)\n",
      "C:\\Developement\\Anaconda\\lib\\site-packages\\scipy\\optimize\\linesearch.py:314: LineSearchWarning: The line search algorithm did not converge\n",
      "  warn('The line search algorithm did not converge', LineSearchWarning)\n",
      "C:\\Developement\\Anaconda\\lib\\site-packages\\sklearn\\utils\\optimize.py:203: ConvergenceWarning: newton-cg failed to converge. Increase the number of iterations.\n",
      "  \"number of iterations.\", ConvergenceWarning)\n"
     ]
    },
    {
     "name": "stdout",
     "output_type": "stream",
     "text": [
      "1 accuracy 0.8155844155844156\n"
     ]
    },
    {
     "name": "stderr",
     "output_type": "stream",
     "text": [
      "C:\\Developement\\Anaconda\\lib\\site-packages\\sklearn\\utils\\optimize.py:203: ConvergenceWarning: newton-cg failed to converge. Increase the number of iterations.\n",
      "  \"number of iterations.\", ConvergenceWarning)\n"
     ]
    },
    {
     "name": "stdout",
     "output_type": "stream",
     "text": [
      "2 accuracy 0.8051948051948052\n"
     ]
    },
    {
     "name": "stderr",
     "output_type": "stream",
     "text": [
      "C:\\Developement\\Anaconda\\lib\\site-packages\\sklearn\\utils\\optimize.py:203: ConvergenceWarning: newton-cg failed to converge. Increase the number of iterations.\n",
      "  \"number of iterations.\", ConvergenceWarning)\n"
     ]
    },
    {
     "name": "stdout",
     "output_type": "stream",
     "text": [
      "3 accuracy 0.8155844155844156\n"
     ]
    },
    {
     "name": "stderr",
     "output_type": "stream",
     "text": [
      "C:\\Developement\\Anaconda\\lib\\site-packages\\sklearn\\utils\\optimize.py:203: ConvergenceWarning: newton-cg failed to converge. Increase the number of iterations.\n",
      "  \"number of iterations.\", ConvergenceWarning)\n"
     ]
    },
    {
     "name": "stdout",
     "output_type": "stream",
     "text": [
      "4 accuracy 0.8051948051948052\n"
     ]
    },
    {
     "name": "stderr",
     "output_type": "stream",
     "text": [
      "C:\\Developement\\Anaconda\\lib\\site-packages\\sklearn\\utils\\optimize.py:203: ConvergenceWarning: newton-cg failed to converge. Increase the number of iterations.\n",
      "  \"number of iterations.\", ConvergenceWarning)\n"
     ]
    },
    {
     "name": "stdout",
     "output_type": "stream",
     "text": [
      "5 accuracy 0.8077922077922078\n"
     ]
    },
    {
     "name": "stderr",
     "output_type": "stream",
     "text": [
      "C:\\Developement\\Anaconda\\lib\\site-packages\\sklearn\\utils\\optimize.py:203: ConvergenceWarning: newton-cg failed to converge. Increase the number of iterations.\n",
      "  \"number of iterations.\", ConvergenceWarning)\n"
     ]
    },
    {
     "name": "stdout",
     "output_type": "stream",
     "text": [
      "6 accuracy 0.7857142857142857\n"
     ]
    },
    {
     "name": "stderr",
     "output_type": "stream",
     "text": [
      "C:\\Developement\\Anaconda\\lib\\site-packages\\sklearn\\utils\\optimize.py:203: ConvergenceWarning: newton-cg failed to converge. Increase the number of iterations.\n",
      "  \"number of iterations.\", ConvergenceWarning)\n"
     ]
    },
    {
     "name": "stdout",
     "output_type": "stream",
     "text": [
      "7 accuracy 0.8038961038961039\n"
     ]
    },
    {
     "name": "stderr",
     "output_type": "stream",
     "text": [
      "C:\\Developement\\Anaconda\\lib\\site-packages\\sklearn\\utils\\optimize.py:203: ConvergenceWarning: newton-cg failed to converge. Increase the number of iterations.\n",
      "  \"number of iterations.\", ConvergenceWarning)\n"
     ]
    },
    {
     "name": "stdout",
     "output_type": "stream",
     "text": [
      "8 accuracy 0.788036410923277\n",
      "9 accuracy 0.8062418725617685\n"
     ]
    },
    {
     "name": "stderr",
     "output_type": "stream",
     "text": [
      "C:\\Developement\\Anaconda\\lib\\site-packages\\sklearn\\utils\\optimize.py:203: ConvergenceWarning: newton-cg failed to converge. Increase the number of iterations.\n",
      "  \"number of iterations.\", ConvergenceWarning)\n"
     ]
    }
   ],
   "source": [
    "lr_best = LogisticRegression(C=0.5, class_weight=None, dual=False, fit_intercept=True,\n",
    "                   intercept_scaling=1, l1_ratio=None, max_iter=100,\n",
    "                   multi_class='warn', n_jobs=None, penalty='l2',\n",
    "                   random_state=None, solver='newton-cg', tol=0.0001, verbose=0,\n",
    "                   warm_start=False)\n",
    "pred_train, pred_test=BuildModel(lr_best, X_train_sm, y_train_sm, X_test,kf, ntrain, ntest, nclass, NFOLDS)"
   ]
  },
  {
   "cell_type": "code",
   "execution_count": 20,
   "metadata": {},
   "outputs": [
    {
     "name": "stdout",
     "output_type": "stream",
     "text": [
      "0.8059403469362286\n",
      "0.4505050505050505\n"
     ]
    },
    {
     "data": {
      "image/png": "[encoded data removed]",
      "text/plain": [
       "<Figure size 864x576 with 1 Axes>"
      ]
     },
     "metadata": {
      "needs_background": "light"
     },
     "output_type": "display_data"
    }
   ],
   "source": [
    "thresholds = np.linspace(0.01, 0.5, 100)\n",
    "f1_sc = np.array([f1_score(y_train_sm,pred_train[:,1] > thr) for thr in thresholds])\n",
    "plt.figure(figsize=(12,8))\n",
    "plt.plot(thresholds, f1_sc, linewidth=4 )\n",
    "plt.ylabel(\"F1 score\", fontsize=18)\n",
    "plt.xlabel(\"Threshold\", fontsize=18)\n",
    "best_lr = thresholds[f1_sc.argmax()]\n",
    "print(f1_sc.max())\n",
    "print(best_lr)"
   ]
  },
  {
   "cell_type": "code",
   "execution_count": 21,
   "metadata": {},
   "outputs": [
    {
     "name": "stdout",
     "output_type": "stream",
     "text": [
      "              precision    recall  f1-score   support\n",
      "\n",
      "      Normal     0.8246    0.7571    0.7894      3849\n",
      "  Bankruptcy     0.7755    0.8389    0.8059      3849\n",
      "\n",
      "    accuracy                         0.7980      7698\n",
      "   macro avg     0.8000    0.7980    0.7977      7698\n",
      "weighted avg     0.8000    0.7980    0.7977      7698\n",
      "\n",
      "[[2914  935]\n",
      " [ 620 3229]]\n"
     ]
    }
   ],
   "source": [
    "show_accuracy(pred_train[:,1],y_train_sm, labels, best_lr, nclass)"
   ]
  },
  {
   "cell_type": "markdown",
   "metadata": {},
   "source": [
    "## Decision tree"
   ]
  },
  {
   "cell_type": "code",
   "execution_count": 22,
   "metadata": {},
   "outputs": [
    {
     "name": "stdout",
     "output_type": "stream",
     "text": [
      "0 accuracy 0.9337662337662338\n",
      "1 accuracy 0.9311688311688312\n",
      "2 accuracy 0.9311688311688312\n",
      "3 accuracy 0.9181818181818182\n",
      "4 accuracy 0.9311688311688312\n",
      "5 accuracy 0.938961038961039\n",
      "6 accuracy 0.912987012987013\n",
      "7 accuracy 0.9337662337662338\n",
      "8 accuracy 0.9245773732119635\n",
      "9 accuracy 0.9232769830949284\n"
     ]
    }
   ],
   "source": [
    "dt_best = DecisionTreeClassifier(class_weight=None, criterion='gini', max_depth=50,\n",
    "                       max_features=None, max_leaf_nodes=150,\n",
    "                       min_impurity_decrease=0.0, min_impurity_split=None,\n",
    "                       min_samples_leaf=1, min_samples_split=2,\n",
    "                       min_weight_fraction_leaf=0.0, presort=False,\n",
    "                       random_state=None, splitter='best')\n",
    "pred_train_dt, pred_test_dt=BuildModel(dt_best, X_train_sm, y_train_sm, X_test,kf, ntrain, ntest, nclass, NFOLDS)"
   ]
  },
  {
   "cell_type": "code",
   "execution_count": 23,
   "metadata": {},
   "outputs": [
    {
     "name": "stdout",
     "output_type": "stream",
     "text": [
      "0.9294478527607362\n",
      "0.2525252525252525\n"
     ]
    },
    {
     "data": {
      "image/png": "[encoded data removed]",
      "text/plain": [
       "<Figure size 864x576 with 1 Axes>"
      ]
     },
     "metadata": {
      "needs_background": "light"
     },
     "output_type": "display_data"
    }
   ],
   "source": [
    "thresholds = np.linspace(0.01, 0.5, 100)\n",
    "f1_sc_dt = np.array([f1_score(y_train_sm,pred_train_dt[:,1] > thr) for thr in thresholds])\n",
    "plt.figure(figsize=(12,8))\n",
    "plt.plot(thresholds, f1_sc_dt, linewidth=4 )\n",
    "plt.ylabel(\"F1 score\", fontsize=18)\n",
    "plt.xlabel(\"Threshold\", fontsize=18)\n",
    "best_dt_f1 = thresholds[f1_sc_dt.argmax()]\n",
    "print(f1_sc_dt.max())\n",
    "print(best_dt_f1)"
   ]
  },
  {
   "cell_type": "code",
   "execution_count": 24,
   "metadata": {},
   "outputs": [
    {
     "name": "stdout",
     "output_type": "stream",
     "text": [
      "              precision    recall  f1-score   support\n",
      "\n",
      "      Normal     0.9428    0.9119    0.9271      3849\n",
      "  Bankruptcy     0.9147    0.9447    0.9294      3849\n",
      "\n",
      "    accuracy                         0.9283      7698\n",
      "   macro avg     0.9288    0.9283    0.9283      7698\n",
      "weighted avg     0.9288    0.9283    0.9283      7698\n",
      "\n",
      "[[3510  339]\n",
      " [ 213 3636]]\n"
     ]
    }
   ],
   "source": [
    "show_accuracy(pred_train_dt[:,1],y_train_sm, labels, best_dt_f1, nclass)"
   ]
  },
  {
   "cell_type": "markdown",
   "metadata": {},
   "source": [
    "## Random forest"
   ]
  },
  {
   "cell_type": "code",
   "execution_count": 25,
   "metadata": {},
   "outputs": [
    {
     "name": "stdout",
     "output_type": "stream",
     "text": [
      "0 accuracy 0.9025974025974026\n",
      "1 accuracy 0.9025974025974026\n",
      "2 accuracy 0.912987012987013\n",
      "3 accuracy 0.912987012987013\n",
      "4 accuracy 0.9116883116883117\n",
      "5 accuracy 0.9025974025974026\n",
      "6 accuracy 0.8935064935064935\n",
      "7 accuracy 0.9051948051948052\n",
      "8 accuracy 0.8985695708712613\n",
      "9 accuracy 0.9167750325097529\n"
     ]
    }
   ],
   "source": [
    "rf_best = RandomForestClassifier(bootstrap=True, class_weight=None, criterion='gini',\n",
    "                       max_depth=25, max_features=64, max_leaf_nodes=25,\n",
    "                       min_impurity_decrease=0.0, min_impurity_split=None,\n",
    "                       min_samples_leaf=1, min_samples_split=2,\n",
    "                       min_weight_fraction_leaf=0.0, n_estimators=150,\n",
    "                       n_jobs=None, oob_score=False, random_state=None,\n",
    "                       verbose=0, warm_start=False)\n",
    "\n",
    "pred_train_rf, pred_test_rf = BuildModel(rf_best, X_train_sm, y_train_sm, X_test,kf, ntrain, ntest, nclass, NFOLDS)"
   ]
  },
  {
   "cell_type": "code",
   "execution_count": 26,
   "metadata": {},
   "outputs": [
    {
     "name": "stdout",
     "output_type": "stream",
     "text": [
      "f1 score of random forest:  0.9068908419309643\n",
      "0.45545454545454545\n"
     ]
    },
    {
     "data": {
      "image/png": "[encoded data removed]",
      "text/plain": [
       "<Figure size 864x576 with 1 Axes>"
      ]
     },
     "metadata": {
      "needs_background": "light"
     },
     "output_type": "display_data"
    }
   ],
   "source": [
    "thresholds = np.linspace(0.01, 0.5, 100)\n",
    "f1_sc_rf = np.array([f1_score(y_train_sm,pred_train_rf[:,1] > thr) for thr in thresholds])\n",
    "plt.figure(figsize=(12,8))\n",
    "plt.plot(thresholds, f1_sc_rf, linewidth=4 )\n",
    "plt.ylabel(\"F1 score\", fontsize=18)\n",
    "plt.xlabel(\"Threshold\", fontsize=18)\n",
    "best_rf_f1 = thresholds[f1_sc_rf.argmax()]\n",
    "print('f1 score of random forest: ', f1_sc_rf.max())\n",
    "print(best_rf_f1)"
   ]
  },
  {
   "cell_type": "code",
   "execution_count": 27,
   "metadata": {},
   "outputs": [
    {
     "name": "stdout",
     "output_type": "stream",
     "text": [
      "              precision    recall  f1-score   support\n",
      "\n",
      "      Normal     0.9218    0.8852    0.9031      3849\n",
      "  Bankruptcy     0.8896    0.9249    0.9069      3849\n",
      "\n",
      "    accuracy                         0.9050      7698\n",
      "   macro avg     0.9057    0.9050    0.9050      7698\n",
      "weighted avg     0.9057    0.9050    0.9050      7698\n",
      "\n",
      "[[3407  442]\n",
      " [ 289 3560]]\n"
     ]
    }
   ],
   "source": [
    "show_accuracy(pred_train_rf[:,1],y_train_sm, labels, best_rf_f1, nclass)"
   ]
  },
  {
   "cell_type": "markdown",
   "metadata": {},
   "source": [
    "## Xgboost"
   ]
  },
  {
   "cell_type": "code",
   "execution_count": 28,
   "metadata": {},
   "outputs": [
    {
     "name": "stdout",
     "output_type": "stream",
     "text": [
      "0 accuracy 0.9818181818181818\n",
      "1 accuracy 0.9831168831168832\n",
      "2 accuracy 0.9922077922077922\n",
      "3 accuracy 0.9883116883116884\n",
      "4 accuracy 0.9766233766233766\n",
      "5 accuracy 0.9818181818181818\n",
      "6 accuracy 0.9831168831168832\n",
      "7 accuracy 0.9857142857142858\n",
      "8 accuracy 0.9791937581274383\n",
      "9 accuracy 0.9843953185955787\n"
     ]
    }
   ],
   "source": [
    "xgb_best = xgb.XGBClassifier(base_score=0.5, booster='gbtree', colsample_bylevel=1,\n",
    "              colsample_bynode=1, colsample_bytree=1, eta=5, gamma=0,\n",
    "              learning_rate=0.1, max_delta_step=0, max_depth=8,\n",
    "              min_child_weight=1, missing=None, n_estimators=100, n_jobs=1,\n",
    "              nthread=None, objective='binary:logitraw', random_state=0,\n",
    "              reg_alpha=0, reg_lambda=1, scale_pos_weight=1, seed=None,\n",
    "              silent=None, subsample=1, verbosity=1)\n",
    "\n",
    "pred_train_xgb, pred_test_xgb = BuildModel_Xgb(xgb_best, X_train_sm, y_train_sm, X_test, kf, ntrain, ntest, nclass, NFOLDS)"
   ]
  },
  {
   "cell_type": "code",
   "execution_count": 29,
   "metadata": {},
   "outputs": [
    {
     "name": "stdout",
     "output_type": "stream",
     "text": [
      "0.9837377387712958\n"
     ]
    },
    {
     "data": {
      "image/png": "[encoded data removed]",
      "text/plain": [
       "<Figure size 864x576 with 1 Axes>"
      ]
     },
     "metadata": {
      "needs_background": "light"
     },
     "output_type": "display_data"
    }
   ],
   "source": [
    "thresholds = np.linspace(0.01, 0.5, 100)\n",
    "f1_sc_xgb = np.array([f1_score(y_train_sm,pred_train_xgb[:,1] > thr) for thr in thresholds])\n",
    "plt.figure(figsize=(12,8))\n",
    "plt.plot(thresholds, f1_sc_xgb, linewidth=4 )\n",
    "plt.ylabel(\"F1 score\", fontsize=18)\n",
    "plt.xlabel(\"Threshold\", fontsize=18)\n",
    "best_thr_xgb = thresholds[f1_sc_xgb.argmax()]\n",
    "print(f1_sc_xgb.max())"
   ]
  },
  {
   "cell_type": "code",
   "execution_count": 30,
   "metadata": {},
   "outputs": [
    {
     "name": "stdout",
     "output_type": "stream",
     "text": [
      "              precision    recall  f1-score   support\n",
      "\n",
      "      Normal     0.9900    0.9771    0.9835      3849\n",
      "  Bankruptcy     0.9774    0.9901    0.9837      3849\n",
      "\n",
      "    accuracy                         0.9836      7698\n",
      "   macro avg     0.9837    0.9836    0.9836      7698\n",
      "weighted avg     0.9837    0.9836    0.9836      7698\n",
      "\n",
      "[[3761   88]\n",
      " [  38 3811]]\n"
     ]
    }
   ],
   "source": [
    "show_accuracy(pred_train_xgb[:,1],y_train_sm, labels, best_thr_xgb, nclass)"
   ]
  }
 ],
 "metadata": {
  "kernelspec": {
   "display_name": "Python 3",
   "language": "python",
   "name": "python3"
  },
  "language_info": {
   "codemirror_mode": {
    "name": "ipython",
    "version": 3
   },
   "file_extension": ".py",
   "mimetype": "text/x-python",
   "name": "python",
   "nbconvert_exporter": "python",
   "pygments_lexer": "ipython3",
   "version": "3.7.4"
  }
 },
 "nbformat": 4,
 "nbformat_minor": 2
}
