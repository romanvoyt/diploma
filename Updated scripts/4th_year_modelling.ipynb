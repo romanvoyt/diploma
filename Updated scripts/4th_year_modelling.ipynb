{
 "cells": [
  {
   "cell_type": "markdown",
   "metadata": {},
   "source": [
    "# Year 4"
   ]
  },
  {
   "cell_type": "markdown",
   "metadata": {},
   "source": [
    "## Importing modules"
   ]
  },
  {
   "cell_type": "code",
   "execution_count": 1,
   "metadata": {},
   "outputs": [],
   "source": [
    "#standard libs\n",
    "from math import sqrt\n",
    "import random\n",
    "import os\n",
    "\n",
    "#default data science libs\n",
    "import numpy as np\n",
    "import pandas as pd\n",
    "import matplotlib.pyplot as plt\n",
    "\n",
    "#modules for data preprocessing\n",
    "from sklearn.impute import SimpleImputer\n",
    "from imblearn.over_sampling import SMOTE\n",
    "from sklearn.model_selection import train_test_split\n",
    "from sklearn.preprocessing import StandardScaler\n",
    "from sklearn.decomposition import PCA\n",
    "from sklearn.model_selection import GridSearchCV, cross_val_score, StratifiedKFold, learning_curve, KFold\n",
    "from sklearn.model_selection import RandomizedSearchCV\n",
    "\n",
    "#classification models\n",
    "from sklearn.svm import SVC\n",
    "from sklearn.ensemble import RandomForestClassifier\n",
    "from sklearn.linear_model import LogisticRegression\n",
    "from sklearn.ensemble import GradientBoostingClassifier\n",
    "from sklearn.ensemble import BaggingClassifier\n",
    "from sklearn.tree import DecisionTreeClassifier\n",
    "import xgboost as xgb\n",
    "\n",
    "#evaluation metrics\n",
    "from sklearn import metrics\n",
    "from sklearn.metrics import confusion_matrix\n",
    "from sklearn.metrics import f1_score\n",
    "from sklearn.metrics import accuracy_score\n",
    "from sklearn.metrics import precision_score\n",
    "from sklearn.metrics import recall_score\n",
    "from sklearn.metrics import classification_report\n",
    "from sklearn.metrics import roc_curve, roc_auc_score\n",
    "from sklearn.metrics import mean_squared_error\n",
    "from sklearn.neighbors import KNeighborsClassifier\n",
    "\n",
    "\n"
   ]
  },
  {
   "cell_type": "markdown",
   "metadata": {},
   "source": [
    "## loading data"
   ]
  },
  {
   "cell_type": "code",
   "execution_count": 2,
   "metadata": {},
   "outputs": [],
   "source": [
    "data = pd.read_excel('data/4year.xlsx')\n",
    "data['B'] = (data['B'].index > 9276).astype(int)"
   ]
  },
  {
   "cell_type": "code",
   "execution_count": 3,
   "metadata": {},
   "outputs": [
    {
     "data": {
      "text/html": [
       "<div>\n",
       "<style scoped>\n",
       "    .dataframe tbody tr th:only-of-type {\n",
       "        vertical-align: middle;\n",
       "    }\n",
       "\n",
       "    .dataframe tbody tr th {\n",
       "        vertical-align: top;\n",
       "    }\n",
       "\n",
       "    .dataframe thead th {\n",
       "        text-align: right;\n",
       "    }\n",
       "</style>\n",
       "<table border=\"1\" class=\"dataframe\">\n",
       "  <thead>\n",
       "    <tr style=\"text-align: right;\">\n",
       "      <th></th>\n",
       "      <th>X1</th>\n",
       "      <th>X2</th>\n",
       "      <th>X3</th>\n",
       "      <th>X4</th>\n",
       "      <th>X5</th>\n",
       "      <th>X6</th>\n",
       "      <th>X7</th>\n",
       "      <th>X8</th>\n",
       "      <th>X9</th>\n",
       "      <th>X10</th>\n",
       "      <th>...</th>\n",
       "      <th>X56</th>\n",
       "      <th>X57</th>\n",
       "      <th>X58</th>\n",
       "      <th>X59</th>\n",
       "      <th>X60</th>\n",
       "      <th>X61</th>\n",
       "      <th>X62</th>\n",
       "      <th>X63</th>\n",
       "      <th>X64</th>\n",
       "      <th>B</th>\n",
       "    </tr>\n",
       "  </thead>\n",
       "  <tbody>\n",
       "    <tr>\n",
       "      <td>0</td>\n",
       "      <td>0.159290</td>\n",
       "      <td>0.46240</td>\n",
       "      <td>0.07773</td>\n",
       "      <td>1.1683</td>\n",
       "      <td>-44.853</td>\n",
       "      <td>0.467020</td>\n",
       "      <td>0.189480</td>\n",
       "      <td>0.82895</td>\n",
       "      <td>1.1223</td>\n",
       "      <td>0.38330</td>\n",
       "      <td>...</td>\n",
       "      <td>0.108990</td>\n",
       "      <td>0.41557</td>\n",
       "      <td>0.89101</td>\n",
       "      <td>0.001422</td>\n",
       "      <td>7.7928</td>\n",
       "      <td>4.9914</td>\n",
       "      <td>119.810</td>\n",
       "      <td>3.0465</td>\n",
       "      <td>3.0560</td>\n",
       "      <td>0</td>\n",
       "    </tr>\n",
       "    <tr>\n",
       "      <td>1</td>\n",
       "      <td>-0.127430</td>\n",
       "      <td>0.46243</td>\n",
       "      <td>0.26917</td>\n",
       "      <td>1.7517</td>\n",
       "      <td>7.597</td>\n",
       "      <td>0.000925</td>\n",
       "      <td>-0.127430</td>\n",
       "      <td>1.16250</td>\n",
       "      <td>1.2944</td>\n",
       "      <td>0.53757</td>\n",
       "      <td>...</td>\n",
       "      <td>-0.089372</td>\n",
       "      <td>-0.23704</td>\n",
       "      <td>1.06250</td>\n",
       "      <td>0.150410</td>\n",
       "      <td>5.4327</td>\n",
       "      <td>3.4629</td>\n",
       "      <td>100.970</td>\n",
       "      <td>3.6150</td>\n",
       "      <td>3.4725</td>\n",
       "      <td>0</td>\n",
       "    </tr>\n",
       "    <tr>\n",
       "      <td>2</td>\n",
       "      <td>0.070488</td>\n",
       "      <td>0.23570</td>\n",
       "      <td>0.52781</td>\n",
       "      <td>3.2393</td>\n",
       "      <td>125.680</td>\n",
       "      <td>0.163670</td>\n",
       "      <td>0.086895</td>\n",
       "      <td>2.87180</td>\n",
       "      <td>1.0574</td>\n",
       "      <td>0.67689</td>\n",
       "      <td>...</td>\n",
       "      <td>0.054286</td>\n",
       "      <td>0.10413</td>\n",
       "      <td>0.94571</td>\n",
       "      <td>0.000000</td>\n",
       "      <td>7.1070</td>\n",
       "      <td>3.3808</td>\n",
       "      <td>76.076</td>\n",
       "      <td>4.7978</td>\n",
       "      <td>4.7818</td>\n",
       "      <td>0</td>\n",
       "    </tr>\n",
       "    <tr>\n",
       "      <td>3</td>\n",
       "      <td>0.136760</td>\n",
       "      <td>0.40538</td>\n",
       "      <td>0.31543</td>\n",
       "      <td>1.8705</td>\n",
       "      <td>19.115</td>\n",
       "      <td>0.504970</td>\n",
       "      <td>0.136760</td>\n",
       "      <td>1.45390</td>\n",
       "      <td>1.1144</td>\n",
       "      <td>0.58938</td>\n",
       "      <td>...</td>\n",
       "      <td>0.102630</td>\n",
       "      <td>0.23203</td>\n",
       "      <td>0.89737</td>\n",
       "      <td>0.073024</td>\n",
       "      <td>6.1384</td>\n",
       "      <td>4.2241</td>\n",
       "      <td>88.299</td>\n",
       "      <td>4.1337</td>\n",
       "      <td>4.6484</td>\n",
       "      <td>0</td>\n",
       "    </tr>\n",
       "    <tr>\n",
       "      <td>4</td>\n",
       "      <td>-0.110080</td>\n",
       "      <td>0.69793</td>\n",
       "      <td>0.18878</td>\n",
       "      <td>1.2713</td>\n",
       "      <td>-15.344</td>\n",
       "      <td>0.000000</td>\n",
       "      <td>-0.110080</td>\n",
       "      <td>0.43282</td>\n",
       "      <td>1.7350</td>\n",
       "      <td>0.30207</td>\n",
       "      <td>...</td>\n",
       "      <td>0.439880</td>\n",
       "      <td>-0.36440</td>\n",
       "      <td>0.57153</td>\n",
       "      <td>0.000000</td>\n",
       "      <td>18.8010</td>\n",
       "      <td>2.7925</td>\n",
       "      <td>146.390</td>\n",
       "      <td>2.4934</td>\n",
       "      <td>15.0360</td>\n",
       "      <td>0</td>\n",
       "    </tr>\n",
       "  </tbody>\n",
       "</table>\n",
       "<p>5 rows × 65 columns</p>\n",
       "</div>"
      ],
      "text/plain": [
       "         X1       X2       X3      X4       X5        X6        X7       X8  \\\n",
       "0  0.159290  0.46240  0.07773  1.1683  -44.853  0.467020  0.189480  0.82895   \n",
       "1 -0.127430  0.46243  0.26917  1.7517    7.597  0.000925 -0.127430  1.16250   \n",
       "2  0.070488  0.23570  0.52781  3.2393  125.680  0.163670  0.086895  2.87180   \n",
       "3  0.136760  0.40538  0.31543  1.8705   19.115  0.504970  0.136760  1.45390   \n",
       "4 -0.110080  0.69793  0.18878  1.2713  -15.344  0.000000 -0.110080  0.43282   \n",
       "\n",
       "       X9      X10  ...       X56      X57      X58       X59      X60  \\\n",
       "0  1.1223  0.38330  ...  0.108990  0.41557  0.89101  0.001422   7.7928   \n",
       "1  1.2944  0.53757  ... -0.089372 -0.23704  1.06250  0.150410   5.4327   \n",
       "2  1.0574  0.67689  ...  0.054286  0.10413  0.94571  0.000000   7.1070   \n",
       "3  1.1144  0.58938  ...  0.102630  0.23203  0.89737  0.073024   6.1384   \n",
       "4  1.7350  0.30207  ...  0.439880 -0.36440  0.57153  0.000000  18.8010   \n",
       "\n",
       "      X61      X62     X63      X64  B  \n",
       "0  4.9914  119.810  3.0465   3.0560  0  \n",
       "1  3.4629  100.970  3.6150   3.4725  0  \n",
       "2  3.3808   76.076  4.7978   4.7818  0  \n",
       "3  4.2241   88.299  4.1337   4.6484  0  \n",
       "4  2.7925  146.390  2.4934  15.0360  0  \n",
       "\n",
       "[5 rows x 65 columns]"
      ]
     },
     "execution_count": 3,
     "metadata": {},
     "output_type": "execute_result"
    }
   ],
   "source": [
    "data.head()"
   ]
  },
  {
   "cell_type": "markdown",
   "metadata": {},
   "source": [
    "# Data preprocessing"
   ]
  },
  {
   "cell_type": "code",
   "execution_count": 4,
   "metadata": {},
   "outputs": [],
   "source": [
    "def set_new_headers(df):\n",
    "    cols = ['X' + str(i+1) for i in range(len(df.columns)-1)]\n",
    "    cols.append('Y')\n",
    "    df.columns = cols\n",
    "\n",
    "imputer = SimpleImputer(missing_values = np.nan, strategy='mean')\n",
    "mean_imputed_df = pd.DataFrame(imputer.fit_transform(data))\n",
    "set_new_headers(mean_imputed_df)\n",
    "\n",
    "data_imp = pd.DataFrame()\n",
    "\n",
    "X = mean_imputed_df.iloc[:, :-1]\n",
    "Y = mean_imputed_df.iloc[:,-1]"
   ]
  },
  {
   "cell_type": "code",
   "execution_count": 5,
   "metadata": {},
   "outputs": [
    {
     "data": {
      "text/html": [
       "<div>\n",
       "<style scoped>\n",
       "    .dataframe tbody tr th:only-of-type {\n",
       "        vertical-align: middle;\n",
       "    }\n",
       "\n",
       "    .dataframe tbody tr th {\n",
       "        vertical-align: top;\n",
       "    }\n",
       "\n",
       "    .dataframe thead th {\n",
       "        text-align: right;\n",
       "    }\n",
       "</style>\n",
       "<table border=\"1\" class=\"dataframe\">\n",
       "  <thead>\n",
       "    <tr style=\"text-align: right;\">\n",
       "      <th></th>\n",
       "      <th>X1</th>\n",
       "      <th>X2</th>\n",
       "      <th>X3</th>\n",
       "      <th>X4</th>\n",
       "      <th>X5</th>\n",
       "      <th>X6</th>\n",
       "      <th>X7</th>\n",
       "      <th>X8</th>\n",
       "      <th>X9</th>\n",
       "      <th>X10</th>\n",
       "      <th>...</th>\n",
       "      <th>X56</th>\n",
       "      <th>X57</th>\n",
       "      <th>X58</th>\n",
       "      <th>X59</th>\n",
       "      <th>X60</th>\n",
       "      <th>X61</th>\n",
       "      <th>X62</th>\n",
       "      <th>X63</th>\n",
       "      <th>X64</th>\n",
       "      <th>Y</th>\n",
       "    </tr>\n",
       "  </thead>\n",
       "  <tbody>\n",
       "    <tr>\n",
       "      <td>0</td>\n",
       "      <td>0.159290</td>\n",
       "      <td>0.46240</td>\n",
       "      <td>0.077730</td>\n",
       "      <td>1.16830</td>\n",
       "      <td>-44.8530</td>\n",
       "      <td>0.467020</td>\n",
       "      <td>0.189480</td>\n",
       "      <td>0.828950</td>\n",
       "      <td>1.12230</td>\n",
       "      <td>0.383300</td>\n",
       "      <td>...</td>\n",
       "      <td>0.108990</td>\n",
       "      <td>0.415570</td>\n",
       "      <td>0.89101</td>\n",
       "      <td>0.001422</td>\n",
       "      <td>7.7928</td>\n",
       "      <td>4.9914</td>\n",
       "      <td>119.810</td>\n",
       "      <td>3.0465</td>\n",
       "      <td>3.05600</td>\n",
       "      <td>0.0</td>\n",
       "    </tr>\n",
       "    <tr>\n",
       "      <td>1</td>\n",
       "      <td>-0.127430</td>\n",
       "      <td>0.46243</td>\n",
       "      <td>0.269170</td>\n",
       "      <td>1.75170</td>\n",
       "      <td>7.5970</td>\n",
       "      <td>0.000925</td>\n",
       "      <td>-0.127430</td>\n",
       "      <td>1.162500</td>\n",
       "      <td>1.29440</td>\n",
       "      <td>0.537570</td>\n",
       "      <td>...</td>\n",
       "      <td>-0.089372</td>\n",
       "      <td>-0.237040</td>\n",
       "      <td>1.06250</td>\n",
       "      <td>0.150410</td>\n",
       "      <td>5.4327</td>\n",
       "      <td>3.4629</td>\n",
       "      <td>100.970</td>\n",
       "      <td>3.6150</td>\n",
       "      <td>3.47250</td>\n",
       "      <td>0.0</td>\n",
       "    </tr>\n",
       "    <tr>\n",
       "      <td>2</td>\n",
       "      <td>0.070488</td>\n",
       "      <td>0.23570</td>\n",
       "      <td>0.527810</td>\n",
       "      <td>3.23930</td>\n",
       "      <td>125.6800</td>\n",
       "      <td>0.163670</td>\n",
       "      <td>0.086895</td>\n",
       "      <td>2.871800</td>\n",
       "      <td>1.05740</td>\n",
       "      <td>0.676890</td>\n",
       "      <td>...</td>\n",
       "      <td>0.054286</td>\n",
       "      <td>0.104130</td>\n",
       "      <td>0.94571</td>\n",
       "      <td>0.000000</td>\n",
       "      <td>7.1070</td>\n",
       "      <td>3.3808</td>\n",
       "      <td>76.076</td>\n",
       "      <td>4.7978</td>\n",
       "      <td>4.78180</td>\n",
       "      <td>0.0</td>\n",
       "    </tr>\n",
       "    <tr>\n",
       "      <td>3</td>\n",
       "      <td>0.136760</td>\n",
       "      <td>0.40538</td>\n",
       "      <td>0.315430</td>\n",
       "      <td>1.87050</td>\n",
       "      <td>19.1150</td>\n",
       "      <td>0.504970</td>\n",
       "      <td>0.136760</td>\n",
       "      <td>1.453900</td>\n",
       "      <td>1.11440</td>\n",
       "      <td>0.589380</td>\n",
       "      <td>...</td>\n",
       "      <td>0.102630</td>\n",
       "      <td>0.232030</td>\n",
       "      <td>0.89737</td>\n",
       "      <td>0.073024</td>\n",
       "      <td>6.1384</td>\n",
       "      <td>4.2241</td>\n",
       "      <td>88.299</td>\n",
       "      <td>4.1337</td>\n",
       "      <td>4.64840</td>\n",
       "      <td>0.0</td>\n",
       "    </tr>\n",
       "    <tr>\n",
       "      <td>4</td>\n",
       "      <td>-0.110080</td>\n",
       "      <td>0.69793</td>\n",
       "      <td>0.188780</td>\n",
       "      <td>1.27130</td>\n",
       "      <td>-15.3440</td>\n",
       "      <td>0.000000</td>\n",
       "      <td>-0.110080</td>\n",
       "      <td>0.432820</td>\n",
       "      <td>1.73500</td>\n",
       "      <td>0.302070</td>\n",
       "      <td>...</td>\n",
       "      <td>0.439880</td>\n",
       "      <td>-0.364400</td>\n",
       "      <td>0.57153</td>\n",
       "      <td>0.000000</td>\n",
       "      <td>18.8010</td>\n",
       "      <td>2.7925</td>\n",
       "      <td>146.390</td>\n",
       "      <td>2.4934</td>\n",
       "      <td>15.03600</td>\n",
       "      <td>0.0</td>\n",
       "    </tr>\n",
       "    <tr>\n",
       "      <td>5</td>\n",
       "      <td>0.021539</td>\n",
       "      <td>0.58425</td>\n",
       "      <td>0.086614</td>\n",
       "      <td>1.17910</td>\n",
       "      <td>-36.3940</td>\n",
       "      <td>-0.001609</td>\n",
       "      <td>0.029628</td>\n",
       "      <td>0.711610</td>\n",
       "      <td>1.43880</td>\n",
       "      <td>0.415750</td>\n",
       "      <td>...</td>\n",
       "      <td>0.219600</td>\n",
       "      <td>0.051807</td>\n",
       "      <td>0.80128</td>\n",
       "      <td>0.125080</td>\n",
       "      <td>8.7603</td>\n",
       "      <td>3.8576</td>\n",
       "      <td>122.700</td>\n",
       "      <td>2.9746</td>\n",
       "      <td>3.34820</td>\n",
       "      <td>0.0</td>\n",
       "    </tr>\n",
       "    <tr>\n",
       "      <td>6</td>\n",
       "      <td>0.227430</td>\n",
       "      <td>0.52266</td>\n",
       "      <td>0.444560</td>\n",
       "      <td>1.87000</td>\n",
       "      <td>-8.6787</td>\n",
       "      <td>0.000000</td>\n",
       "      <td>0.283000</td>\n",
       "      <td>0.913280</td>\n",
       "      <td>1.98110</td>\n",
       "      <td>0.477340</td>\n",
       "      <td>...</td>\n",
       "      <td>0.161100</td>\n",
       "      <td>0.476460</td>\n",
       "      <td>0.85765</td>\n",
       "      <td>0.024511</td>\n",
       "      <td>4.1654</td>\n",
       "      <td>5.2485</td>\n",
       "      <td>94.141</td>\n",
       "      <td>3.8772</td>\n",
       "      <td>44.53900</td>\n",
       "      <td>0.0</td>\n",
       "    </tr>\n",
       "    <tr>\n",
       "      <td>7</td>\n",
       "      <td>0.038662</td>\n",
       "      <td>0.59498</td>\n",
       "      <td>0.070504</td>\n",
       "      <td>1.11910</td>\n",
       "      <td>-37.6400</td>\n",
       "      <td>-0.529780</td>\n",
       "      <td>0.038662</td>\n",
       "      <td>0.680740</td>\n",
       "      <td>3.08610</td>\n",
       "      <td>0.405020</td>\n",
       "      <td>...</td>\n",
       "      <td>0.270590</td>\n",
       "      <td>0.095456</td>\n",
       "      <td>0.72991</td>\n",
       "      <td>0.000000</td>\n",
       "      <td>11.0850</td>\n",
       "      <td>8.4593</td>\n",
       "      <td>70.003</td>\n",
       "      <td>5.2141</td>\n",
       "      <td>9.14080</td>\n",
       "      <td>0.0</td>\n",
       "    </tr>\n",
       "    <tr>\n",
       "      <td>8</td>\n",
       "      <td>0.131030</td>\n",
       "      <td>0.47202</td>\n",
       "      <td>0.493500</td>\n",
       "      <td>2.13740</td>\n",
       "      <td>31.8760</td>\n",
       "      <td>0.374720</td>\n",
       "      <td>0.163780</td>\n",
       "      <td>1.118500</td>\n",
       "      <td>1.07290</td>\n",
       "      <td>0.527980</td>\n",
       "      <td>...</td>\n",
       "      <td>0.067952</td>\n",
       "      <td>0.248170</td>\n",
       "      <td>0.93205</td>\n",
       "      <td>0.072213</td>\n",
       "      <td>7.5119</td>\n",
       "      <td>4.4377</td>\n",
       "      <td>69.488</td>\n",
       "      <td>5.2527</td>\n",
       "      <td>31.39200</td>\n",
       "      <td>0.0</td>\n",
       "    </tr>\n",
       "    <tr>\n",
       "      <td>9</td>\n",
       "      <td>0.176980</td>\n",
       "      <td>0.19359</td>\n",
       "      <td>0.139250</td>\n",
       "      <td>3.77790</td>\n",
       "      <td>124.1000</td>\n",
       "      <td>0.338450</td>\n",
       "      <td>0.212810</td>\n",
       "      <td>4.165600</td>\n",
       "      <td>1.21280</td>\n",
       "      <td>0.806410</td>\n",
       "      <td>...</td>\n",
       "      <td>0.175470</td>\n",
       "      <td>0.219460</td>\n",
       "      <td>0.82453</td>\n",
       "      <td>0.177900</td>\n",
       "      <td>9.2352</td>\n",
       "      <td>2.4957</td>\n",
       "      <td>51.133</td>\n",
       "      <td>7.1382</td>\n",
       "      <td>0.44144</td>\n",
       "      <td>0.0</td>\n",
       "    </tr>\n",
       "    <tr>\n",
       "      <td>10</td>\n",
       "      <td>0.117670</td>\n",
       "      <td>0.37332</td>\n",
       "      <td>0.267430</td>\n",
       "      <td>2.32290</td>\n",
       "      <td>18.3080</td>\n",
       "      <td>0.148710</td>\n",
       "      <td>0.145710</td>\n",
       "      <td>1.678700</td>\n",
       "      <td>1.19860</td>\n",
       "      <td>0.626680</td>\n",
       "      <td>...</td>\n",
       "      <td>0.165670</td>\n",
       "      <td>0.187770</td>\n",
       "      <td>0.83433</td>\n",
       "      <td>0.273140</td>\n",
       "      <td>4.7780</td>\n",
       "      <td>5.4098</td>\n",
       "      <td>84.179</td>\n",
       "      <td>4.3360</td>\n",
       "      <td>1.65250</td>\n",
       "      <td>0.0</td>\n",
       "    </tr>\n",
       "    <tr>\n",
       "      <td>11</td>\n",
       "      <td>0.032153</td>\n",
       "      <td>0.90212</td>\n",
       "      <td>-0.326650</td>\n",
       "      <td>0.58162</td>\n",
       "      <td>-219.2800</td>\n",
       "      <td>-0.395080</td>\n",
       "      <td>0.032153</td>\n",
       "      <td>0.108500</td>\n",
       "      <td>1.42890</td>\n",
       "      <td>0.097879</td>\n",
       "      <td>...</td>\n",
       "      <td>0.354770</td>\n",
       "      <td>0.328500</td>\n",
       "      <td>0.66544</td>\n",
       "      <td>0.157800</td>\n",
       "      <td>9.7119</td>\n",
       "      <td>5.1164</td>\n",
       "      <td>199.440</td>\n",
       "      <td>1.8301</td>\n",
       "      <td>2.61750</td>\n",
       "      <td>0.0</td>\n",
       "    </tr>\n",
       "    <tr>\n",
       "      <td>12</td>\n",
       "      <td>-0.075580</td>\n",
       "      <td>0.93621</td>\n",
       "      <td>-0.212060</td>\n",
       "      <td>0.77349</td>\n",
       "      <td>-131.4600</td>\n",
       "      <td>-0.819310</td>\n",
       "      <td>-0.075580</td>\n",
       "      <td>0.014114</td>\n",
       "      <td>0.93509</td>\n",
       "      <td>0.013214</td>\n",
       "      <td>...</td>\n",
       "      <td>-0.069411</td>\n",
       "      <td>-5.719800</td>\n",
       "      <td>1.06940</td>\n",
       "      <td>0.000000</td>\n",
       "      <td>4.7789</td>\n",
       "      <td>4.9881</td>\n",
       "      <td>283.320</td>\n",
       "      <td>1.2883</td>\n",
       "      <td>4.37240</td>\n",
       "      <td>0.0</td>\n",
       "    </tr>\n",
       "    <tr>\n",
       "      <td>13</td>\n",
       "      <td>0.211890</td>\n",
       "      <td>0.23307</td>\n",
       "      <td>0.519120</td>\n",
       "      <td>3.22730</td>\n",
       "      <td>74.8830</td>\n",
       "      <td>0.886090</td>\n",
       "      <td>0.264610</td>\n",
       "      <td>3.088800</td>\n",
       "      <td>1.16230</td>\n",
       "      <td>0.719900</td>\n",
       "      <td>...</td>\n",
       "      <td>0.139630</td>\n",
       "      <td>0.294340</td>\n",
       "      <td>0.86037</td>\n",
       "      <td>0.000000</td>\n",
       "      <td>12.6480</td>\n",
       "      <td>3.7800</td>\n",
       "      <td>42.617</td>\n",
       "      <td>8.5647</td>\n",
       "      <td>8.05530</td>\n",
       "      <td>0.0</td>\n",
       "    </tr>\n",
       "    <tr>\n",
       "      <td>14</td>\n",
       "      <td>0.046169</td>\n",
       "      <td>0.24793</td>\n",
       "      <td>0.436540</td>\n",
       "      <td>2.76080</td>\n",
       "      <td>13.2810</td>\n",
       "      <td>0.091786</td>\n",
       "      <td>0.048998</td>\n",
       "      <td>2.997800</td>\n",
       "      <td>1.02310</td>\n",
       "      <td>0.743240</td>\n",
       "      <td>...</td>\n",
       "      <td>0.022543</td>\n",
       "      <td>0.062119</td>\n",
       "      <td>0.97746</td>\n",
       "      <td>0.000000</td>\n",
       "      <td>5.9435</td>\n",
       "      <td>11.4510</td>\n",
       "      <td>42.255</td>\n",
       "      <td>8.6379</td>\n",
       "      <td>6.78730</td>\n",
       "      <td>0.0</td>\n",
       "    </tr>\n",
       "  </tbody>\n",
       "</table>\n",
       "<p>15 rows × 65 columns</p>\n",
       "</div>"
      ],
      "text/plain": [
       "          X1       X2        X3       X4        X5        X6        X7  \\\n",
       "0   0.159290  0.46240  0.077730  1.16830  -44.8530  0.467020  0.189480   \n",
       "1  -0.127430  0.46243  0.269170  1.75170    7.5970  0.000925 -0.127430   \n",
       "2   0.070488  0.23570  0.527810  3.23930  125.6800  0.163670  0.086895   \n",
       "3   0.136760  0.40538  0.315430  1.87050   19.1150  0.504970  0.136760   \n",
       "4  -0.110080  0.69793  0.188780  1.27130  -15.3440  0.000000 -0.110080   \n",
       "5   0.021539  0.58425  0.086614  1.17910  -36.3940 -0.001609  0.029628   \n",
       "6   0.227430  0.52266  0.444560  1.87000   -8.6787  0.000000  0.283000   \n",
       "7   0.038662  0.59498  0.070504  1.11910  -37.6400 -0.529780  0.038662   \n",
       "8   0.131030  0.47202  0.493500  2.13740   31.8760  0.374720  0.163780   \n",
       "9   0.176980  0.19359  0.139250  3.77790  124.1000  0.338450  0.212810   \n",
       "10  0.117670  0.37332  0.267430  2.32290   18.3080  0.148710  0.145710   \n",
       "11  0.032153  0.90212 -0.326650  0.58162 -219.2800 -0.395080  0.032153   \n",
       "12 -0.075580  0.93621 -0.212060  0.77349 -131.4600 -0.819310 -0.075580   \n",
       "13  0.211890  0.23307  0.519120  3.22730   74.8830  0.886090  0.264610   \n",
       "14  0.046169  0.24793  0.436540  2.76080   13.2810  0.091786  0.048998   \n",
       "\n",
       "          X8       X9       X10  ...       X56       X57      X58       X59  \\\n",
       "0   0.828950  1.12230  0.383300  ...  0.108990  0.415570  0.89101  0.001422   \n",
       "1   1.162500  1.29440  0.537570  ... -0.089372 -0.237040  1.06250  0.150410   \n",
       "2   2.871800  1.05740  0.676890  ...  0.054286  0.104130  0.94571  0.000000   \n",
       "3   1.453900  1.11440  0.589380  ...  0.102630  0.232030  0.89737  0.073024   \n",
       "4   0.432820  1.73500  0.302070  ...  0.439880 -0.364400  0.57153  0.000000   \n",
       "5   0.711610  1.43880  0.415750  ...  0.219600  0.051807  0.80128  0.125080   \n",
       "6   0.913280  1.98110  0.477340  ...  0.161100  0.476460  0.85765  0.024511   \n",
       "7   0.680740  3.08610  0.405020  ...  0.270590  0.095456  0.72991  0.000000   \n",
       "8   1.118500  1.07290  0.527980  ...  0.067952  0.248170  0.93205  0.072213   \n",
       "9   4.165600  1.21280  0.806410  ...  0.175470  0.219460  0.82453  0.177900   \n",
       "10  1.678700  1.19860  0.626680  ...  0.165670  0.187770  0.83433  0.273140   \n",
       "11  0.108500  1.42890  0.097879  ...  0.354770  0.328500  0.66544  0.157800   \n",
       "12  0.014114  0.93509  0.013214  ... -0.069411 -5.719800  1.06940  0.000000   \n",
       "13  3.088800  1.16230  0.719900  ...  0.139630  0.294340  0.86037  0.000000   \n",
       "14  2.997800  1.02310  0.743240  ...  0.022543  0.062119  0.97746  0.000000   \n",
       "\n",
       "        X60      X61      X62     X63       X64    Y  \n",
       "0    7.7928   4.9914  119.810  3.0465   3.05600  0.0  \n",
       "1    5.4327   3.4629  100.970  3.6150   3.47250  0.0  \n",
       "2    7.1070   3.3808   76.076  4.7978   4.78180  0.0  \n",
       "3    6.1384   4.2241   88.299  4.1337   4.64840  0.0  \n",
       "4   18.8010   2.7925  146.390  2.4934  15.03600  0.0  \n",
       "5    8.7603   3.8576  122.700  2.9746   3.34820  0.0  \n",
       "6    4.1654   5.2485   94.141  3.8772  44.53900  0.0  \n",
       "7   11.0850   8.4593   70.003  5.2141   9.14080  0.0  \n",
       "8    7.5119   4.4377   69.488  5.2527  31.39200  0.0  \n",
       "9    9.2352   2.4957   51.133  7.1382   0.44144  0.0  \n",
       "10   4.7780   5.4098   84.179  4.3360   1.65250  0.0  \n",
       "11   9.7119   5.1164  199.440  1.8301   2.61750  0.0  \n",
       "12   4.7789   4.9881  283.320  1.2883   4.37240  0.0  \n",
       "13  12.6480   3.7800   42.617  8.5647   8.05530  0.0  \n",
       "14   5.9435  11.4510   42.255  8.6379   6.78730  0.0  \n",
       "\n",
       "[15 rows x 65 columns]"
      ]
     },
     "execution_count": 5,
     "metadata": {},
     "output_type": "execute_result"
    }
   ],
   "source": [
    "mean_imputed_df.head(15)"
   ]
  },
  {
   "cell_type": "code",
   "execution_count": 6,
   "metadata": {},
   "outputs": [],
   "source": [
    "#Using smote to balance data\n",
    "X_train, X_test, y_train, y_test = train_test_split(X,Y, test_size=0.3, random_state=10)\n",
    "#smote = SMOTE(random_state=32)\n",
    "#X_train_sm, y_train_sm= smote.fit_sample(X_train, y_train)"
   ]
  },
  {
   "cell_type": "code",
   "execution_count": 7,
   "metadata": {},
   "outputs": [],
   "source": [
    "#cross validation\n",
    "nfolds = 10\n",
    "nclass = 2\n",
    "ntrain = X_train.shape[0]\n",
    "ntest = X_test.shape[0]\n",
    "\n",
    "\n",
    "#kfold = KFold(n_splits=nfolds, random_state=20, shuffle=True)\n",
    "cross_val = StratifiedKFold(nfolds)"
   ]
  },
  {
   "cell_type": "markdown",
   "metadata": {},
   "source": [
    "# Creating model objects\n",
    "## Tuning model hyperparameters"
   ]
  },
  {
   "cell_type": "markdown",
   "metadata": {},
   "source": [
    "### Logistic regression"
   ]
  },
  {
   "cell_type": "code",
   "execution_count": 41,
   "metadata": {},
   "outputs": [
    {
     "name": "stdout",
     "output_type": "stream",
     "text": [
      "Fitting 10 folds for each of 9 candidates, totalling 90 fits\n"
     ]
    },
    {
     "name": "stderr",
     "output_type": "stream",
     "text": [
      "[Parallel(n_jobs=4)]: Using backend LokyBackend with 4 concurrent workers.\n",
      "[Parallel(n_jobs=4)]: Done  42 tasks      | elapsed:   14.6s\n",
      "[Parallel(n_jobs=4)]: Done  90 out of  90 | elapsed:   24.0s finished\n"
     ]
    },
    {
     "name": "stdout",
     "output_type": "stream",
     "text": [
      "Accuracy (LogisticRegression): 0.943390720747009 with params LogisticRegression(C=0.5, class_weight=None, dual=False, fit_intercept=True,\n",
      "                   intercept_scaling=1, l1_ratio=None, max_iter=100,\n",
      "                   multi_class='warn', n_jobs=None, penalty='l2',\n",
      "                   random_state=None, solver='newton-cg', tol=0.0001, verbose=0,\n",
      "                   warm_start=False)\n"
     ]
    },
    {
     "name": "stderr",
     "output_type": "stream",
     "text": [
      "C:\\Developement\\Anaconda\\lib\\site-packages\\sklearn\\utils\\optimize.py:203: ConvergenceWarning: newton-cg failed to converge. Increase the number of iterations.\n",
      "  \"number of iterations.\", ConvergenceWarning)\n"
     ]
    }
   ],
   "source": [
    "log_reg = LogisticRegression()\n",
    "\n",
    "log_reg_params = {\"C\": [0.5, 0.55, 0.6],\n",
    "                 \"solver\": ['newton-cg', 'sag', 'saga']}\n",
    "\n",
    "lr_grid = GridSearchCV(log_reg, log_reg_params, cv=cross_val, refit=True, verbose=1, n_jobs=4)\n",
    "\n",
    "lr_grid.fit(X_train, y_train)\n",
    "lr_best_est = lr_grid.best_estimator_\n",
    "\n",
    "print(\"Accuracy (LogisticRegression): {} with params {}\".format(lr_grid.best_score_, lr_best_est))\n"
   ]
  },
  {
   "cell_type": "markdown",
   "metadata": {},
   "source": [
    "## Decision tree"
   ]
  },
  {
   "cell_type": "code",
   "execution_count": 42,
   "metadata": {},
   "outputs": [
    {
     "name": "stderr",
     "output_type": "stream",
     "text": [
      "[Parallel(n_jobs=4)]: Using backend LokyBackend with 4 concurrent workers.\n"
     ]
    },
    {
     "name": "stdout",
     "output_type": "stream",
     "text": [
      "Fitting 10 folds for each of 9 candidates, totalling 90 fits\n"
     ]
    },
    {
     "name": "stderr",
     "output_type": "stream",
     "text": [
      "[Parallel(n_jobs=4)]: Done  42 tasks      | elapsed:    3.8s\n",
      "[Parallel(n_jobs=4)]: Done  90 out of  90 | elapsed:    8.4s finished\n"
     ]
    },
    {
     "name": "stdout",
     "output_type": "stream",
     "text": [
      "Accuracy (Decision tree): 0.9493726291216807 with params DecisionTreeClassifier(class_weight=None, criterion='gini', max_depth=60,\n",
      "                       max_features=None, max_leaf_nodes=100,\n",
      "                       min_impurity_decrease=0.0, min_impurity_split=None,\n",
      "                       min_samples_leaf=1, min_samples_split=2,\n",
      "                       min_weight_fraction_leaf=0.0, presort=False,\n",
      "                       random_state=None, splitter='best')\n"
     ]
    }
   ],
   "source": [
    "d_tree = DecisionTreeClassifier()\n",
    "d_tree_params = {'criterion': ['gini'],\n",
    "                'max_depth': [50, 60, 70],\n",
    "                'max_leaf_nodes': [100, 125, 150]}\n",
    "\n",
    "dt_grid = GridSearchCV(d_tree, d_tree_params, cv=cross_val, refit=True, verbose=1, n_jobs=4)\n",
    "dt_grid.fit(X_train, y_train)\n",
    "\n",
    "dt_best_est = dt_grid.best_estimator_\n",
    "print(\"Accuracy (Decision tree): {} with params {}\".format(dt_grid.best_score_, dt_best_est))"
   ]
  },
  {
   "cell_type": "markdown",
   "metadata": {},
   "source": [
    "## Random forest"
   ]
  },
  {
   "cell_type": "code",
   "execution_count": 43,
   "metadata": {},
   "outputs": [
    {
     "name": "stdout",
     "output_type": "stream",
     "text": [
      "Fitting 10 folds for each of 8 candidates, totalling 80 fits\n"
     ]
    },
    {
     "name": "stderr",
     "output_type": "stream",
     "text": [
      "C:\\Developement\\Anaconda\\lib\\site-packages\\sklearn\\model_selection\\_search.py:266: UserWarning: The total space of parameters 8 is smaller than n_iter=10. Running 8 iterations. For exhaustive searches, use GridSearchCV.\n",
      "  % (grid_size, self.n_iter, grid_size), UserWarning)\n",
      "[Parallel(n_jobs=-1)]: Using backend LokyBackend with 4 concurrent workers.\n",
      "[Parallel(n_jobs=-1)]: Done  42 tasks      | elapsed:  4.0min\n",
      "[Parallel(n_jobs=-1)]: Done  80 out of  80 | elapsed:  7.9min finished\n"
     ]
    },
    {
     "name": "stdout",
     "output_type": "stream",
     "text": [
      "Accuracy (Random forest): 0.9606069448497228 with params RandomForestClassifier(bootstrap=True, class_weight=None, criterion='gini',\n",
      "                       max_depth=25, max_features=64, max_leaf_nodes=25,\n",
      "                       min_impurity_decrease=0.0, min_impurity_split=None,\n",
      "                       min_samples_leaf=1, min_samples_split=2,\n",
      "                       min_weight_fraction_leaf=0.0, n_estimators=250,\n",
      "                       n_jobs=None, oob_score=False, random_state=None,\n",
      "                       verbose=0, warm_start=False)\n"
     ]
    }
   ],
   "source": [
    "r_forest = RandomForestClassifier()\n",
    "r_forest_params = {'n_estimators': [200, 250],\n",
    "                'criterion': ['gini'],\n",
    "                'max_depth': [25, 50],\n",
    "                'max_features': [64],\n",
    "                'max_leaf_nodes': [10, 25],\n",
    "                'bootstrap': [True]}\n",
    "\n",
    "#r_forest_grid = GridSearchCV(r_forest, r_forest_params, cv=cross_val, refit=True, verbose=1, n_jobs=4)\n",
    "#r_forest_grid.fit(X_train_sm, y_train_sm)\n",
    "rf_random_grid = RandomizedSearchCV(r_forest, r_forest_params, cv=cross_val, refit=True, verbose=1, n_jobs=-1)\n",
    "rf_random_grid.fit(X_train, y_train)\n",
    "\n",
    "rf_best_est = rf_random_grid.best_estimator_\n",
    "print(\"Accuracy (Random forest): {} with params {}\".format(rf_random_grid.best_score_, rf_best_est))"
   ]
  },
  {
   "cell_type": "markdown",
   "metadata": {},
   "source": [
    "## SVM"
   ]
  },
  {
   "cell_type": "code",
   "execution_count": 44,
   "metadata": {},
   "outputs": [],
   "source": [
    "#\n",
    "# SVM classifier в разработке\n",
    "#\n",
    "\n",
    "\n",
    "#svm = SVC()\n",
    "#svm_params = {'kernel': ['linear', 'poly'],\n",
    "#                'probability': [True],\n",
    "#                'decision_function_shape': ['ovo']}\n",
    "\n",
    "#svm_grid = GridSearchCV(svm, svm_params, cv=cross_val, refit=True, verbose=1, n_jobs=-1)\n",
    "#svm_grid.fit(X_train_sm, y_train_sm)\n",
    "\n",
    "#svm_grid = RandomizedSearchCV(svm, svm_params, cv=cross_val, refit=True, verbose=1, n_jobs=-1)\n",
    "#svm_grid.fit(X_train_sm, y_train_sm)\n",
    "\n",
    "#svm_best_est = svm_grid.best_estimator_\n",
    "#print(\"Accuracy (SVM): {} with params {}\".format(svm_grid.best_score_, svm_best_est))"
   ]
  },
  {
   "cell_type": "markdown",
   "metadata": {},
   "source": [
    "## XGboost"
   ]
  },
  {
   "cell_type": "code",
   "execution_count": 45,
   "metadata": {},
   "outputs": [
    {
     "name": "stdout",
     "output_type": "stream",
     "text": [
      "Fitting 10 folds for each of 10 candidates, totalling 100 fits\n"
     ]
    },
    {
     "name": "stderr",
     "output_type": "stream",
     "text": [
      "[Parallel(n_jobs=-1)]: Using backend LokyBackend with 4 concurrent workers.\n",
      "[Parallel(n_jobs=-1)]: Done  42 tasks      | elapsed:   13.7s\n",
      "[Parallel(n_jobs=-1)]: Done 100 out of 100 | elapsed:  1.1min finished\n"
     ]
    },
    {
     "name": "stdout",
     "output_type": "stream",
     "text": [
      "Accuracy (XGboosting): 0.9657134519988329 with params XGBClassifier(base_score=0.5, booster='gbtree', colsample_bylevel=1,\n",
      "              colsample_bynode=1, colsample_bytree=1, eta=0, gamma=0,\n",
      "              learning_rate=0.2, max_delta_step=0, max_depth=8,\n",
      "              min_child_weight=1, missing=None, n_estimators=100, n_jobs=1,\n",
      "              nthread=None, objective='binary:logitraw', random_state=0,\n",
      "              reg_alpha=0, reg_lambda=1, scale_pos_weight=1, seed=None,\n",
      "              silent=None, subsample=1, verbosity=1)\n"
     ]
    }
   ],
   "source": [
    "xgboost = xgb.XGBClassifier()\n",
    "xg_params = {\n",
    "    'booster': ['gbtree', 'gblinear'],\n",
    "    'eta': [0.3, 0,5],\n",
    "    'objective': ['binary:logitraw', 'binary:hinge'],\n",
    "    'gamma':[0,1],\n",
    "    'max_depth': [8],\n",
    "    'learning_rate': [0.01, 0.15, 0.20, 0.35]\n",
    "}\n",
    "\n",
    "#xgb_grid = GridSearchCV(xgboost, xg_params, cv=cross_val, refit=True, verbose=1, n_jobs=4)\n",
    "#xgb_grid.fit(X_train_sm, y_train_sm)\n",
    "\n",
    "xgb_grid = RandomizedSearchCV(xgboost, xg_params, cv=cross_val, refit=True, verbose=1, n_jobs=-1)\n",
    "xgb_grid.fit(X_train, y_train)\n",
    "\n",
    "xgb_best_est = xgb_grid.best_estimator_\n",
    "print(\"Accuracy (XGboosting): {} with params {}\".format(xgb_grid.best_score_, xgb_best_est))"
   ]
  },
  {
   "cell_type": "markdown",
   "metadata": {},
   "source": [
    "# Second level"
   ]
  },
  {
   "cell_type": "code",
   "execution_count": 8,
   "metadata": {},
   "outputs": [],
   "source": [
    "def show_feature_importance(model, features, model_name):\n",
    "    plt.figure(figsize=(12,8))\n",
    "    results=pd.DataFrame({'feature': features, 'importance': model.feature_importances_})\n",
    "    results=results.sort_values('importance', ascending=False)\n",
    "    print(results.head(10))\n",
    "    results.head(20).plot(x = 'feature', y = 'importance', kind = 'barh',\n",
    "                     color = 'red', edgecolor = 'k', title = 'Feature Importances of ' + model_name)\n",
    "    return results"
   ]
  },
  {
   "cell_type": "code",
   "execution_count": 9,
   "metadata": {},
   "outputs": [],
   "source": [
    "ntrain=X_train.shape[0]\n",
    "ntest = X_test.shape[0]\n",
    "nclass = 2\n",
    "SEED = 42\n",
    "NFOLDS = 10\n",
    "smote = SMOTE(random_state=32)\n",
    "\n",
    "kf = KFold(n_splits=NFOLDS, random_state=SEED, shuffle=True)\n",
    "labels = ['Normal','Bankruptcy']"
   ]
  },
  {
   "cell_type": "code",
   "execution_count": 10,
   "metadata": {},
   "outputs": [],
   "source": [
    "def BuildModel(best_alg, X_train, y_train, X_test, kf, ntrain, ntest, nclass, NfOLDS):\n",
    "    Xr_train = np.zeros((ntrain, nclass))\n",
    "    Xr_test = np.zeros((ntest, nclass))\n",
    "    tr_ind = np.arange(ntrain)\n",
    "    print('tr_ind : ', tr_ind)\n",
    "    accuracies = []\n",
    "    \n",
    "    for i, (train, test) in enumerate(kf.split(tr_ind)):\n",
    "        clf = best_alg\n",
    "        print(X_train.shape[0], y_train.shape[0])\n",
    "        X_train_sm, y_train_sm = smote.fit_sample(X_train, y_train)\n",
    "        \n",
    "        #print(X_train_sm.shape[1], y_train_sm.shape[1])\n",
    "        \n",
    "        clf.fit(X_train_sm[train], y_train_sm[train])\n",
    "        sc = clf.score(X_train_sm[test], y_train_sm[test])\n",
    "        print(i, 'accuracy', sc)\n",
    "        accuracies.append(sc)\n",
    "        Xr_train[test] = clf.predict_proba(X_train_sm[test])\n",
    "        Xr_test += clf.predict_proba(X_test)/NFOLDS\n",
    "    \n",
    "    print(\"Mean: {} ; Stdev: {}\".format(np.mean(accuracies), np.std(accuracies)))\n",
    "    \n",
    "    return Xr_train, Xr_test\n",
    "\n",
    "\n",
    "def BuildModel_Xgb(best_alg, X_train, y_train, X_test, kf, ntrain, ntest, nclass, NfOLDS):\n",
    "    Xr_train = np.zeros((ntrain, nclass))\n",
    "    Xr_test = np.zeros((ntest, nclass))\n",
    "    tr_ind = np.arange(ntrain)\n",
    "    accuracies = []\n",
    "    \n",
    "    for i, (train, test) in enumerate(kf.split(tr_ind)):\n",
    "        clf = best_alg\n",
    "        X_train_sm, y_train_sm = smote.fit_sample(X_train, y_train)\n",
    "        clf.fit(X_train_sm[train], y_train_sm[train])\n",
    "        sc = clf.score(X_train_sm[test], y_train_sm[test])\n",
    "        print(i, 'accuracy', sc)\n",
    "        accuracies.append(sc)\n",
    "        Xr_train[test] = clf.predict_proba(X_train_sm[test])\n",
    "        Xr_test += clf.predict_proba(X_test, validate_features=False)/NFOLDS\n",
    "    \n",
    "    print(\"Mean: {} ; Stdev: {}\".format(np.mean(accuracies), np.std(accuracies)))\n",
    "    \n",
    "    return Xr_train, Xr_test"
   ]
  },
  {
   "cell_type": "code",
   "execution_count": 11,
   "metadata": {},
   "outputs": [],
   "source": [
    "def show_accuracy(Xr, y, labels, best, nclass):\n",
    "    pred=[]\n",
    "    for x in Xr:\n",
    "        if x > best:\n",
    "            pred.append(1)\n",
    "        else:\n",
    "            pred.append(0)\n",
    "    print(classification_report(y,pred, target_names=labels, digits=4))\n",
    "    print(confusion_matrix(y, pred, labels=range(nclass)))"
   ]
  },
  {
   "cell_type": "code",
   "execution_count": 12,
   "metadata": {},
   "outputs": [],
   "source": [
    "def show_auc(y_train_set, pred_train_set):\n",
    "    thresholds = np.linspace(0.01, 0.5, 1000)\n",
    "    f1_sc = np.array([f1_score(y_train_set, pred_train_set[:,1] > thr) for thr in thresholds])\n",
    "    plt.figure(figsize=(12,8))\n",
    "    plt.plot(thresholds, f1_sc, linewidth=4)\n",
    "    plt.ylabel(\"F1 score\", fontsize=18)\n",
    "    plt.xlabel(\"Threshold\", fontsize=18)\n",
    "    \n",
    "    best_model_f1 = thresholds[f1_sc.argmax()]\n",
    "    \n",
    "    return best_model_f1"
   ]
  },
  {
   "cell_type": "markdown",
   "metadata": {},
   "source": [
    "## Logistic regression"
   ]
  },
  {
   "cell_type": "code",
   "execution_count": 51,
   "metadata": {},
   "outputs": [
    {
     "name": "stdout",
     "output_type": "stream",
     "text": [
      "tr_ind :  [   0    1    2 ... 6851 6852 6853]\n",
      "6854 6854\n"
     ]
    },
    {
     "name": "stderr",
     "output_type": "stream",
     "text": [
      "C:\\Developement\\Anaconda\\lib\\site-packages\\sklearn\\utils\\optimize.py:203: ConvergenceWarning: newton-cg failed to converge. Increase the number of iterations.\n",
      "  \"number of iterations.\", ConvergenceWarning)\n"
     ]
    },
    {
     "name": "stdout",
     "output_type": "stream",
     "text": [
      "0 accuracy 0.9387755102040817\n",
      "6854 6854\n"
     ]
    },
    {
     "name": "stderr",
     "output_type": "stream",
     "text": [
      "C:\\Developement\\Anaconda\\lib\\site-packages\\sklearn\\utils\\optimize.py:203: ConvergenceWarning: newton-cg failed to converge. Increase the number of iterations.\n",
      "  \"number of iterations.\", ConvergenceWarning)\n"
     ]
    },
    {
     "name": "stdout",
     "output_type": "stream",
     "text": [
      "1 accuracy 0.9285714285714286\n",
      "6854 6854\n"
     ]
    },
    {
     "name": "stderr",
     "output_type": "stream",
     "text": [
      "C:\\Developement\\Anaconda\\lib\\site-packages\\sklearn\\utils\\optimize.py:203: ConvergenceWarning: newton-cg failed to converge. Increase the number of iterations.\n",
      "  \"number of iterations.\", ConvergenceWarning)\n"
     ]
    },
    {
     "name": "stdout",
     "output_type": "stream",
     "text": [
      "2 accuracy 0.9533527696793003\n",
      "6854 6854\n"
     ]
    },
    {
     "name": "stderr",
     "output_type": "stream",
     "text": [
      "C:\\Developement\\Anaconda\\lib\\site-packages\\sklearn\\utils\\optimize.py:203: ConvergenceWarning: newton-cg failed to converge. Increase the number of iterations.\n",
      "  \"number of iterations.\", ConvergenceWarning)\n"
     ]
    },
    {
     "name": "stdout",
     "output_type": "stream",
     "text": [
      "3 accuracy 0.9373177842565598\n",
      "6854 6854\n"
     ]
    },
    {
     "name": "stderr",
     "output_type": "stream",
     "text": [
      "C:\\Developement\\Anaconda\\lib\\site-packages\\sklearn\\utils\\optimize.py:203: ConvergenceWarning: newton-cg failed to converge. Increase the number of iterations.\n",
      "  \"number of iterations.\", ConvergenceWarning)\n"
     ]
    },
    {
     "name": "stdout",
     "output_type": "stream",
     "text": [
      "4 accuracy 0.9503649635036496\n",
      "6854 6854\n"
     ]
    },
    {
     "name": "stderr",
     "output_type": "stream",
     "text": [
      "C:\\Developement\\Anaconda\\lib\\site-packages\\sklearn\\utils\\optimize.py:203: ConvergenceWarning: newton-cg failed to converge. Increase the number of iterations.\n",
      "  \"number of iterations.\", ConvergenceWarning)\n"
     ]
    },
    {
     "name": "stdout",
     "output_type": "stream",
     "text": [
      "5 accuracy 0.9416058394160584\n",
      "6854 6854\n"
     ]
    },
    {
     "name": "stderr",
     "output_type": "stream",
     "text": [
      "C:\\Developement\\Anaconda\\lib\\site-packages\\sklearn\\utils\\optimize.py:203: ConvergenceWarning: newton-cg failed to converge. Increase the number of iterations.\n",
      "  \"number of iterations.\", ConvergenceWarning)\n"
     ]
    },
    {
     "name": "stdout",
     "output_type": "stream",
     "text": [
      "6 accuracy 0.9430656934306569\n",
      "6854 6854\n"
     ]
    },
    {
     "name": "stderr",
     "output_type": "stream",
     "text": [
      "C:\\Developement\\Anaconda\\lib\\site-packages\\sklearn\\utils\\optimize.py:203: ConvergenceWarning: newton-cg failed to converge. Increase the number of iterations.\n",
      "  \"number of iterations.\", ConvergenceWarning)\n"
     ]
    },
    {
     "name": "stdout",
     "output_type": "stream",
     "text": [
      "7 accuracy 0.9416058394160584\n",
      "6854 6854\n"
     ]
    },
    {
     "name": "stderr",
     "output_type": "stream",
     "text": [
      "C:\\Developement\\Anaconda\\lib\\site-packages\\sklearn\\utils\\optimize.py:203: ConvergenceWarning: newton-cg failed to converge. Increase the number of iterations.\n",
      "  \"number of iterations.\", ConvergenceWarning)\n"
     ]
    },
    {
     "name": "stdout",
     "output_type": "stream",
     "text": [
      "8 accuracy 0.9562043795620438\n",
      "6854 6854\n",
      "9 accuracy 0.945985401459854\n",
      "Mean: 0.9436849609499692 ; Stdev: 0.0077602082463204105\n"
     ]
    },
    {
     "name": "stderr",
     "output_type": "stream",
     "text": [
      "C:\\Developement\\Anaconda\\lib\\site-packages\\sklearn\\utils\\optimize.py:203: ConvergenceWarning: newton-cg failed to converge. Increase the number of iterations.\n",
      "  \"number of iterations.\", ConvergenceWarning)\n"
     ]
    }
   ],
   "source": [
    "lr_best = LogisticRegression(C=0.5, class_weight=None, dual=False, fit_intercept=True,\n",
    "                   intercept_scaling=1, l1_ratio=None, max_iter=100,\n",
    "                   multi_class='warn', n_jobs=None, penalty='l2',\n",
    "                   random_state=None, solver='newton-cg', tol=0.0001, verbose=0,\n",
    "                   warm_start=False)\n",
    "pred_train, pred_test=BuildModel(lr_best, X_train, y_train, X_test,kf, ntrain, ntest, nclass, NFOLDS)"
   ]
  },
  {
   "cell_type": "code",
   "execution_count": 52,
   "metadata": {},
   "outputs": [
    {
     "name": "stdout",
     "output_type": "stream",
     "text": [
      "0.16696914700544463\n",
      "0.07929292929292929\n"
     ]
    },
    {
     "data": {
      "image/png": "[encoded data removed]",
      "text/plain": [
       "<Figure size 864x576 with 1 Axes>"
      ]
     },
     "metadata": {
      "needs_background": "light"
     },
     "output_type": "display_data"
    }
   ],
   "source": [
    "thresholds = np.linspace(0.01, 0.5, 100)\n",
    "f1_sc = np.array([f1_score(y_train,pred_train[:,1] > thr) for thr in thresholds])\n",
    "plt.figure(figsize=(12,8))\n",
    "plt.plot(thresholds, f1_sc, linewidth=4 )\n",
    "plt.ylabel(\"F1 score\", fontsize=18)\n",
    "plt.xlabel(\"Threshold\", fontsize=18)\n",
    "best_lr = thresholds[f1_sc.argmax()]\n",
    "print(f1_sc.max())\n",
    "print(best_lr)"
   ]
  },
  {
   "cell_type": "code",
   "execution_count": 53,
   "metadata": {},
   "outputs": [
    {
     "name": "stdout",
     "output_type": "stream",
     "text": [
      "              precision    recall  f1-score   support\n",
      "\n",
      "      Normal     0.9585    0.8233    0.8858      6485\n",
      "  Bankruptcy     0.1075    0.3740    0.1670       369\n",
      "\n",
      "    accuracy                         0.7991      6854\n",
      "   macro avg     0.5330    0.5986    0.5264      6854\n",
      "weighted avg     0.9127    0.7991    0.8471      6854\n",
      "\n",
      "[[5339 1146]\n",
      " [ 231  138]]\n"
     ]
    }
   ],
   "source": [
    "show_accuracy(pred_train[:,1],y_train, labels, best_lr, nclass)"
   ]
  },
  {
   "cell_type": "code",
   "execution_count": null,
   "metadata": {},
   "outputs": [],
   "source": []
  },
  {
   "cell_type": "markdown",
   "metadata": {},
   "source": [
    "## Decision tree"
   ]
  },
  {
   "cell_type": "code",
   "execution_count": 54,
   "metadata": {},
   "outputs": [
    {
     "name": "stdout",
     "output_type": "stream",
     "text": [
      "tr_ind :  [   0    1    2 ... 6851 6852 6853]\n",
      "6854 6854\n",
      "0 accuracy 0.9460641399416909\n",
      "6854 6854\n",
      "1 accuracy 0.9387755102040817\n",
      "6854 6854\n",
      "2 accuracy 0.9489795918367347\n",
      "6854 6854\n",
      "3 accuracy 0.9460641399416909\n",
      "6854 6854\n",
      "4 accuracy 0.9445255474452555\n",
      "6854 6854\n",
      "5 accuracy 0.9445255474452555\n",
      "6854 6854\n",
      "6 accuracy 0.9416058394160584\n",
      "6854 6854\n",
      "7 accuracy 0.9240875912408759\n",
      "6854 6854\n",
      "8 accuracy 0.945985401459854\n",
      "6854 6854\n",
      "9 accuracy 0.9562043795620438\n",
      "Mean: 0.9436817688493541 ; Stdev: 0.007843961960713975\n"
     ]
    }
   ],
   "source": [
    "dt_best = DecisionTreeClassifier(class_weight=None, criterion='gini', max_depth=50,\n",
    "                       max_features=None, max_leaf_nodes=150,\n",
    "                       min_impurity_decrease=0.0, min_impurity_split=None,\n",
    "                       min_samples_leaf=1, min_samples_split=2,\n",
    "                       min_weight_fraction_leaf=0.0, presort=False,\n",
    "                       random_state=None, splitter='best')\n",
    "pred_train_dt, pred_test_dt=BuildModel(dt_best, X_train, y_train, X_test,kf, ntrain, ntest, nclass, NFOLDS)"
   ]
  },
  {
   "cell_type": "code",
   "execution_count": 55,
   "metadata": {},
   "outputs": [
    {
     "name": "stdout",
     "output_type": "stream",
     "text": [
      "0.45014245014245013\n",
      "0.2525252525252525\n"
     ]
    },
    {
     "data": {
      "image/png": "[encoded data removed]",
      "text/plain": [
       "<Figure size 864x576 with 1 Axes>"
      ]
     },
     "metadata": {
      "needs_background": "light"
     },
     "output_type": "display_data"
    }
   ],
   "source": [
    "thresholds = np.linspace(0.01, 0.5, 100)\n",
    "f1_sc_dt = np.array([f1_score(y_train,pred_train_dt[:,1] > thr) for thr in thresholds])\n",
    "plt.figure(figsize=(12,8))\n",
    "plt.plot(thresholds, f1_sc_dt, linewidth=4 )\n",
    "plt.ylabel(\"F1 score\", fontsize=18)\n",
    "plt.xlabel(\"Threshold\", fontsize=18)\n",
    "best_dt_f1 = thresholds[f1_sc_dt.argmax()]\n",
    "print(f1_sc_dt.max())\n",
    "print(best_dt_f1)"
   ]
  },
  {
   "cell_type": "code",
   "execution_count": 56,
   "metadata": {},
   "outputs": [
    {
     "name": "stdout",
     "output_type": "stream",
     "text": [
      "              precision    recall  f1-score   support\n",
      "\n",
      "      Normal     0.9676    0.9730    0.9703      6485\n",
      "  Bankruptcy     0.4745    0.4282    0.4501       369\n",
      "\n",
      "    accuracy                         0.9437      6854\n",
      "   macro avg     0.7211    0.7006    0.7102      6854\n",
      "weighted avg     0.9411    0.9437    0.9423      6854\n",
      "\n",
      "[[6310  175]\n",
      " [ 211  158]]\n"
     ]
    }
   ],
   "source": [
    "show_accuracy(pred_train_dt[:,1],y_train, labels, best_dt_f1, nclass)"
   ]
  },
  {
   "cell_type": "code",
   "execution_count": 57,
   "metadata": {},
   "outputs": [
    {
     "name": "stdout",
     "output_type": "stream",
     "text": [
      "   feature  importance\n",
      "33     X34    0.113105\n",
      "26     X27    0.108927\n",
      "45     X46    0.081682\n",
      "3       X4    0.071209\n",
      "55     X56    0.047057\n",
      "20     X21    0.043060\n",
      "4       X5    0.038977\n",
      "43     X44    0.036382\n",
      "14     X15    0.029444\n",
      "28     X29    0.028239\n"
     ]
    },
    {
     "data": {
      "text/html": [
       "<div>\n",
       "<style scoped>\n",
       "    .dataframe tbody tr th:only-of-type {\n",
       "        vertical-align: middle;\n",
       "    }\n",
       "\n",
       "    .dataframe tbody tr th {\n",
       "        vertical-align: top;\n",
       "    }\n",
       "\n",
       "    .dataframe thead th {\n",
       "        text-align: right;\n",
       "    }\n",
       "</style>\n",
       "<table border=\"1\" class=\"dataframe\">\n",
       "  <thead>\n",
       "    <tr style=\"text-align: right;\">\n",
       "      <th></th>\n",
       "      <th>feature</th>\n",
       "      <th>importance</th>\n",
       "    </tr>\n",
       "  </thead>\n",
       "  <tbody>\n",
       "    <tr>\n",
       "      <td>33</td>\n",
       "      <td>X34</td>\n",
       "      <td>0.113105</td>\n",
       "    </tr>\n",
       "    <tr>\n",
       "      <td>26</td>\n",
       "      <td>X27</td>\n",
       "      <td>0.108927</td>\n",
       "    </tr>\n",
       "    <tr>\n",
       "      <td>45</td>\n",
       "      <td>X46</td>\n",
       "      <td>0.081682</td>\n",
       "    </tr>\n",
       "    <tr>\n",
       "      <td>3</td>\n",
       "      <td>X4</td>\n",
       "      <td>0.071209</td>\n",
       "    </tr>\n",
       "    <tr>\n",
       "      <td>55</td>\n",
       "      <td>X56</td>\n",
       "      <td>0.047057</td>\n",
       "    </tr>\n",
       "    <tr>\n",
       "      <td>...</td>\n",
       "      <td>...</td>\n",
       "      <td>...</td>\n",
       "    </tr>\n",
       "    <tr>\n",
       "      <td>22</td>\n",
       "      <td>X23</td>\n",
       "      <td>0.000000</td>\n",
       "    </tr>\n",
       "    <tr>\n",
       "      <td>27</td>\n",
       "      <td>X28</td>\n",
       "      <td>0.000000</td>\n",
       "    </tr>\n",
       "    <tr>\n",
       "      <td>42</td>\n",
       "      <td>X43</td>\n",
       "      <td>0.000000</td>\n",
       "    </tr>\n",
       "    <tr>\n",
       "      <td>41</td>\n",
       "      <td>X42</td>\n",
       "      <td>0.000000</td>\n",
       "    </tr>\n",
       "    <tr>\n",
       "      <td>32</td>\n",
       "      <td>X33</td>\n",
       "      <td>0.000000</td>\n",
       "    </tr>\n",
       "  </tbody>\n",
       "</table>\n",
       "<p>64 rows × 2 columns</p>\n",
       "</div>"
      ],
      "text/plain": [
       "   feature  importance\n",
       "33     X34    0.113105\n",
       "26     X27    0.108927\n",
       "45     X46    0.081682\n",
       "3       X4    0.071209\n",
       "55     X56    0.047057\n",
       "..     ...         ...\n",
       "22     X23    0.000000\n",
       "27     X28    0.000000\n",
       "42     X43    0.000000\n",
       "41     X42    0.000000\n",
       "32     X33    0.000000\n",
       "\n",
       "[64 rows x 2 columns]"
      ]
     },
     "execution_count": 57,
     "metadata": {},
     "output_type": "execute_result"
    },
    {
     "data": {
      "text/plain": [
       "<Figure size 864x576 with 0 Axes>"
      ]
     },
     "metadata": {},
     "output_type": "display_data"
    },
    {
     "data": {
      "image/png": "[encoded data removed]",
      "text/plain": [
       "<Figure size 432x288 with 1 Axes>"
      ]
     },
     "metadata": {
      "needs_background": "light"
     },
     "output_type": "display_data"
    }
   ],
   "source": [
    "show_feature_importance(dt_best, data.columns[:-1], 'Decision tree')"
   ]
  },
  {
   "cell_type": "markdown",
   "metadata": {},
   "source": [
    "## Random forest"
   ]
  },
  {
   "cell_type": "code",
   "execution_count": 58,
   "metadata": {},
   "outputs": [
    {
     "name": "stdout",
     "output_type": "stream",
     "text": [
      "tr_ind :  [   0    1    2 ... 6851 6852 6853]\n",
      "6854 6854\n",
      "0 accuracy 0.9577259475218659\n",
      "6854 6854\n",
      "1 accuracy 0.9475218658892128\n",
      "6854 6854\n",
      "2 accuracy 0.9693877551020408\n",
      "6854 6854\n",
      "3 accuracy 0.9620991253644315\n",
      "6854 6854\n",
      "4 accuracy 0.9605839416058394\n",
      "6854 6854\n",
      "5 accuracy 0.9605839416058394\n",
      "6854 6854\n",
      "6 accuracy 0.9576642335766423\n",
      "6854 6854\n",
      "7 accuracy 0.9576642335766423\n",
      "6854 6854\n",
      "8 accuracy 0.9678832116788321\n",
      "6854 6854\n",
      "9 accuracy 0.9635036496350365\n",
      "Mean: 0.9604617905556383 ; Stdev: 0.005807693912769681\n"
     ]
    }
   ],
   "source": [
    "rf_best = RandomForestClassifier(bootstrap=True, class_weight=None, criterion='gini',\n",
    "                       max_depth=25, max_features=64, max_leaf_nodes=25,\n",
    "                       min_impurity_decrease=0.0, min_impurity_split=None,\n",
    "                       min_samples_leaf=1, min_samples_split=2,\n",
    "                       min_weight_fraction_leaf=0.0, n_estimators=150,\n",
    "                       n_jobs=None, oob_score=False, random_state=None,\n",
    "                       verbose=0, warm_start=False)\n",
    "\n",
    "pred_train_rf, pred_test_rf = BuildModel(rf_best, X_train, y_train, X_test,kf, ntrain, ntest, nclass, NFOLDS)"
   ]
  },
  {
   "cell_type": "code",
   "execution_count": 59,
   "metadata": {},
   "outputs": [
    {
     "name": "stdout",
     "output_type": "stream",
     "text": [
      "f1 score of random forest:  0.5633333333333334\n",
      "0.22777777777777777\n"
     ]
    },
    {
     "data": {
      "image/png": "[encoded data removed]",
      "text/plain": [
       "<Figure size 864x576 with 1 Axes>"
      ]
     },
     "metadata": {
      "needs_background": "light"
     },
     "output_type": "display_data"
    }
   ],
   "source": [
    "thresholds = np.linspace(0.01, 0.5, 100)\n",
    "f1_sc_rf = np.array([f1_score(y_train,pred_train_rf[:,1] > thr) for thr in thresholds])\n",
    "plt.figure(figsize=(12,8))\n",
    "plt.plot(thresholds, f1_sc_rf, linewidth=4 )\n",
    "plt.ylabel(\"F1 score\", fontsize=18)\n",
    "plt.xlabel(\"Threshold\", fontsize=18)\n",
    "best_rf_f1 = thresholds[f1_sc_rf.argmax()]\n",
    "print('f1 score of random forest: ', f1_sc_rf.max())\n",
    "print(best_rf_f1)"
   ]
  },
  {
   "cell_type": "code",
   "execution_count": 60,
   "metadata": {},
   "outputs": [
    {
     "name": "stdout",
     "output_type": "stream",
     "text": [
      "              precision    recall  f1-score   support\n",
      "\n",
      "      Normal     0.9698    0.9904    0.9800      6485\n",
      "  Bankruptcy     0.7316    0.4580    0.5633       369\n",
      "\n",
      "    accuracy                         0.9618      6854\n",
      "   macro avg     0.8507    0.7242    0.7717      6854\n",
      "weighted avg     0.9570    0.9618    0.9576      6854\n",
      "\n",
      "[[6423   62]\n",
      " [ 200  169]]\n"
     ]
    }
   ],
   "source": [
    "show_accuracy(pred_train_rf[:,1],y_train, labels, best_rf_f1, nclass)"
   ]
  },
  {
   "cell_type": "code",
   "execution_count": 61,
   "metadata": {},
   "outputs": [
    {
     "name": "stdout",
     "output_type": "stream",
     "text": [
      "   feature  importance\n",
      "33     X34    0.214200\n",
      "26     X27    0.119428\n",
      "45     X46    0.083029\n",
      "57     X58    0.045974\n",
      "4       X5    0.045830\n",
      "55     X56    0.036355\n",
      "20     X21    0.034766\n",
      "43     X44    0.031328\n",
      "34     X35    0.027977\n",
      "31     X32    0.025135\n"
     ]
    },
    {
     "data": {
      "text/html": [
       "<div>\n",
       "<style scoped>\n",
       "    .dataframe tbody tr th:only-of-type {\n",
       "        vertical-align: middle;\n",
       "    }\n",
       "\n",
       "    .dataframe tbody tr th {\n",
       "        vertical-align: top;\n",
       "    }\n",
       "\n",
       "    .dataframe thead th {\n",
       "        text-align: right;\n",
       "    }\n",
       "</style>\n",
       "<table border=\"1\" class=\"dataframe\">\n",
       "  <thead>\n",
       "    <tr style=\"text-align: right;\">\n",
       "      <th></th>\n",
       "      <th>feature</th>\n",
       "      <th>importance</th>\n",
       "    </tr>\n",
       "  </thead>\n",
       "  <tbody>\n",
       "    <tr>\n",
       "      <td>33</td>\n",
       "      <td>X34</td>\n",
       "      <td>0.214200</td>\n",
       "    </tr>\n",
       "    <tr>\n",
       "      <td>26</td>\n",
       "      <td>X27</td>\n",
       "      <td>0.119428</td>\n",
       "    </tr>\n",
       "    <tr>\n",
       "      <td>45</td>\n",
       "      <td>X46</td>\n",
       "      <td>0.083029</td>\n",
       "    </tr>\n",
       "    <tr>\n",
       "      <td>57</td>\n",
       "      <td>X58</td>\n",
       "      <td>0.045974</td>\n",
       "    </tr>\n",
       "    <tr>\n",
       "      <td>4</td>\n",
       "      <td>X5</td>\n",
       "      <td>0.045830</td>\n",
       "    </tr>\n",
       "    <tr>\n",
       "      <td>...</td>\n",
       "      <td>...</td>\n",
       "      <td>...</td>\n",
       "    </tr>\n",
       "    <tr>\n",
       "      <td>17</td>\n",
       "      <td>X18</td>\n",
       "      <td>0.000942</td>\n",
       "    </tr>\n",
       "    <tr>\n",
       "      <td>6</td>\n",
       "      <td>X7</td>\n",
       "      <td>0.000734</td>\n",
       "    </tr>\n",
       "    <tr>\n",
       "      <td>1</td>\n",
       "      <td>X2</td>\n",
       "      <td>0.000730</td>\n",
       "    </tr>\n",
       "    <tr>\n",
       "      <td>9</td>\n",
       "      <td>X10</td>\n",
       "      <td>0.000479</td>\n",
       "    </tr>\n",
       "    <tr>\n",
       "      <td>7</td>\n",
       "      <td>X8</td>\n",
       "      <td>0.000382</td>\n",
       "    </tr>\n",
       "  </tbody>\n",
       "</table>\n",
       "<p>64 rows × 2 columns</p>\n",
       "</div>"
      ],
      "text/plain": [
       "   feature  importance\n",
       "33     X34    0.214200\n",
       "26     X27    0.119428\n",
       "45     X46    0.083029\n",
       "57     X58    0.045974\n",
       "4       X5    0.045830\n",
       "..     ...         ...\n",
       "17     X18    0.000942\n",
       "6       X7    0.000734\n",
       "1       X2    0.000730\n",
       "9      X10    0.000479\n",
       "7       X8    0.000382\n",
       "\n",
       "[64 rows x 2 columns]"
      ]
     },
     "execution_count": 61,
     "metadata": {},
     "output_type": "execute_result"
    },
    {
     "data": {
      "text/plain": [
       "<Figure size 864x576 with 0 Axes>"
      ]
     },
     "metadata": {},
     "output_type": "display_data"
    },
    {
     "data": {
      "image/png": "[encoded data removed]",
      "text/plain": [
       "<Figure size 432x288 with 1 Axes>"
      ]
     },
     "metadata": {
      "needs_background": "light"
     },
     "output_type": "display_data"
    }
   ],
   "source": [
    "show_feature_importance(rf_best, data.columns[:-1], 'Random forest')"
   ]
  },
  {
   "cell_type": "markdown",
   "metadata": {},
   "source": [
    "## Xgboost"
   ]
  },
  {
   "cell_type": "code",
   "execution_count": 62,
   "metadata": {},
   "outputs": [
    {
     "name": "stdout",
     "output_type": "stream",
     "text": [
      "0 accuracy 0.956268221574344\n",
      "1 accuracy 0.9518950437317785\n",
      "2 accuracy 0.9737609329446064\n",
      "3 accuracy 0.967930029154519\n",
      "4 accuracy 0.9708029197080292\n",
      "5 accuracy 0.962043795620438\n",
      "6 accuracy 0.962043795620438\n",
      "7 accuracy 0.964963503649635\n",
      "8 accuracy 0.9795620437956204\n",
      "9 accuracy 0.964963503649635\n",
      "Mean: 0.9654233789449045 ; Stdev: 0.0077119277884401425\n"
     ]
    }
   ],
   "source": [
    "xgb_best = xgb.XGBClassifier(base_score=0.5, booster='gbtree', colsample_bylevel=1,\n",
    "              colsample_bynode=1, colsample_bytree=1, eta=0.3, gamma=0,\n",
    "              learning_rate=0.35, max_delta_step=0, max_depth=8,\n",
    "              min_child_weight=1, missing=None, n_estimators=100, n_jobs=1,\n",
    "              nthread=None, objective='binary:logitraw', random_state=0,\n",
    "              reg_alpha=0, reg_lambda=1, scale_pos_weight=1, seed=None,\n",
    "              silent=None, subsample=1, verbosity=1)\n",
    "\n",
    "pred_train_xgb, pred_test_xgb = BuildModel_Xgb(xgb_best, X_train, y_train, X_test, kf, ntrain, ntest, nclass, NFOLDS)"
   ]
  },
  {
   "cell_type": "code",
   "execution_count": 63,
   "metadata": {},
   "outputs": [
    {
     "name": "stdout",
     "output_type": "stream",
     "text": [
      "0.5850091407678245\n"
     ]
    },
    {
     "data": {
      "image/png": "[encoded data removed]",
      "text/plain": [
       "<Figure size 864x576 with 1 Axes>"
      ]
     },
     "metadata": {
      "needs_background": "light"
     },
     "output_type": "display_data"
    }
   ],
   "source": [
    "thresholds = np.linspace(0.01, 0.5, 100)\n",
    "f1_sc_xgb = np.array([f1_score(y_train,pred_train_xgb[:,1] > thr) for thr in thresholds])\n",
    "plt.figure(figsize=(12,8))\n",
    "plt.plot(thresholds, f1_sc_xgb, linewidth=4 )\n",
    "plt.ylabel(\"F1 score\", fontsize=18)\n",
    "plt.xlabel(\"Threshold\", fontsize=18)\n",
    "best_thr_xgb = thresholds[f1_sc_xgb.argmax()]\n",
    "print(f1_sc_xgb.max())"
   ]
  },
  {
   "cell_type": "code",
   "execution_count": 64,
   "metadata": {},
   "outputs": [
    {
     "name": "stdout",
     "output_type": "stream",
     "text": [
      "              precision    recall  f1-score   support\n",
      "\n",
      "      Normal     0.9687    0.9972    0.9828      6485\n",
      "  Bankruptcy     0.8989    0.4336    0.5850       369\n",
      "\n",
      "    accuracy                         0.9669      6854\n",
      "   macro avg     0.9338    0.7154    0.7839      6854\n",
      "weighted avg     0.9649    0.9669    0.9613      6854\n",
      "\n",
      "[[6467   18]\n",
      " [ 209  160]]\n"
     ]
    }
   ],
   "source": [
    "show_accuracy(pred_train_xgb[:,1],y_train, labels, best_thr_xgb, nclass)"
   ]
  },
  {
   "cell_type": "code",
   "execution_count": 65,
   "metadata": {},
   "outputs": [
    {
     "name": "stdout",
     "output_type": "stream",
     "text": [
      "   feature  importance\n",
      "15     X16    0.052662\n",
      "33     X34    0.050553\n",
      "3       X4    0.048976\n",
      "25     X26    0.041143\n",
      "26     X27    0.033940\n",
      "12     X13    0.031387\n",
      "55     X56    0.030053\n",
      "31     X32    0.027960\n",
      "20     X21    0.025659\n",
      "4       X5    0.023498\n"
     ]
    },
    {
     "data": {
      "text/html": [
       "<div>\n",
       "<style scoped>\n",
       "    .dataframe tbody tr th:only-of-type {\n",
       "        vertical-align: middle;\n",
       "    }\n",
       "\n",
       "    .dataframe tbody tr th {\n",
       "        vertical-align: top;\n",
       "    }\n",
       "\n",
       "    .dataframe thead th {\n",
       "        text-align: right;\n",
       "    }\n",
       "</style>\n",
       "<table border=\"1\" class=\"dataframe\">\n",
       "  <thead>\n",
       "    <tr style=\"text-align: right;\">\n",
       "      <th></th>\n",
       "      <th>feature</th>\n",
       "      <th>importance</th>\n",
       "    </tr>\n",
       "  </thead>\n",
       "  <tbody>\n",
       "    <tr>\n",
       "      <td>15</td>\n",
       "      <td>X16</td>\n",
       "      <td>0.052662</td>\n",
       "    </tr>\n",
       "    <tr>\n",
       "      <td>33</td>\n",
       "      <td>X34</td>\n",
       "      <td>0.050553</td>\n",
       "    </tr>\n",
       "    <tr>\n",
       "      <td>3</td>\n",
       "      <td>X4</td>\n",
       "      <td>0.048976</td>\n",
       "    </tr>\n",
       "    <tr>\n",
       "      <td>25</td>\n",
       "      <td>X26</td>\n",
       "      <td>0.041143</td>\n",
       "    </tr>\n",
       "    <tr>\n",
       "      <td>26</td>\n",
       "      <td>X27</td>\n",
       "      <td>0.033940</td>\n",
       "    </tr>\n",
       "    <tr>\n",
       "      <td>...</td>\n",
       "      <td>...</td>\n",
       "      <td>...</td>\n",
       "    </tr>\n",
       "    <tr>\n",
       "      <td>59</td>\n",
       "      <td>X60</td>\n",
       "      <td>0.001241</td>\n",
       "    </tr>\n",
       "    <tr>\n",
       "      <td>16</td>\n",
       "      <td>X17</td>\n",
       "      <td>0.001048</td>\n",
       "    </tr>\n",
       "    <tr>\n",
       "      <td>13</td>\n",
       "      <td>X14</td>\n",
       "      <td>0.000000</td>\n",
       "    </tr>\n",
       "    <tr>\n",
       "      <td>17</td>\n",
       "      <td>X18</td>\n",
       "      <td>0.000000</td>\n",
       "    </tr>\n",
       "    <tr>\n",
       "      <td>62</td>\n",
       "      <td>X63</td>\n",
       "      <td>0.000000</td>\n",
       "    </tr>\n",
       "  </tbody>\n",
       "</table>\n",
       "<p>64 rows × 2 columns</p>\n",
       "</div>"
      ],
      "text/plain": [
       "   feature  importance\n",
       "15     X16    0.052662\n",
       "33     X34    0.050553\n",
       "3       X4    0.048976\n",
       "25     X26    0.041143\n",
       "26     X27    0.033940\n",
       "..     ...         ...\n",
       "59     X60    0.001241\n",
       "16     X17    0.001048\n",
       "13     X14    0.000000\n",
       "17     X18    0.000000\n",
       "62     X63    0.000000\n",
       "\n",
       "[64 rows x 2 columns]"
      ]
     },
     "execution_count": 65,
     "metadata": {},
     "output_type": "execute_result"
    },
    {
     "data": {
      "text/plain": [
       "<Figure size 864x576 with 0 Axes>"
      ]
     },
     "metadata": {},
     "output_type": "display_data"
    },
    {
     "data": {
      "image/png": "[encoded data removed]",
      "text/plain": [
       "<Figure size 432x288 with 1 Axes>"
      ]
     },
     "metadata": {
      "needs_background": "light"
     },
     "output_type": "display_data"
    }
   ],
   "source": [
    "show_feature_importance(xgb_best, data.columns[:-1], 'XGboost')"
   ]
  },
  {
   "cell_type": "code",
   "execution_count": 13,
   "metadata": {},
   "outputs": [
    {
     "name": "stderr",
     "output_type": "stream",
     "text": [
      "C:\\Developement\\Anaconda\\lib\\site-packages\\sklearn\\discriminant_analysis.py:388: UserWarning: Variables are collinear.\n",
      "  warnings.warn(\"Variables are collinear.\")\n",
      "C:\\Developement\\Anaconda\\lib\\site-packages\\sklearn\\discriminant_analysis.py:388: UserWarning: Variables are collinear.\n",
      "  warnings.warn(\"Variables are collinear.\")\n"
     ]
    },
    {
     "name": "stdout",
     "output_type": "stream",
     "text": [
      "0.9465622872702518\n",
      "tr_ind :  [   0    1    2 ... 6851 6852 6853]\n",
      "6854 6854\n",
      "0 accuracy 0.9387755102040817\n",
      "6854 6854\n"
     ]
    },
    {
     "name": "stderr",
     "output_type": "stream",
     "text": [
      "C:\\Developement\\Anaconda\\lib\\site-packages\\sklearn\\discriminant_analysis.py:388: UserWarning: Variables are collinear.\n",
      "  warnings.warn(\"Variables are collinear.\")\n",
      "C:\\Developement\\Anaconda\\lib\\site-packages\\sklearn\\discriminant_analysis.py:388: UserWarning: Variables are collinear.\n",
      "  warnings.warn(\"Variables are collinear.\")\n",
      "C:\\Developement\\Anaconda\\lib\\site-packages\\sklearn\\discriminant_analysis.py:388: UserWarning: Variables are collinear.\n",
      "  warnings.warn(\"Variables are collinear.\")\n"
     ]
    },
    {
     "name": "stdout",
     "output_type": "stream",
     "text": [
      "1 accuracy 0.9256559766763849\n",
      "6854 6854\n",
      "2 accuracy 0.956268221574344\n",
      "6854 6854\n"
     ]
    },
    {
     "name": "stderr",
     "output_type": "stream",
     "text": [
      "C:\\Developement\\Anaconda\\lib\\site-packages\\sklearn\\discriminant_analysis.py:388: UserWarning: Variables are collinear.\n",
      "  warnings.warn(\"Variables are collinear.\")\n",
      "C:\\Developement\\Anaconda\\lib\\site-packages\\sklearn\\discriminant_analysis.py:388: UserWarning: Variables are collinear.\n",
      "  warnings.warn(\"Variables are collinear.\")\n"
     ]
    },
    {
     "name": "stdout",
     "output_type": "stream",
     "text": [
      "3 accuracy 0.9358600583090378\n",
      "6854 6854\n",
      "4 accuracy 0.945985401459854\n",
      "6854 6854\n"
     ]
    },
    {
     "name": "stderr",
     "output_type": "stream",
     "text": [
      "C:\\Developement\\Anaconda\\lib\\site-packages\\sklearn\\discriminant_analysis.py:388: UserWarning: Variables are collinear.\n",
      "  warnings.warn(\"Variables are collinear.\")\n",
      "C:\\Developement\\Anaconda\\lib\\site-packages\\sklearn\\discriminant_analysis.py:388: UserWarning: Variables are collinear.\n",
      "  warnings.warn(\"Variables are collinear.\")\n"
     ]
    },
    {
     "name": "stdout",
     "output_type": "stream",
     "text": [
      "5 accuracy 0.9386861313868613\n",
      "6854 6854\n",
      "6 accuracy 0.9416058394160584\n",
      "6854 6854\n"
     ]
    },
    {
     "name": "stderr",
     "output_type": "stream",
     "text": [
      "C:\\Developement\\Anaconda\\lib\\site-packages\\sklearn\\discriminant_analysis.py:388: UserWarning: Variables are collinear.\n",
      "  warnings.warn(\"Variables are collinear.\")\n"
     ]
    },
    {
     "name": "stdout",
     "output_type": "stream",
     "text": [
      "7 accuracy 0.9372262773722628\n",
      "6854 6854\n",
      "8 accuracy 0.9547445255474453\n",
      "6854 6854\n",
      "9 accuracy 0.9401459854014599\n",
      "Mean: 0.9414953927347789 ; Stdev: 0.008555281530280864\n"
     ]
    },
    {
     "name": "stderr",
     "output_type": "stream",
     "text": [
      "C:\\Developement\\Anaconda\\lib\\site-packages\\sklearn\\discriminant_analysis.py:388: UserWarning: Variables are collinear.\n",
      "  warnings.warn(\"Variables are collinear.\")\n"
     ]
    }
   ],
   "source": [
    "from sklearn.discriminant_analysis import LinearDiscriminantAnalysis as LDA\n",
    "\n",
    "lda = LDA()\n",
    "\n",
    "lda.fit(X_train, y_train)\n",
    "\n",
    "prediction = lda.predict(X_test)\n",
    "score = lda.score(X_test, y_test)\n",
    "print(score)\n",
    "\n",
    "pred_train_lda, pred_test_lda = BuildModel(lda, X_train, y_train, X_test,kf, ntrain, ntest, nclass, NFOLDS)"
   ]
  },
  {
   "cell_type": "code",
   "execution_count": 14,
   "metadata": {},
   "outputs": [
    {
     "name": "stdout",
     "output_type": "stream",
     "text": [
      "0.20614334470989765\n"
     ]
    },
    {
     "data": {
      "image/png": "[encoded data removed]",
      "text/plain": [
       "<Figure size 864x576 with 1 Axes>"
      ]
     },
     "metadata": {
      "needs_background": "light"
     },
     "output_type": "display_data"
    }
   ],
   "source": [
    "thresholds = np.linspace(0.01, 0.5, 100)\n",
    "f1_sc_lda = np.array([f1_score(y_train,pred_train_lda[:,1] > thr) for thr in thresholds])\n",
    "plt.figure(figsize=(12,8))\n",
    "plt.plot(thresholds, f1_sc_lda, linewidth=4 )\n",
    "plt.ylabel(\"F1 score\", fontsize=18)\n",
    "plt.xlabel(\"Threshold\", fontsize=18)\n",
    "best_thr_lda = thresholds[f1_sc_lda.argmax()]\n",
    "print(f1_sc_lda.max())"
   ]
  },
  {
   "cell_type": "code",
   "execution_count": 15,
   "metadata": {},
   "outputs": [
    {
     "name": "stdout",
     "output_type": "stream",
     "text": [
      "              precision    recall  f1-score   support\n",
      "\n",
      "      Normal     0.9621    0.8543    0.9050      6485\n",
      "  Bankruptcy     0.1378    0.4092    0.2061       369\n",
      "\n",
      "    accuracy                         0.8303      6854\n",
      "   macro avg     0.5500    0.6317    0.5556      6854\n",
      "weighted avg     0.9178    0.8303    0.8674      6854\n",
      "\n",
      "[[5540  945]\n",
      " [ 218  151]]\n"
     ]
    }
   ],
   "source": [
    "show_accuracy(pred_train_lda[:,1],y_train, labels, best_thr_lda, nclass)"
   ]
  },
  {
   "cell_type": "code",
   "execution_count": null,
   "metadata": {},
   "outputs": [],
   "source": []
  }
 ],
 "metadata": {
  "kernelspec": {
   "display_name": "Python 3",
   "language": "python",
   "name": "python3"
  },
  "language_info": {
   "codemirror_mode": {
    "name": "ipython",
    "version": 3
   },
   "file_extension": ".py",
   "mimetype": "text/x-python",
   "name": "python",
   "nbconvert_exporter": "python",
   "pygments_lexer": "ipython3",
   "version": "3.7.4"
  }
 },
 "nbformat": 4,
 "nbformat_minor": 2
}
